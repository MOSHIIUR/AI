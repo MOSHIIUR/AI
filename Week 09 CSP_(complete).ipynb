{
 "cells": [
  {
   "cell_type": "code",
   "execution_count": 1,
   "metadata": {},
   "outputs": [],
   "source": [
    "# Define a new cgraph\n",
    "cgraph = {'WA': ['SA', 'NT'], \n",
    "          'Q': ['SA', 'NT', 'NSW'], \n",
    "          'T': [],\n",
    "          'V': ['SA', 'NSW'], \n",
    "          'SA': ['WA', 'NT', 'Q', 'NSW','V'], \n",
    "          'NT': ['Q', 'WA', 'SA'], \n",
    "          'NSW': ['Q', 'V', 'SA']}"
   ]
  },
  {
   "cell_type": "code",
   "execution_count": 2,
   "metadata": {},
   "outputs": [],
   "source": [
    "import random\n",
    "def get_color(node, rv, cg):\n",
    "    # CODE\n",
    "    # check rv[node] is empty or not when no color availabe\n",
    "    # return 'no color'\n",
    "    check = True\n",
    "    if(rv[node]):\n",
    "        check = False\n",
    "        print('Has node in keys?: True')\n",
    "    \n",
    "    if(not check):\n",
    "        color = random.choice(rv[node])\n",
    "        rv.pop(node) #update remaining value list\n",
    "        \n",
    "        # update remaining values for neihbouring node\n",
    "        adjList = cg[node]\n",
    "        for adj in adjList:\n",
    "            if adj in rv.keys():\n",
    "                rv[adj].remove(color)\n",
    "        return color\n",
    "    \n",
    "    else:\n",
    "        print(\"NO color\")\n",
    "        return 0 # 0 = noColor\n",
    "    #print(adjList)\n"
   ]
  },
  {
   "cell_type": "markdown",
   "metadata": {},
   "source": [
    "## Highest Degree Node"
   ]
  },
  {
   "cell_type": "code",
   "execution_count": 3,
   "metadata": {},
   "outputs": [],
   "source": [
    "# write a method to get the highest degree node\n",
    "def get_hdnode(cg, solved): # selecting node #which value has already assigned\n",
    "    mnode = ''\n",
    "    degree = -1\n",
    "    for k in cg.keys():\n",
    "        if len(cg[k])  > degree and k not in solved.keys(): #checking the length of the node\n",
    "            #print(k)\n",
    "            degree = len(cg[k])\n",
    "            mnode = k\n",
    "    return mnode"
   ]
  },
  {
   "cell_type": "markdown",
   "metadata": {},
   "source": [
    "# Color the nodes using Highest degree heuristic"
   ]
  },
  {
   "cell_type": "code",
   "execution_count": 4,
   "metadata": {
    "scrolled": false
   },
   "outputs": [
    {
     "name": "stdout",
     "output_type": "stream",
     "text": [
      "Highest DEgree Node:  SA\n",
      "Has node in keys?: True\n",
      "{'WA': ['R', 'B'], 'Q': ['R', 'B'], 'T': ['R', 'G', 'B'], 'V': ['R', 'B'], 'NT': ['R', 'B'], 'NSW': ['R', 'B']}\n",
      "{'SA': 'G'} \n",
      "\n",
      "Highest DEgree Node:  Q\n",
      "Has node in keys?: True\n",
      "{'WA': ['R', 'B'], 'T': ['R', 'G', 'B'], 'V': ['R', 'B'], 'NT': ['R'], 'NSW': ['R']}\n",
      "{'SA': 'G', 'Q': 'B'} \n",
      "\n",
      "Highest DEgree Node:  NT\n",
      "Has node in keys?: True\n",
      "{'WA': ['B'], 'T': ['R', 'G', 'B'], 'V': ['R', 'B'], 'NSW': ['R']}\n",
      "{'SA': 'G', 'Q': 'B', 'NT': 'R'} \n",
      "\n",
      "Highest DEgree Node:  NSW\n",
      "Has node in keys?: True\n",
      "{'WA': ['B'], 'T': ['R', 'G', 'B'], 'V': ['B']}\n",
      "{'SA': 'G', 'Q': 'B', 'NT': 'R', 'NSW': 'R'} \n",
      "\n",
      "Highest DEgree Node:  WA\n",
      "Has node in keys?: True\n",
      "{'T': ['R', 'G', 'B'], 'V': ['B']}\n",
      "{'SA': 'G', 'Q': 'B', 'NT': 'R', 'NSW': 'R', 'WA': 'B'} \n",
      "\n",
      "Highest DEgree Node:  V\n",
      "Has node in keys?: True\n",
      "{'T': ['R', 'G', 'B']}\n",
      "{'SA': 'G', 'Q': 'B', 'NT': 'R', 'NSW': 'R', 'WA': 'B', 'V': 'B'} \n",
      "\n",
      "Highest DEgree Node:  T\n",
      "Has node in keys?: True\n",
      "{}\n",
      "{'SA': 'G', 'Q': 'B', 'NT': 'R', 'NSW': 'R', 'WA': 'B', 'V': 'B', 'T': 'G'} \n",
      "\n"
     ]
    }
   ],
   "source": [
    "assigned = {} # store assignes variables with colors [solved]\n",
    "remainingValues = {'WA': ['R','G','B'], \n",
    "                    'Q': ['R','G','B'],\n",
    "                    'T': ['R','G','B'],\n",
    "                    'V':  ['R','G','B'], \n",
    "                    'NT': ['R','G','B'],\n",
    "                    'SA': ['R','G','B'],                    \n",
    "                    'NSW': ['R','G','B']}\n",
    "\n",
    "for i in range(len(cgraph)): #selecting node coloring using loop\n",
    "    \n",
    "    # assign color to the highest degree node\n",
    "    hdNode = get_hdnode(cgraph, assigned)  #select highest degree node\n",
    "    print(\"Highest DEgree Node: \", hdNode)\n",
    "    \n",
    "    color = get_color(hdNode, remainingValues, cgraph) #coloring node\n",
    "    \n",
    "    # CODE\n",
    "    # check if 'no color' is returned\n",
    "    # print failure\n",
    "    if(color!=0):\n",
    "        assigned[hdNode]= color  #for which node color has assigned the information will be assigned\n",
    "        print(remainingValues)\n",
    "        print(assigned,\"\\n\")\n",
    "\n",
    "    else:\n",
    "        print(\"Failure\")\n",
    "        "
   ]
  },
  {
   "cell_type": "markdown",
   "metadata": {},
   "source": [
    "## Minimum Remaining Value"
   ]
  },
  {
   "cell_type": "code",
   "execution_count": 5,
   "metadata": {},
   "outputs": [],
   "source": [
    "\n",
    "# define a method to select a node by MRV\n",
    "def get_MRVnode(rv):\n",
    "    l=7\n",
    "    # CODE\n",
    "    #implement the logic on remainingValues list\n",
    "    for k in rv.keys():\n",
    "        if ( len(rv[k]) < l ):\n",
    "            l = len(rv[k])\n",
    "            node = k\n",
    "    #print(colorstochooselist[mnode])\n",
    "    return node\n"
   ]
  },
  {
   "cell_type": "markdown",
   "metadata": {},
   "source": [
    "Color the nodes using MRV heuristic"
   ]
  },
  {
   "cell_type": "code",
   "execution_count": 6,
   "metadata": {
    "scrolled": false
   },
   "outputs": [
    {
     "name": "stdout",
     "output_type": "stream",
     "text": [
      "Has node in keys?: True\n",
      "Color list:  {'Q': ['R', 'G', 'B'], 'T': ['R', 'G', 'B'], 'V': ['R', 'G', 'B'], 'NT': ['G', 'B'], 'SA': ['G', 'B'], 'NSW': ['R', 'G', 'B']}\n",
      "Assigned Color:  {'SA': 'R'}\n",
      "\n",
      "\n",
      "Has node in keys?: True\n",
      "Color list:  {'Q': ['R', 'B'], 'T': ['R', 'G', 'B'], 'V': ['R', 'G', 'B'], 'SA': ['B'], 'NSW': ['R', 'G', 'B']}\n",
      "Assigned Color:  {'SA': 'R', 'Q': 'G'}\n",
      "\n",
      "\n",
      "Has node in keys?: True\n",
      "Color list:  {'Q': ['R'], 'T': ['R', 'G', 'B'], 'V': ['R', 'G'], 'NSW': ['R', 'G']}\n",
      "Assigned Color:  {'SA': 'R', 'Q': 'G', 'NT': 'B'}\n",
      "\n",
      "\n",
      "Has node in keys?: True\n",
      "Color list:  {'T': ['R', 'G', 'B'], 'V': ['R', 'G'], 'NSW': ['G']}\n",
      "Assigned Color:  {'SA': 'R', 'Q': 'G', 'NT': 'B', 'NSW': 'R'}\n",
      "\n",
      "\n",
      "Has node in keys?: True\n",
      "Color list:  {'T': ['R', 'G', 'B'], 'V': ['R']}\n",
      "Assigned Color:  {'SA': 'R', 'Q': 'G', 'NT': 'B', 'NSW': 'R', 'WA': 'G'}\n",
      "\n",
      "\n",
      "Has node in keys?: True\n",
      "Color list:  {'T': ['R', 'G', 'B']}\n",
      "Assigned Color:  {'SA': 'R', 'Q': 'G', 'NT': 'B', 'NSW': 'R', 'WA': 'G', 'V': 'R'}\n",
      "\n",
      "\n",
      "Has node in keys?: True\n",
      "Color list:  {}\n",
      "Assigned Color:  {'SA': 'R', 'Q': 'G', 'NT': 'B', 'NSW': 'R', 'WA': 'G', 'V': 'R', 'T': 'B'}\n",
      "\n",
      "\n"
     ]
    }
   ],
   "source": [
    "assigned = {}\n",
    "\n",
    "remainingValues = {'WA': ['R','G','B'], \n",
    "                    'Q': ['R','G','B'],\n",
    "                    'T': ['R','G','B'],\n",
    "                    'V':  ['R','G','B'], \n",
    "                    'NT': ['R','G','B'],\n",
    "                    'SA': ['R','G','B'],                    \n",
    "                    'NSW': ['R','G','B']}\n",
    "\n",
    "for i in range(len(cgraph)):\n",
    "    # assign color to the highest degree node\n",
    "    mrvNode = get_MRVnode(remainingValues)\n",
    "    color = get_color(mrvNode, remainingValues, cgraph)\n",
    "    \n",
    "    # CODE\n",
    "    # check if 'no color' is returned\n",
    "    # print failure\n",
    "    if(color != 0):\n",
    "        \n",
    "        hdNode = get_hdnode(cgraph, assigned)\n",
    "        assigned[hdNode]= color\n",
    "        #print(remainingValues)\n",
    "        print('Color list: ',remainingValues)\n",
    "        print('Assigned Color: ',assigned)\n",
    "        print(\"\\n\")\n",
    "    \n",
    "    else:\n",
    "        print ('Print failure!')"
   ]
  },
  {
   "cell_type": "markdown",
   "metadata": {},
   "source": [
    "# with a new cgraph"
   ]
  },
  {
   "attachments": {
    "republic-of-forns.png": {
     "image/png": "[encoded data removed]"
    }
   },
   "cell_type": "markdown",
   "metadata": {},
   "source": [
    "![republic-of-forns.png](attachment:republic-of-forns.png)"
   ]
  },
  {
   "cell_type": "code",
   "execution_count": 7,
   "metadata": {},
   "outputs": [],
   "source": [
    "# Define a new cgraph\n",
    "cgraph = {'Fornsville': ['Forntopia', 'Fornstan'], \n",
    "          'Forntopia': ['Fornsville', 'Forntown'], \n",
    "          'Forntown': ['Forntopia', 'Fornstan', 'Fornaria'],\n",
    "          'Fornstan': ['Fornsville', 'Forntown', 'Fornaria'],\n",
    "          'Fornaria': ['Fornstan', 'Forntown']}\n",
    "          "
   ]
  },
  {
   "cell_type": "code",
   "execution_count": 8,
   "metadata": {},
   "outputs": [],
   "source": [
    "import random\n",
    "def get_color(node, rv, cg):\n",
    "    # CODE\n",
    "    # check rv[node] is empty or not when no color availabe\n",
    "    # return 'no color'\n",
    "    check = True\n",
    "    if(rv[node]):\n",
    "        check = False\n",
    "        print('Has node in keys?: True')\n",
    "    \n",
    "    if(not check):\n",
    "        color = random.choice(rv[node])\n",
    "        rv.pop(node)\n",
    "        # update remaining values for neihbouring node\n",
    "        adjList = cg[node]\n",
    "        for adj in adjList:\n",
    "            if adj in rv.keys():\n",
    "                rv[adj].remove(color)\n",
    "        return color\n",
    "    \n",
    "    else:\n",
    "        print(\"NO color\")\n",
    "        return 0 # 0 = noColor\n",
    "    #print(adjList)\n"
   ]
  },
  {
   "cell_type": "code",
   "execution_count": 9,
   "metadata": {},
   "outputs": [],
   "source": [
    "# write a method to get the highest degree node\n",
    "def get_hdnode(cg, solved):\n",
    "    mnode = ''\n",
    "    degree = -1\n",
    "    for k in cg.keys():\n",
    "        if len(cg[k])  > degree and k not in solved.keys():\n",
    "            #print(k)\n",
    "            degree = len(cg[k])\n",
    "            mnode = k\n",
    "    return mnode"
   ]
  },
  {
   "cell_type": "code",
   "execution_count": 10,
   "metadata": {},
   "outputs": [
    {
     "name": "stdout",
     "output_type": "stream",
     "text": [
      "Highest DEgree Node:  Forntown\n",
      "Has node in keys?: True\n",
      "{'Fornsville': ['R', 'G', 'B'], 'Forntopia': ['G', 'B'], 'Fornstan': ['G', 'B'], 'Fornaria': ['G', 'B']}\n",
      "{'Forntown': 'R'} \n",
      "\n",
      "Highest DEgree Node:  Fornstan\n",
      "Has node in keys?: True\n",
      "{'Fornsville': ['R', 'G'], 'Forntopia': ['G', 'B'], 'Fornaria': ['G']}\n",
      "{'Forntown': 'R', 'Fornstan': 'B'} \n",
      "\n",
      "Highest DEgree Node:  Fornsville\n",
      "Has node in keys?: True\n",
      "{'Forntopia': ['B'], 'Fornaria': ['G']}\n",
      "{'Forntown': 'R', 'Fornstan': 'B', 'Fornsville': 'G'} \n",
      "\n",
      "Highest DEgree Node:  Forntopia\n",
      "Has node in keys?: True\n",
      "{'Fornaria': ['G']}\n",
      "{'Forntown': 'R', 'Fornstan': 'B', 'Fornsville': 'G', 'Forntopia': 'B'} \n",
      "\n",
      "Highest DEgree Node:  Fornaria\n",
      "Has node in keys?: True\n",
      "{}\n",
      "{'Forntown': 'R', 'Fornstan': 'B', 'Fornsville': 'G', 'Forntopia': 'B', 'Fornaria': 'G'} \n",
      "\n"
     ]
    }
   ],
   "source": [
    "assigned = {} # store assignes variables with colors\n",
    "remainingValues = {'Fornsville': ['R','G','B'], \n",
    "                    'Forntopia': ['R','G','B'],\n",
    "                    'Forntown': ['R','G','B'],\n",
    "                    'Fornstan':  ['R','G','B'], \n",
    "                    'Fornaria': ['R','G','B'],\n",
    "                    }\n",
    "\n",
    "for i in range(len(cgraph)):\n",
    "    # assign color to the highest degree node\n",
    "    hdNode = get_hdnode(cgraph, assigned)\n",
    "    print(\"Highest DEgree Node: \", hdNode)\n",
    "    color = get_color(hdNode, remainingValues, cgraph)\n",
    "    # CODE\n",
    "    # check if 'no color' is returned\n",
    "    # print failure\n",
    "    if(color!=0):\n",
    "        assigned[hdNode]= color\n",
    "        print(remainingValues)\n",
    "        print(assigned,\"\\n\")\n",
    "\n",
    "    else:\n",
    "        print(\"Failure\")\n",
    "        "
   ]
  },
  {
   "cell_type": "code",
   "execution_count": 11,
   "metadata": {},
   "outputs": [],
   "source": [
    "\n",
    "# define a method to select a node by MRV\n",
    "def get_MRVnode(rv):\n",
    "    l=5\n",
    "    # CODE\n",
    "    #implement the logic on remainingValues list\n",
    "    for k in rv.keys():\n",
    "        if ( len(rv[k]) < l ):\n",
    "            l = len(rv[k])\n",
    "            node = k\n",
    "    #print(colorstochooselist[mnode])\n",
    "    return node\n"
   ]
  },
  {
   "cell_type": "code",
   "execution_count": 12,
   "metadata": {},
   "outputs": [
    {
     "name": "stdout",
     "output_type": "stream",
     "text": [
      "Has node in keys?: True\n",
      "Color list:  {'Forntopia': ['R', 'B'], 'Forntown': ['R', 'G', 'B'], 'Fornstan': ['R', 'B'], 'Fornaria': ['R', 'G', 'B']}\n",
      "Assigned Color:  {'Forntown': 'G'}\n",
      "\n",
      "\n",
      "Has node in keys?: True\n",
      "Color list:  {'Forntown': ['R', 'G'], 'Fornstan': ['R', 'B'], 'Fornaria': ['R', 'G', 'B']}\n",
      "Assigned Color:  {'Forntown': 'G', 'Fornstan': 'B'}\n",
      "\n",
      "\n",
      "Has node in keys?: True\n"
     ]
    },
    {
     "ename": "ValueError",
     "evalue": "list.remove(x): x not in list",
     "output_type": "error",
     "traceback": [
      "\u001b[1;31m---------------------------------------------------------------------------\u001b[0m",
      "\u001b[1;31mValueError\u001b[0m                                Traceback (most recent call last)",
      "\u001b[1;32m<ipython-input-12-161ab149db19>\u001b[0m in \u001b[0;36m<module>\u001b[1;34m\u001b[0m\n\u001b[0;32m     11\u001b[0m     \u001b[1;31m# assign color to the highest degree node\u001b[0m\u001b[1;33m\u001b[0m\u001b[1;33m\u001b[0m\u001b[1;33m\u001b[0m\u001b[0m\n\u001b[0;32m     12\u001b[0m     \u001b[0mmrvNode\u001b[0m \u001b[1;33m=\u001b[0m \u001b[0mget_MRVnode\u001b[0m\u001b[1;33m(\u001b[0m\u001b[0mremainingValues\u001b[0m\u001b[1;33m)\u001b[0m\u001b[1;33m\u001b[0m\u001b[1;33m\u001b[0m\u001b[0m\n\u001b[1;32m---> 13\u001b[1;33m     \u001b[0mcolor\u001b[0m \u001b[1;33m=\u001b[0m \u001b[0mget_color\u001b[0m\u001b[1;33m(\u001b[0m\u001b[0mmrvNode\u001b[0m\u001b[1;33m,\u001b[0m \u001b[0mremainingValues\u001b[0m\u001b[1;33m,\u001b[0m \u001b[0mcgraph\u001b[0m\u001b[1;33m)\u001b[0m\u001b[1;33m\u001b[0m\u001b[1;33m\u001b[0m\u001b[0m\n\u001b[0m\u001b[0;32m     14\u001b[0m \u001b[1;33m\u001b[0m\u001b[0m\n\u001b[0;32m     15\u001b[0m     \u001b[1;31m# CODE\u001b[0m\u001b[1;33m\u001b[0m\u001b[1;33m\u001b[0m\u001b[1;33m\u001b[0m\u001b[0m\n",
      "\u001b[1;32m<ipython-input-8-f16dce50b400>\u001b[0m in \u001b[0;36mget_color\u001b[1;34m(node, rv, cg)\u001b[0m\n\u001b[0;32m     16\u001b[0m         \u001b[1;32mfor\u001b[0m \u001b[0madj\u001b[0m \u001b[1;32min\u001b[0m \u001b[0madjList\u001b[0m\u001b[1;33m:\u001b[0m\u001b[1;33m\u001b[0m\u001b[1;33m\u001b[0m\u001b[0m\n\u001b[0;32m     17\u001b[0m             \u001b[1;32mif\u001b[0m \u001b[0madj\u001b[0m \u001b[1;32min\u001b[0m \u001b[0mrv\u001b[0m\u001b[1;33m.\u001b[0m\u001b[0mkeys\u001b[0m\u001b[1;33m(\u001b[0m\u001b[1;33m)\u001b[0m\u001b[1;33m:\u001b[0m\u001b[1;33m\u001b[0m\u001b[1;33m\u001b[0m\u001b[0m\n\u001b[1;32m---> 18\u001b[1;33m                 \u001b[0mrv\u001b[0m\u001b[1;33m[\u001b[0m\u001b[0madj\u001b[0m\u001b[1;33m]\u001b[0m\u001b[1;33m.\u001b[0m\u001b[0mremove\u001b[0m\u001b[1;33m(\u001b[0m\u001b[0mcolor\u001b[0m\u001b[1;33m)\u001b[0m\u001b[1;33m\u001b[0m\u001b[1;33m\u001b[0m\u001b[0m\n\u001b[0m\u001b[0;32m     19\u001b[0m         \u001b[1;32mreturn\u001b[0m \u001b[0mcolor\u001b[0m\u001b[1;33m\u001b[0m\u001b[1;33m\u001b[0m\u001b[0m\n\u001b[0;32m     20\u001b[0m \u001b[1;33m\u001b[0m\u001b[0m\n",
      "\u001b[1;31mValueError\u001b[0m: list.remove(x): x not in list"
     ]
    }
   ],
   "source": [
    "assigned = {}\n",
    "\n",
    "remainingValues = {'Fornsville': ['R','G','B'], \n",
    "                    'Forntopia': ['R','G','B'],\n",
    "                    'Forntown': ['R','G','B'],\n",
    "                    'Fornstan':  ['R','G','B'], \n",
    "                    'Fornaria': ['R','G','B'],\n",
    "                    }\n",
    "\n",
    "for i in range(len(cgraph)):\n",
    "    # assign color to the highest degree node\n",
    "    mrvNode = get_MRVnode(remainingValues)\n",
    "    color = get_color(mrvNode, remainingValues, cgraph)\n",
    "    \n",
    "    # CODE\n",
    "    # check if 'no color' is returned\n",
    "    # print failure\n",
    "    if(color != 0):\n",
    "        \n",
    "        hdNode = get_hdnode(cgraph, assigned)\n",
    "        assigned[hdNode]= color\n",
    "        #print(remainingValues)\n",
    "        print('Color list: ',remainingValues)\n",
    "        print('Assigned Color: ',assigned)\n",
    "        print(\"\\n\")\n",
    "    \n",
    "    else:\n",
    "        print ('Print failure!')"
   ]
  },
  {
   "cell_type": "code",
   "execution_count": null,
   "metadata": {},
   "outputs": [],
   "source": []
  },
  {
   "cell_type": "code",
   "execution_count": null,
   "metadata": {},
   "outputs": [],
   "source": []
  }
 ],
 "metadata": {
  "kernelspec": {
   "display_name": "Python 3",
   "language": "python",
   "name": "python3"
  },
  "language_info": {
   "codemirror_mode": {
    "name": "ipython",
    "version": 3
   },
   "file_extension": ".py",
   "mimetype": "text/x-python",
   "name": "python",
   "nbconvert_exporter": "python",
   "pygments_lexer": "ipython3",
   "version": "3.8.8"
  }
 },
 "nbformat": 4,
 "nbformat_minor": 4
}
