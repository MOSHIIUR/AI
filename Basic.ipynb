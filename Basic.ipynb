{
 "cells": [
  {
   "cell_type": "markdown",
   "id": "2dab1b27",
   "metadata": {},
   "source": [
    "def addValues(num):\n",
    "    sum = 0\n",
    "    for n in num:\n",
    "        sum = sum + n\n",
    "    return sum"
   ]
  },
  {
   "cell_type": "code",
   "execution_count": null,
   "id": "39c6193e",
   "metadata": {},
   "outputs": [],
   "source": []
  },
  {
   "cell_type": "code",
   "execution_count": 1,
   "id": "4a363b1d",
   "metadata": {
    "scrolled": true
   },
   "outputs": [
    {
     "ename": "NameError",
     "evalue": "name 'addValues' is not defined",
     "output_type": "error",
     "traceback": [
      "\u001b[1;31m---------------------------------------------------------------------------\u001b[0m",
      "\u001b[1;31mNameError\u001b[0m                                 Traceback (most recent call last)",
      "\u001b[1;32m<ipython-input-1-2b13e74523bf>\u001b[0m in \u001b[0;36m<module>\u001b[1;34m\u001b[0m\n\u001b[1;32m----> 1\u001b[1;33m \u001b[0maddValues\u001b[0m\u001b[1;33m(\u001b[0m\u001b[1;36m10\u001b[0m\u001b[1;33m,\u001b[0m\u001b[1;36m20\u001b[0m\u001b[1;33m,\u001b[0m\u001b[1;36m15\u001b[0m\u001b[1;33m)\u001b[0m\u001b[1;33m\u001b[0m\u001b[1;33m\u001b[0m\u001b[0m\n\u001b[0m",
      "\u001b[1;31mNameError\u001b[0m: name 'addValues' is not defined"
     ]
    }
   ],
   "source": [
    "addValues(10,20,15)"
   ]
  },
  {
   "cell_type": "code",
   "execution_count": null,
   "id": "a5fc884a",
   "metadata": {},
   "outputs": [],
   "source": []
  },
  {
   "cell_type": "code",
   "execution_count": null,
   "id": "541f08c2",
   "metadata": {},
   "outputs": [],
   "source": []
  },
  {
   "cell_type": "code",
   "execution_count": 2,
   "id": "b9463ff7",
   "metadata": {},
   "outputs": [],
   "source": [
    "b=[] #lists\n",
    "a = b"
   ]
  },
  {
   "cell_type": "code",
   "execution_count": 3,
   "id": "807f1182",
   "metadata": {},
   "outputs": [
    {
     "name": "stdout",
     "output_type": "stream",
     "text": [
      "[]\n"
     ]
    }
   ],
   "source": [
    "print(a)"
   ]
  },
  {
   "cell_type": "code",
   "execution_count": null,
   "id": "69e9d3d0",
   "metadata": {},
   "outputs": [],
   "source": [
    "a.append(2) #adding an item to list using append command"
   ]
  },
  {
   "cell_type": "code",
   "execution_count": null,
   "id": "69170c4b",
   "metadata": {},
   "outputs": [],
   "source": [
    "# unlike other language you can mix types in Python\n",
    "a.append(\"ooooooooooh\")\n",
    "print(a)\n",
    "\n",
    "while (a != 0):   \n",
    "    print(\"lists not empty\")"
   ]
  },
  {
   "cell_type": "code",
   "execution_count": null,
   "id": "1d1a2d9e",
   "metadata": {
    "scrolled": true
   },
   "outputs": [],
   "source": [
    "# a list can contain another list \n",
    "a.append([1,2, 4])\n",
    "print(a)"
   ]
  },
  {
   "cell_type": "code",
   "execution_count": null,
   "id": "9a5a7287",
   "metadata": {},
   "outputs": [],
   "source": [
    "a+=[0]\n",
    "print(a)"
   ]
  },
  {
   "cell_type": "code",
   "execution_count": null,
   "id": "f45ffa22",
   "metadata": {},
   "outputs": [],
   "source": [
    "# so deleting is kind of related to stack. whenever you use the pop command\n",
    "# it'll delete the last element of the list\n",
    "a.pop()\n",
    "print(a)"
   ]
  },
  {
   "cell_type": "code",
   "execution_count": null,
   "id": "b9471088",
   "metadata": {},
   "outputs": [],
   "source": [
    "# retrive an item from the list\n",
    "a[0]\n",
    "print(a[0])"
   ]
  },
  {
   "cell_type": "code",
   "execution_count": null,
   "id": "7f390a59",
   "metadata": {},
   "outputs": [],
   "source": [
    "#change an specific index element\n",
    "a[0]= \"hello\"\n",
    "print(a)"
   ]
  },
  {
   "cell_type": "code",
   "execution_count": null,
   "id": "42be62d0",
   "metadata": {},
   "outputs": [],
   "source": [
    "#print each item using loop\n",
    "for i in a:\n",
    "    print(i)\n"
   ]
  },
  {
   "cell_type": "code",
   "execution_count": null,
   "id": "73d978be",
   "metadata": {},
   "outputs": [],
   "source": [
    "print(a)\n"
   ]
  },
  {
   "cell_type": "code",
   "execution_count": null,
   "id": "d471e159",
   "metadata": {},
   "outputs": [],
   "source": [
    "temp= a[0]\n",
    "a[0]=a[4]\n",
    "a[4]=temp\n",
    "a[3]=2\n",
    "print(a)"
   ]
  },
  {
   "cell_type": "code",
   "execution_count": null,
   "id": "b08f7166",
   "metadata": {},
   "outputs": [],
   "source": [
    "#extraaaaaaaaaaa\n",
    "\n",
    "\n",
    "b=[4,5,6]\n",
    "\n",
    "total=0\n",
    "for num in b:\n",
    "    total+=num\n",
    "    print(total)\n",
    "    \n",
    "print(total)"
   ]
  },
  {
   "cell_type": "markdown",
   "id": "8409333b",
   "metadata": {},
   "source": [
    "# Dictionaries"
   ]
  },
  {
   "cell_type": "code",
   "execution_count": null,
   "id": "e4317fde",
   "metadata": {},
   "outputs": [],
   "source": [
    "#empty dictionaries\n",
    "\n",
    "d = {} #empty\n",
    "# d = dict()\n",
    "# d = {\"George\": 24, \"Tom\": 34}"
   ]
  },
  {
   "cell_type": "code",
   "execution_count": null,
   "id": "572a4acf",
   "metadata": {},
   "outputs": [],
   "source": [
    "d[\"George\"] = 34\n",
    "d[\"Tom\"] = 15"
   ]
  },
  {
   "cell_type": "code",
   "execution_count": null,
   "id": "3ad01d2c",
   "metadata": {},
   "outputs": [],
   "source": [
    "print(d)"
   ]
  },
  {
   "cell_type": "code",
   "execution_count": null,
   "id": "251e2a55",
   "metadata": {},
   "outputs": [],
   "source": [
    "d = {\"Moshi\": 54, \"Rahman\": 12}"
   ]
  },
  {
   "cell_type": "code",
   "execution_count": null,
   "id": "1ca4c000",
   "metadata": {},
   "outputs": [],
   "source": [
    "print(d)"
   ]
  },
  {
   "cell_type": "code",
   "execution_count": null,
   "id": "f53a6078",
   "metadata": {},
   "outputs": [],
   "source": [
    "print(d[\"Moshi\"])"
   ]
  },
  {
   "cell_type": "code",
   "execution_count": null,
   "id": "37a962aa",
   "metadata": {},
   "outputs": [],
   "source": [
    "# keys doesn't exist yet!!!!!!!!!!!!!\n",
    "print(d[\"AIES\"])"
   ]
  },
  {
   "cell_type": "code",
   "execution_count": null,
   "id": "ab02edb0",
   "metadata": {},
   "outputs": [],
   "source": [
    "print(d[\"Rahman\"])"
   ]
  },
  {
   "cell_type": "code",
   "execution_count": null,
   "id": "7528a217",
   "metadata": {},
   "outputs": [],
   "source": [
    "d[\"WHat\"] = 34\n",
    "print(d)\n"
   ]
  },
  {
   "cell_type": "code",
   "execution_count": null,
   "id": "95b6f74c",
   "metadata": {},
   "outputs": [],
   "source": [
    "d[\"WHat\"] = 6767\n",
    "print(d)"
   ]
  },
  {
   "cell_type": "code",
   "execution_count": null,
   "id": "96cc8c6b",
   "metadata": {},
   "outputs": [],
   "source": [
    "d.values()\n",
    "d.keys()"
   ]
  },
  {
   "cell_type": "code",
   "execution_count": null,
   "id": "f8d6acd1",
   "metadata": {},
   "outputs": [],
   "source": [
    "d[\"WHat\"].keys()\n",
    "d[\"WHat\"].values()"
   ]
  },
  {
   "cell_type": "code",
   "execution_count": null,
   "id": "0e9afe7e",
   "metadata": {},
   "outputs": [],
   "source": [
    "d[\"WHat\"] = {\"inside Dictionary\":6767}\n"
   ]
  },
  {
   "cell_type": "code",
   "execution_count": null,
   "id": "962a8f10",
   "metadata": {},
   "outputs": [],
   "source": [
    "d[\"WHat\"]\n"
   ]
  },
  {
   "cell_type": "code",
   "execution_count": null,
   "id": "5f08cf4f",
   "metadata": {},
   "outputs": [],
   "source": [
    "d[\"WHat\"].keys()\n"
   ]
  },
  {
   "cell_type": "code",
   "execution_count": null,
   "id": "8efbfc9a",
   "metadata": {},
   "outputs": [],
   "source": [
    "\n",
    "d[\"WHat\"].values()"
   ]
  },
  {
   "cell_type": "code",
   "execution_count": null,
   "id": "70f259e6",
   "metadata": {},
   "outputs": [],
   "source": [
    "# keys are usualy string\n",
    "# mixing is okay as well\n",
    "\n",
    "d[0]=10\n",
    "print(d)\n",
    "print(d[0])"
   ]
  },
  {
   "cell_type": "code",
   "execution_count": null,
   "id": "e565d586",
   "metadata": {},
   "outputs": [],
   "source": [
    "# show the dictionary using loops\n",
    "\n",
    "for key, value in d.items():\n",
    "    print(key)\n",
    "    print(value)\n",
    "    print(\"\")"
   ]
  },
  {
   "cell_type": "markdown",
   "id": "05130b0c",
   "metadata": {},
   "source": [
    "# Tuple"
   ]
  },
  {
   "cell_type": "code",
   "execution_count": null,
   "id": "b071b15d",
   "metadata": {},
   "outputs": [],
   "source": [
    "# []=lists; {}=dictionarty; ()=tuple\n",
    "\n",
    "t = (45, 65, 78)\n",
    "print(t)"
   ]
  },
  {
   "cell_type": "code",
   "execution_count": null,
   "id": "39658e50",
   "metadata": {},
   "outputs": [],
   "source": [
    "t[1]"
   ]
  },
  {
   "cell_type": "code",
   "execution_count": null,
   "id": "29a1ad38",
   "metadata": {},
   "outputs": [],
   "source": [
    "t[0]"
   ]
  },
  {
   "cell_type": "code",
   "execution_count": null,
   "id": "a32e9a02",
   "metadata": {},
   "outputs": [],
   "source": [
    "# in tuple we can't change the elemnts\n",
    "t[0] = 1"
   ]
  },
  {
   "cell_type": "code",
   "execution_count": null,
   "id": "d363712f",
   "metadata": {},
   "outputs": [],
   "source": [
    "for items in t:\n",
    "    print(items)"
   ]
  },
  {
   "cell_type": "markdown",
   "id": "e3b08d1f",
   "metadata": {},
   "source": [
    "# method"
   ]
  },
  {
   "cell_type": "code",
   "execution_count": null,
   "id": "c8f60a64",
   "metadata": {},
   "outputs": [],
   "source": [
    "def method():\n",
    "    print(\"welcome to method\")\n",
    "    print(\"is it working??????\")"
   ]
  },
  {
   "cell_type": "code",
   "execution_count": null,
   "id": "6c982b72",
   "metadata": {},
   "outputs": [],
   "source": [
    "# this will not execute automatically, gotta call it\n",
    "method()"
   ]
  },
  {
   "cell_type": "code",
   "execution_count": null,
   "id": "806c9908",
   "metadata": {},
   "outputs": [],
   "source": [
    "# task: write a method which will add numbers of two different lists\n",
    "# returns another list\n",
    "# Example:\n",
    "# [3,4,5,1]\n",
    "# [6,7,2,8]\n",
    "# output: [9,11,7,9]"
   ]
  },
  {
   "cell_type": "code",
   "execution_count": null,
   "id": "d42af423",
   "metadata": {},
   "outputs": [],
   "source": [
    "a=[3,4,5,1]\n",
    "b=[6,7,8,2]\n"
   ]
  },
  {
   "cell_type": "code",
   "execution_count": null,
   "id": "2e92f177",
   "metadata": {},
   "outputs": [],
   "source": [
    "def addingLists(a,b):\n",
    "    for i in a:\n",
    "        print(i)\n",
    "        "
   ]
  },
  {
   "cell_type": "code",
   "execution_count": null,
   "id": "3278edd9",
   "metadata": {},
   "outputs": [],
   "source": [
    "addingLists(a, b)"
   ]
  },
  {
   "cell_type": "code",
   "execution_count": null,
   "id": "935a2c74",
   "metadata": {},
   "outputs": [],
   "source": [
    "# task\n",
    "# define a method to print first name and last name from full name\n",
    "\n",
    "# ex: input: Arafat Rahman Sunny\n",
    "# output: \n",
    "#first name: Arafat\n",
    "#last name: Sunny\n",
    "\n",
    "# getNames('Arafat Rahman')\n",
    " def getNames():\n",
    "        #define logic\n"
   ]
  },
  {
   "cell_type": "markdown",
   "id": "ded545e8",
   "metadata": {},
   "source": [
    "# Extraaa"
   ]
  },
  {
   "cell_type": "code",
   "execution_count": null,
   "id": "5b142c6e",
   "metadata": {},
   "outputs": [],
   "source": [
    "dictionary = {}\n",
    "# dictionary[\"keys\"] = values\n",
    "\n"
   ]
  },
  {
   "cell_type": "code",
   "execution_count": null,
   "id": "97ba8b10",
   "metadata": {},
   "outputs": [],
   "source": [
    "dictionary['path'] = ['arad', 'sibiu']"
   ]
  },
  {
   "cell_type": "code",
   "execution_count": null,
   "id": "438ddd94",
   "metadata": {},
   "outputs": [],
   "source": [
    "dictionary['path']"
   ]
  },
  {
   "cell_type": "code",
   "execution_count": null,
   "id": "1916e0c5",
   "metadata": {},
   "outputs": [],
   "source": [
    "print(dictionary)"
   ]
  },
  {
   "cell_type": "code",
   "execution_count": null,
   "id": "138afa7d",
   "metadata": {},
   "outputs": [],
   "source": [
    "    node = {'City':\"arad\",'Distance':0, 'Path':['arad']}"
   ]
  },
  {
   "cell_type": "code",
   "execution_count": null,
   "id": "291ba88b",
   "metadata": {},
   "outputs": [],
   "source": [
    "print(node)"
   ]
  },
  {
   "cell_type": "code",
   "execution_count": null,
   "id": "75284e10",
   "metadata": {},
   "outputs": [],
   "source": [
    "node[\"City\"]"
   ]
  },
  {
   "cell_type": "code",
   "execution_count": null,
   "id": "03272ac2",
   "metadata": {},
   "outputs": [],
   "source": [
    "node['Path'] + ['sibiu']\n",
    "# node['Path'].append('sibiu')"
   ]
  },
  {
   "cell_type": "code",
   "execution_count": null,
   "id": "03513f5c",
   "metadata": {},
   "outputs": [],
   "source": [
    "print(node['Path'])"
   ]
  },
  {
   "cell_type": "code",
   "execution_count": null,
   "id": "b4211ca4",
   "metadata": {},
   "outputs": [],
   "source": [
    "node = {'City':\"arad\",'Distance':111, 'Path':['Arad','Timisoara']}"
   ]
  },
  {
   "cell_type": "code",
   "execution_count": null,
   "id": "7c4d38ba",
   "metadata": {},
   "outputs": [],
   "source": [
    "print(node)"
   ]
  },
  {
   "cell_type": "code",
   "execution_count": null,
   "id": "c6dfd6ce",
   "metadata": {},
   "outputs": [],
   "source": [
    "\n",
    "\n"
   ]
  },
  {
   "cell_type": "markdown",
   "id": "40187c97",
   "metadata": {},
   "source": [
    "# Generic Algorithm"
   ]
  },
  {
   "cell_type": "markdown",
   "id": "2690a436",
   "metadata": {},
   "source": [
    "# Step 1: Initialize Population"
   ]
  },
  {
   "cell_type": "code",
   "execution_count": null,
   "id": "a02b40f2",
   "metadata": {
    "scrolled": true
   },
   "outputs": [],
   "source": [
    "import random\n",
    "\n",
    "def GE(b, n):\n",
    "    p = []\n",
    "    for i in range(n): #for(i=1; i<=10; i++)\n",
    "            s = [] # to store a solution as a list\n",
    "            for j in range(b):\n",
    "                s.append(random.choice([0,1]))\n",
    "            p.append(s)\n",
    "    return p        "
   ]
  },
  {
   "cell_type": "code",
   "execution_count": null,
   "id": "fc9db6e8",
   "metadata": {},
   "outputs": [],
   "source": [
    "p = GE(7, 10)\n",
    "p"
   ]
  },
  {
   "cell_type": "code",
   "execution_count": null,
   "id": "9116aef7",
   "metadata": {},
   "outputs": [],
   "source": [
    "\n",
    "def GE(b):\n",
    "    s=[]\n",
    "    for j in range(b):\n",
    "        s.append(random.choice([0,1]))\n",
    "\n",
    "    return s   "
   ]
  },
  {
   "cell_type": "code",
   "execution_count": null,
   "id": "dbe9e56b",
   "metadata": {},
   "outputs": [],
   "source": [
    "b = GE(7)\n",
    "b"
   ]
  },
  {
   "cell_type": "code",
   "execution_count": null,
   "id": "f2f6a541",
   "metadata": {},
   "outputs": [],
   "source": [
    "\n"
   ]
  },
  {
   "cell_type": "code",
   "execution_count": null,
   "id": "a243f039",
   "metadata": {},
   "outputs": [],
   "source": [
    "def getFitness(p): # p is the whole population\n",
    "    f = [] # to store fitness values\n",
    "    \n",
    "    for sol in p: #FIND THE SOLUTION OF POPULATION-P\n",
    "        X = 0 # decimel value\n",
    "        b = len(sol) # the length of a binary string\n",
    "        \n",
    "        for i in range(b-1, -1, -1): # binary to decimel\n",
    "            X = X + sol[i]*2**(b-1-i)\n",
    "        \n",
    "        f.append(X**2 - 11*X + 100) # fitness function\n",
    "    \n",
    "    return f"
   ]
  },
  {
   "cell_type": "code",
   "execution_count": null,
   "id": "51e8f71d",
   "metadata": {},
   "outputs": [],
   "source": [
    "fitness = getFitness(population)\n",
    "fitness"
   ]
  },
  {
   "cell_type": "code",
   "execution_count": null,
   "id": "d24e05f2",
   "metadata": {},
   "outputs": [],
   "source": [
    "def xyz(p):\n",
    "    for sol in p: #FIND THE SOLUTION OF POPULATION-P\n",
    "        X = 0 # decimel value\n",
    "        b = len(sol)\n",
    "    return b"
   ]
  },
  {
   "cell_type": "code",
   "execution_count": null,
   "id": "d4e43017",
   "metadata": {},
   "outputs": [],
   "source": [
    "b = xyz(p)\n",
    "b"
   ]
  },
  {
   "cell_type": "code",
   "execution_count": null,
   "id": "a953b47d",
   "metadata": {},
   "outputs": [],
   "source": [
    "binary = input('enter a number: ')\n",
    "decimal = 0\n",
    "for digit in binary:\n",
    "    decimal = decimal*2 + int(digit)\n",
    "\n",
    "print('decimal')\n"
   ]
  },
  {
   "cell_type": "code",
   "execution_count": 15,
   "id": "59d24e18",
   "metadata": {},
   "outputs": [],
   "source": [
    "a = [0, 0, 0, 0, 1, 0, 1]\n",
    "b = len(a)"
   ]
  },
  {
   "cell_type": "code",
   "execution_count": 16,
   "id": "4c415e06",
   "metadata": {},
   "outputs": [
    {
     "name": "stdout",
     "output_type": "stream",
     "text": [
      "[0, 0, 0, 0, 1, 0, 1]\n"
     ]
    },
    {
     "data": {
      "text/plain": [
       "7"
      ]
     },
     "execution_count": 16,
     "metadata": {},
     "output_type": "execute_result"
    }
   ],
   "source": [
    "print(a)\n",
    "b"
   ]
  },
  {
   "cell_type": "code",
   "execution_count": 21,
   "id": "358eaf97",
   "metadata": {},
   "outputs": [
    {
     "name": "stdout",
     "output_type": "stream",
     "text": [
      "7\n",
      "14\n",
      "21\n",
      "28\n",
      "35\n",
      "42\n",
      "49\n",
      "56\n",
      "63\n",
      "70\n",
      "77\n",
      "84\n",
      "91\n",
      "98\n",
      "105\n",
      "112\n",
      "119\n",
      "126\n",
      "133\n",
      "140\n",
      "147\n",
      "154\n",
      "161\n",
      "168\n",
      "175\n",
      "182\n",
      "189\n",
      "196\n",
      "201\n",
      "206\n",
      "211\n",
      "216\n",
      "221\n",
      "226\n",
      "231\n",
      "238\n",
      "245\n",
      "252\n",
      "259\n",
      "266\n",
      "273\n",
      "280\n",
      "285\n",
      "290\n",
      "295\n",
      "300\n",
      "305\n",
      "310\n",
      "315\n",
      "315\n"
     ]
    }
   ],
   "source": [
    "store = []\n",
    "total=0;\n",
    "for i in a:\n",
    "    for a in range((b-1),-1,-1):\n",
    "        total+=i*2^b\n",
    "        print(total)\n",
    "print(total)\n",
    "    "
   ]
  },
  {
   "cell_type": "code",
   "execution_count": 18,
   "id": "7fa6156a",
   "metadata": {},
   "outputs": [
    {
     "data": {
      "text/plain": [
       "[4, 3, 2, 1, 0]"
      ]
     },
     "execution_count": 18,
     "metadata": {},
     "output_type": "execute_result"
    }
   ],
   "source": [
    "[i for i in range(4,-1,-1)]\n"
   ]
  },
  {
   "cell_type": "code",
   "execution_count": 5,
   "id": "72b51e88",
   "metadata": {},
   "outputs": [
    {
     "name": "stdout",
     "output_type": "stream",
     "text": [
      "Input a binary number: 98765\n",
      "0   5\n",
      "1   6\n",
      "2   7\n",
      "3   8\n",
      "4   9\n",
      "The decimal value of the number is 0\n"
     ]
    }
   ],
   "source": [
    "b_num = list(input(\"Input a binary number: \"))\n",
    "value = 0\n",
    "\n",
    "for i in range(len(b_num)):\n",
    "    digit = b_num.pop()\n",
    "    print(i,\" \",digit)\n",
    "    if digit == '1':\n",
    "        value = value + pow(2, i)\n",
    "print(\"The decimal value of the number is\", value)"
   ]
  },
  {
   "cell_type": "code",
   "execution_count": null,
   "id": "e8990341",
   "metadata": {},
   "outputs": [],
   "source": [
    "###divide a list into two list in a specific poibnt"
   ]
  },
  {
   "cell_type": "code",
   "execution_count": 13,
   "id": "bd68e461",
   "metadata": {},
   "outputs": [
    {
     "name": "stdout",
     "output_type": "stream",
     "text": [
      "[0, 0, 0]\n",
      "[1, 1, 1, 0]\n"
     ]
    }
   ],
   "source": [
    "import random\n",
    "\n",
    "list = [0, 0, 0, 1, 1, 1, 0]\n",
    "\n",
    "\n",
    "length = len(list)\n",
    "\n",
    "cp = 3\n",
    "\n",
    "first_half = list[:cp]\n",
    "second_half = list[cp:]\n",
    "\n",
    "print(first_half)\n",
    "print(second_half)"
   ]
  },
  {
   "cell_type": "code",
   "execution_count": 152,
   "id": "dcfaf78a",
   "metadata": {},
   "outputs": [
    {
     "name": "stdout",
     "output_type": "stream",
     "text": [
      "1\n",
      "2\n",
      "3\n",
      "4\n",
      "5\n",
      "6\n"
     ]
    }
   ],
   "source": [
    "p= [ 1, 2, 3 , 4 ,5 ,6 ]\n",
    "\n",
    "i=0\n",
    "while i<len(p):\n",
    "    print(p.pop(i))\n",
    "\n",
    "\n",
    "    "
   ]
  },
  {
   "cell_type": "code",
   "execution_count": null,
   "id": "ea85400d",
   "metadata": {},
   "outputs": [],
   "source": [
    "thislist = [\"apple\", \"banana\", \"cherry\"]\n",
    "i = 0\n",
    "while i < len(thislist):\n",
    "    print(thislist[i])\n",
    "    print(thislist[i+1])\n",
    "    thislist.pop()\n",
    "    thislist.pop()\n",
    "    i = i + 1\n",
    "          \n",
    "      "
   ]
  },
  {
   "cell_type": "code",
   "execution_count": 8,
   "id": "11ff9084",
   "metadata": {},
   "outputs": [
    {
     "name": "stdout",
     "output_type": "stream",
     "text": [
      "true\n",
      "true\n",
      "true\n"
     ]
    }
   ],
   "source": [
    "i=0\n",
    "c =2\n",
    "\n",
    "while i<6:\n",
    "\n",
    "    if c%2==0:\n",
    "        print(\"true\")\n",
    "        \n",
    "    i+=1\n",
    "    c+=1"
   ]
  },
  {
   "cell_type": "code",
   "execution_count": 10,
   "id": "ebac80b5",
   "metadata": {},
   "outputs": [
    {
     "name": "stdout",
     "output_type": "stream",
     "text": [
      "[1, 2, 3, [3, 2, 3]]\n"
     ]
    }
   ],
   "source": [
    "l1=[1,2,3]\n",
    "l2=[3,2,3]\n",
    "l1.append(l2)\n",
    "print(l1)"
   ]
  },
  {
   "cell_type": "code",
   "execution_count": 10,
   "id": "bac3b8c9",
   "metadata": {},
   "outputs": [
    {
     "name": "stdout",
     "output_type": "stream",
     "text": [
      "taking the fitness value index:  0\n",
      "inside the index. x value:  45 Comparing index:  0 which value:  0\n",
      "  0  value assigned\n",
      "taking the fitness value index:  1\n",
      "inside the index. x value:  545 Comparing index:  0 which value:  0\n",
      "  1  value assigned\n",
      "inside the index. x value:  545 Comparing index:  1 which value:  0\n",
      "  1  value assigned\n",
      "taking the fitness value index:  2\n",
      "inside the index. x value:  456 Comparing index:  0 which value:  0\n",
      "  2  value assigned\n",
      "inside the index. x value:  456 Comparing index:  1 which value:  0\n",
      "  2  value assigned\n",
      "inside the index. x value:  456 Comparing index:  2 which value:  1\n",
      "  2  value assigned\n",
      "inside the index. x value:  456 Comparing index:  3 which value:  1\n",
      "  2  value assigned\n",
      "taking the fitness value index:  3\n",
      "inside the index. x value:  252 Comparing index:  0 which value:  0\n",
      "  3  value assigned\n",
      "inside the index. x value:  252 Comparing index:  1 which value:  0\n",
      "  3  value assigned\n",
      "inside the index. x value:  252 Comparing index:  2 which value:  1\n",
      "  3  value assigned\n",
      "inside the index. x value:  252 Comparing index:  3 which value:  1\n",
      "  3  value assigned\n",
      "inside the index. x value:  252 Comparing index:  4 which value:  2\n",
      "  3  value assigned\n",
      "inside the index. x value:  252 Comparing index:  5 which value:  2\n",
      "  3  value assigned\n",
      "inside the index. x value:  252 Comparing index:  6 which value:  2\n",
      "  3  value assigned\n",
      "inside the index. x value:  252 Comparing index:  7 which value:  2\n",
      "  3  value assigned\n",
      "taking the fitness value index:  4\n",
      "inside the index. x value:  7380 Comparing index:  0 which value:  0\n",
      "  4  value assigned\n",
      "inside the index. x value:  7380 Comparing index:  1 which value:  0\n",
      "  4  value assigned\n",
      "inside the index. x value:  7380 Comparing index:  2 which value:  1\n",
      "  4  value assigned\n",
      "inside the index. x value:  7380 Comparing index:  3 which value:  1\n",
      "  4  value assigned\n",
      "inside the index. x value:  7380 Comparing index:  4 which value:  2\n",
      "  4  value assigned\n",
      "inside the index. x value:  7380 Comparing index:  5 which value:  2\n",
      "  4  value assigned\n",
      "inside the index. x value:  7380 Comparing index:  6 which value:  2\n",
      "  4  value assigned\n",
      "inside the index. x value:  7380 Comparing index:  7 which value:  2\n",
      "  4  value assigned\n",
      "inside the index. x value:  7380 Comparing index:  8 which value:  3\n",
      "  4  value assigned\n",
      "inside the index. x value:  7380 Comparing index:  9 which value:  3\n",
      "  4  value assigned\n",
      "inside the index. x value:  7380 Comparing index:  10 which value:  3\n",
      "  4  value assigned\n",
      "inside the index. x value:  7380 Comparing index:  11 which value:  3\n",
      "  4  value assigned\n",
      "inside the index. x value:  7380 Comparing index:  12 which value:  3\n",
      "  4  value assigned\n",
      "inside the index. x value:  7380 Comparing index:  13 which value:  3\n",
      "  4  value assigned\n",
      "inside the index. x value:  7380 Comparing index:  14 which value:  3\n",
      "  4  value assigned\n",
      "inside the index. x value:  7380 Comparing index:  15 which value:  3\n",
      "  4  value assigned\n",
      "taking the fitness value index:  5\n",
      "inside the index. x value:  342 Comparing index:  0 which value:  0\n",
      "  5  value assigned\n",
      "inside the index. x value:  342 Comparing index:  1 which value:  0\n",
      "  5  value assigned\n",
      "inside the index. x value:  342 Comparing index:  2 which value:  1\n",
      "  5  value assigned\n",
      "inside the index. x value:  342 Comparing index:  3 which value:  1\n",
      "  5  value assigned\n",
      "inside the index. x value:  342 Comparing index:  4 which value:  2\n",
      "  5  value assigned\n",
      "inside the index. x value:  342 Comparing index:  5 which value:  2\n",
      "  5  value assigned\n",
      "inside the index. x value:  342 Comparing index:  6 which value:  2\n",
      "  5  value assigned\n",
      "inside the index. x value:  342 Comparing index:  7 which value:  2\n",
      "  5  value assigned\n",
      "inside the index. x value:  342 Comparing index:  8 which value:  3\n",
      "  5  value assigned\n",
      "inside the index. x value:  342 Comparing index:  9 which value:  3\n",
      "  5  value assigned\n",
      "inside the index. x value:  342 Comparing index:  10 which value:  3\n",
      "  5  value assigned\n",
      "inside the index. x value:  342 Comparing index:  11 which value:  3\n",
      "  5  value assigned\n",
      "inside the index. x value:  342 Comparing index:  12 which value:  3\n",
      "  5  value assigned\n",
      "inside the index. x value:  342 Comparing index:  13 which value:  3\n",
      "  5  value assigned\n",
      "inside the index. x value:  342 Comparing index:  14 which value:  3\n",
      "  5  value assigned\n",
      "inside the index. x value:  342 Comparing index:  15 which value:  3\n",
      "  5  value assigned\n",
      "inside the index. x value:  342 Comparing index:  16 which value:  4\n",
      "  5  value assigned\n",
      "inside the index. x value:  342 Comparing index:  17 which value:  4\n",
      "  5  value assigned\n",
      "inside the index. x value:  342 Comparing index:  18 which value:  4\n",
      "  5  value assigned\n",
      "inside the index. x value:  342 Comparing index:  19 which value:  4\n",
      "  5  value assigned\n",
      "inside the index. x value:  342 Comparing index:  20 which value:  4\n",
      "  5  value assigned\n",
      "inside the index. x value:  342 Comparing index:  21 which value:  4\n",
      "  5  value assigned\n",
      "inside the index. x value:  342 Comparing index:  22 which value:  4\n",
      "  5  value assigned\n",
      "inside the index. x value:  342 Comparing index:  23 which value:  4\n",
      "  5  value assigned\n",
      "inside the index. x value:  342 Comparing index:  24 which value:  4\n",
      "  5  value assigned\n",
      "inside the index. x value:  342 Comparing index:  25 which value:  4\n",
      "  5  value assigned\n",
      "inside the index. x value:  342 Comparing index:  26 which value:  4\n",
      "  5  value assigned\n",
      "inside the index. x value:  342 Comparing index:  27 which value:  4\n",
      "  5  value assigned\n",
      "inside the index. x value:  342 Comparing index:  28 which value:  4\n",
      "  5  value assigned\n",
      "inside the index. x value:  342 Comparing index:  29 which value:  4\n",
      "  5  value assigned\n",
      "inside the index. x value:  342 Comparing index:  30 which value:  4\n",
      "  5  value assigned\n",
      "inside the index. x value:  342 Comparing index:  31 which value:  4\n",
      "  5  value assigned\n",
      "taking the fitness value index:  6\n",
      "inside the index. x value:  1476 Comparing index:  0 which value:  0\n",
      "  6  value assigned\n",
      "inside the index. x value:  1476 Comparing index:  1 which value:  0\n",
      "  6  value assigned\n",
      "inside the index. x value:  1476 Comparing index:  2 which value:  1\n",
      "  6  value assigned\n",
      "inside the index. x value:  1476 Comparing index:  3 which value:  1\n",
      "  6  value assigned\n",
      "inside the index. x value:  1476 Comparing index:  4 which value:  2\n",
      "  6  value assigned\n",
      "inside the index. x value:  1476 Comparing index:  5 which value:  2\n",
      "  6  value assigned\n",
      "inside the index. x value:  1476 Comparing index:  6 which value:  2\n",
      "  6  value assigned\n",
      "inside the index. x value:  1476 Comparing index:  7 which value:  2\n",
      "  6  value assigned\n",
      "inside the index. x value:  1476 Comparing index:  8 which value:  3\n",
      "  6  value assigned\n",
      "inside the index. x value:  1476 Comparing index:  9 which value:  3\n",
      "  6  value assigned\n",
      "inside the index. x value:  1476 Comparing index:  10 which value:  3\n",
      "  6  value assigned\n",
      "inside the index. x value:  1476 Comparing index:  11 which value:  3\n",
      "  6  value assigned\n",
      "inside the index. x value:  1476 Comparing index:  12 which value:  3\n",
      "  6  value assigned\n",
      "inside the index. x value:  1476 Comparing index:  13 which value:  3\n",
      "  6  value assigned\n",
      "inside the index. x value:  1476 Comparing index:  14 which value:  3\n",
      "  6  value assigned\n",
      "inside the index. x value:  1476 Comparing index:  15 which value:  3\n",
      "  6  value assigned\n",
      "inside the index. x value:  1476 Comparing index:  16 which value:  4\n",
      "  6  value assigned\n",
      "inside the index. x value:  1476 Comparing index:  17 which value:  4\n",
      "  6  value assigned\n",
      "inside the index. x value:  1476 Comparing index:  18 which value:  4\n",
      "  6  value assigned\n",
      "inside the index. x value:  1476 Comparing index:  19 which value:  4\n",
      "  6  value assigned\n",
      "inside the index. x value:  1476 Comparing index:  20 which value:  4\n",
      "  6  value assigned\n",
      "inside the index. x value:  1476 Comparing index:  21 which value:  4\n",
      "  6  value assigned\n",
      "inside the index. x value:  1476 Comparing index:  22 which value:  4\n",
      "  6  value assigned\n",
      "inside the index. x value:  1476 Comparing index:  23 which value:  4\n",
      "  6  value assigned\n",
      "inside the index. x value:  1476 Comparing index:  24 which value:  4\n",
      "  6  value assigned\n",
      "inside the index. x value:  1476 Comparing index:  25 which value:  4\n",
      "  6  value assigned\n",
      "inside the index. x value:  1476 Comparing index:  26 which value:  4\n",
      "  6  value assigned\n",
      "inside the index. x value:  1476 Comparing index:  27 which value:  4\n",
      "  6  value assigned\n",
      "inside the index. x value:  1476 Comparing index:  28 which value:  4\n",
      "  6  value assigned\n",
      "inside the index. x value:  1476 Comparing index:  29 which value:  4\n",
      "  6  value assigned\n",
      "inside the index. x value:  1476 Comparing index:  30 which value:  4\n",
      "  6  value assigned\n",
      "inside the index. x value:  1476 Comparing index:  31 which value:  4\n",
      "  6  value assigned\n",
      "inside the index. x value:  1476 Comparing index:  32 which value:  5\n",
      "  6  value assigned\n",
      "inside the index. x value:  1476 Comparing index:  33 which value:  5\n",
      "  6  value assigned\n",
      "inside the index. x value:  1476 Comparing index:  34 which value:  5\n",
      "  6  value assigned\n",
      "inside the index. x value:  1476 Comparing index:  35 which value:  5\n",
      "  6  value assigned\n",
      "inside the index. x value:  1476 Comparing index:  36 which value:  5\n",
      "  6  value assigned\n",
      "inside the index. x value:  1476 Comparing index:  37 which value:  5\n",
      "  6  value assigned\n",
      "inside the index. x value:  1476 Comparing index:  38 which value:  5\n",
      "  6  value assigned\n",
      "inside the index. x value:  1476 Comparing index:  39 which value:  5\n",
      "  6  value assigned\n",
      "inside the index. x value:  1476 Comparing index:  40 which value:  5\n",
      "  6  value assigned\n",
      "inside the index. x value:  1476 Comparing index:  41 which value:  5\n",
      "  6  value assigned\n",
      "inside the index. x value:  1476 Comparing index:  42 which value:  5\n",
      "  6  value assigned\n",
      "inside the index. x value:  1476 Comparing index:  43 which value:  5\n",
      "  6  value assigned\n",
      "inside the index. x value:  1476 Comparing index:  44 which value:  5\n",
      "  6  value assigned\n",
      "inside the index. x value:  1476 Comparing index:  45 which value:  5\n",
      "  6  value assigned\n",
      "inside the index. x value:  1476 Comparing index:  46 which value:  5\n",
      "  6  value assigned\n",
      "inside the index. x value:  1476 Comparing index:  47 which value:  5\n",
      "  6  value assigned\n",
      "inside the index. x value:  1476 Comparing index:  48 which value:  5\n",
      "  6  value assigned\n",
      "inside the index. x value:  1476 Comparing index:  49 which value:  5\n",
      "  6  value assigned\n",
      "inside the index. x value:  1476 Comparing index:  50 which value:  5\n",
      "  6  value assigned\n",
      "inside the index. x value:  1476 Comparing index:  51 which value:  5\n",
      "  6  value assigned\n",
      "inside the index. x value:  1476 Comparing index:  52 which value:  5\n",
      "  6  value assigned\n",
      "inside the index. x value:  1476 Comparing index:  53 which value:  5\n",
      "  6  value assigned\n",
      "inside the index. x value:  1476 Comparing index:  54 which value:  5\n",
      "  6  value assigned\n",
      "inside the index. x value:  1476 Comparing index:  55 which value:  5\n",
      "  6  value assigned\n",
      "inside the index. x value:  1476 Comparing index:  56 which value:  5\n",
      "  6  value assigned\n",
      "inside the index. x value:  1476 Comparing index:  57 which value:  5\n",
      "  6  value assigned\n",
      "inside the index. x value:  1476 Comparing index:  58 which value:  5\n",
      "  6  value assigned\n",
      "inside the index. x value:  1476 Comparing index:  59 which value:  5\n",
      "  6  value assigned\n",
      "inside the index. x value:  1476 Comparing index:  60 which value:  5\n",
      "  6  value assigned\n",
      "inside the index. x value:  1476 Comparing index:  61 which value:  5\n",
      "  6  value assigned\n",
      "inside the index. x value:  1476 Comparing index:  62 which value:  5\n",
      "  6  value assigned\n",
      "inside the index. x value:  1476 Comparing index:  63 which value:  5\n",
      "  6  value assigned\n",
      "taking the fitness value index:  7\n",
      "inside the index. x value:  2050 Comparing index:  0 which value:  0\n",
      "  7  value assigned\n",
      "inside the index. x value:  2050 Comparing index:  1 which value:  0\n",
      "  7  value assigned\n",
      "inside the index. x value:  2050 Comparing index:  2 which value:  1\n",
      "  7  value assigned\n",
      "inside the index. x value:  2050 Comparing index:  3 which value:  1\n",
      "  7  value assigned\n",
      "inside the index. x value:  2050 Comparing index:  4 which value:  2\n",
      "  7  value assigned\n",
      "inside the index. x value:  2050 Comparing index:  5 which value:  2\n",
      "  7  value assigned\n",
      "inside the index. x value:  2050 Comparing index:  6 which value:  2\n",
      "  7  value assigned\n",
      "inside the index. x value:  2050 Comparing index:  7 which value:  2\n",
      "  7  value assigned\n",
      "inside the index. x value:  2050 Comparing index:  8 which value:  3\n",
      "  7  value assigned\n",
      "inside the index. x value:  2050 Comparing index:  9 which value:  3\n",
      "  7  value assigned\n",
      "inside the index. x value:  2050 Comparing index:  10 which value:  3\n",
      "  7  value assigned\n",
      "inside the index. x value:  2050 Comparing index:  11 which value:  3\n",
      "  7  value assigned\n",
      "inside the index. x value:  2050 Comparing index:  12 which value:  3\n",
      "  7  value assigned\n",
      "inside the index. x value:  2050 Comparing index:  13 which value:  3\n",
      "  7  value assigned\n",
      "inside the index. x value:  2050 Comparing index:  14 which value:  3\n",
      "  7  value assigned\n",
      "inside the index. x value:  2050 Comparing index:  15 which value:  3\n",
      "  7  value assigned\n",
      "inside the index. x value:  2050 Comparing index:  16 which value:  4\n",
      "  7  value assigned\n",
      "inside the index. x value:  2050 Comparing index:  17 which value:  4\n",
      "  7  value assigned\n",
      "inside the index. x value:  2050 Comparing index:  18 which value:  4\n",
      "  7  value assigned\n",
      "inside the index. x value:  2050 Comparing index:  19 which value:  4\n",
      "  7  value assigned\n",
      "inside the index. x value:  2050 Comparing index:  20 which value:  4\n",
      "  7  value assigned\n",
      "inside the index. x value:  2050 Comparing index:  21 which value:  4\n",
      "  7  value assigned\n",
      "inside the index. x value:  2050 Comparing index:  22 which value:  4\n",
      "  7  value assigned\n",
      "inside the index. x value:  2050 Comparing index:  23 which value:  4\n",
      "  7  value assigned\n",
      "inside the index. x value:  2050 Comparing index:  24 which value:  4\n",
      "  7  value assigned\n",
      "inside the index. x value:  2050 Comparing index:  25 which value:  4\n",
      "  7  value assigned\n",
      "inside the index. x value:  2050 Comparing index:  26 which value:  4\n",
      "  7  value assigned\n",
      "inside the index. x value:  2050 Comparing index:  27 which value:  4\n",
      "  7  value assigned\n",
      "inside the index. x value:  2050 Comparing index:  28 which value:  4\n",
      "  7  value assigned\n",
      "inside the index. x value:  2050 Comparing index:  29 which value:  4\n",
      "  7  value assigned\n",
      "inside the index. x value:  2050 Comparing index:  30 which value:  4\n",
      "  7  value assigned\n",
      "inside the index. x value:  2050 Comparing index:  31 which value:  4\n",
      "  7  value assigned\n",
      "inside the index. x value:  2050 Comparing index:  32 which value:  5\n",
      "  7  value assigned\n",
      "inside the index. x value:  2050 Comparing index:  33 which value:  5\n",
      "  7  value assigned\n",
      "inside the index. x value:  2050 Comparing index:  34 which value:  5\n",
      "  7  value assigned\n",
      "inside the index. x value:  2050 Comparing index:  35 which value:  5\n",
      "  7  value assigned\n",
      "inside the index. x value:  2050 Comparing index:  36 which value:  5\n",
      "  7  value assigned\n",
      "inside the index. x value:  2050 Comparing index:  37 which value:  5\n",
      "  7  value assigned\n",
      "inside the index. x value:  2050 Comparing index:  38 which value:  5\n",
      "  7  value assigned\n",
      "inside the index. x value:  2050 Comparing index:  39 which value:  5\n",
      "  7  value assigned\n",
      "inside the index. x value:  2050 Comparing index:  40 which value:  5\n",
      "  7  value assigned\n",
      "inside the index. x value:  2050 Comparing index:  41 which value:  5\n",
      "  7  value assigned\n",
      "inside the index. x value:  2050 Comparing index:  42 which value:  5\n",
      "  7  value assigned\n",
      "inside the index. x value:  2050 Comparing index:  43 which value:  5\n",
      "  7  value assigned\n",
      "inside the index. x value:  2050 Comparing index:  44 which value:  5\n",
      "  7  value assigned\n",
      "inside the index. x value:  2050 Comparing index:  45 which value:  5\n",
      "  7  value assigned\n",
      "inside the index. x value:  2050 Comparing index:  46 which value:  5\n",
      "  7  value assigned\n",
      "inside the index. x value:  2050 Comparing index:  47 which value:  5\n",
      "  7  value assigned\n",
      "inside the index. x value:  2050 Comparing index:  48 which value:  5\n",
      "  7  value assigned\n",
      "inside the index. x value:  2050 Comparing index:  49 which value:  5\n",
      "  7  value assigned\n",
      "inside the index. x value:  2050 Comparing index:  50 which value:  5\n",
      "  7  value assigned\n",
      "inside the index. x value:  2050 Comparing index:  51 which value:  5\n",
      "  7  value assigned\n",
      "inside the index. x value:  2050 Comparing index:  52 which value:  5\n",
      "  7  value assigned\n",
      "inside the index. x value:  2050 Comparing index:  53 which value:  5\n",
      "  7  value assigned\n",
      "inside the index. x value:  2050 Comparing index:  54 which value:  5\n",
      "  7  value assigned\n",
      "inside the index. x value:  2050 Comparing index:  55 which value:  5\n",
      "  7  value assigned\n",
      "inside the index. x value:  2050 Comparing index:  56 which value:  5\n",
      "  7  value assigned\n",
      "inside the index. x value:  2050 Comparing index:  57 which value:  5\n",
      "  7  value assigned\n",
      "inside the index. x value:  2050 Comparing index:  58 which value:  5\n",
      "  7  value assigned\n",
      "inside the index. x value:  2050 Comparing index:  59 which value:  5\n",
      "  7  value assigned\n",
      "inside the index. x value:  2050 Comparing index:  60 which value:  5\n",
      "  7  value assigned\n",
      "inside the index. x value:  2050 Comparing index:  61 which value:  5\n",
      "  7  value assigned\n",
      "inside the index. x value:  2050 Comparing index:  62 which value:  5\n",
      "  7  value assigned\n",
      "inside the index. x value:  2050 Comparing index:  63 which value:  5\n",
      "  7  value assigned\n",
      "inside the index. x value:  2050 Comparing index:  64 which value:  6\n",
      "  7  value assigned\n",
      "inside the index. x value:  2050 Comparing index:  65 which value:  6\n",
      "  7  value assigned\n",
      "inside the index. x value:  2050 Comparing index:  66 which value:  6\n",
      "  7  value assigned\n",
      "inside the index. x value:  2050 Comparing index:  67 which value:  6\n",
      "  7  value assigned\n",
      "inside the index. x value:  2050 Comparing index:  68 which value:  6\n",
      "  7  value assigned\n",
      "inside the index. x value:  2050 Comparing index:  69 which value:  6\n",
      "  7  value assigned\n",
      "inside the index. x value:  2050 Comparing index:  70 which value:  6\n",
      "  7  value assigned\n",
      "inside the index. x value:  2050 Comparing index:  71 which value:  6\n",
      "  7  value assigned\n",
      "inside the index. x value:  2050 Comparing index:  72 which value:  6\n",
      "  7  value assigned\n",
      "inside the index. x value:  2050 Comparing index:  73 which value:  6\n",
      "  7  value assigned\n",
      "inside the index. x value:  2050 Comparing index:  74 which value:  6\n",
      "  7  value assigned\n",
      "inside the index. x value:  2050 Comparing index:  75 which value:  6\n",
      "  7  value assigned\n",
      "inside the index. x value:  2050 Comparing index:  76 which value:  6\n",
      "  7  value assigned\n",
      "inside the index. x value:  2050 Comparing index:  77 which value:  6\n",
      "  7  value assigned\n",
      "inside the index. x value:  2050 Comparing index:  78 which value:  6\n",
      "  7  value assigned\n",
      "inside the index. x value:  2050 Comparing index:  79 which value:  6\n",
      "  7  value assigned\n",
      "inside the index. x value:  2050 Comparing index:  80 which value:  6\n",
      "  7  value assigned\n",
      "inside the index. x value:  2050 Comparing index:  81 which value:  6\n",
      "  7  value assigned\n",
      "inside the index. x value:  2050 Comparing index:  82 which value:  6\n",
      "  7  value assigned\n",
      "inside the index. x value:  2050 Comparing index:  83 which value:  6\n",
      "  7  value assigned\n",
      "inside the index. x value:  2050 Comparing index:  84 which value:  6\n",
      "  7  value assigned\n",
      "inside the index. x value:  2050 Comparing index:  85 which value:  6\n",
      "  7  value assigned\n",
      "inside the index. x value:  2050 Comparing index:  86 which value:  6\n",
      "  7  value assigned\n",
      "inside the index. x value:  2050 Comparing index:  87 which value:  6\n",
      "  7  value assigned\n",
      "inside the index. x value:  2050 Comparing index:  88 which value:  6\n",
      "  7  value assigned\n",
      "inside the index. x value:  2050 Comparing index:  89 which value:  6\n",
      "  7  value assigned\n",
      "inside the index. x value:  2050 Comparing index:  90 which value:  6\n",
      "  7  value assigned\n",
      "inside the index. x value:  2050 Comparing index:  91 which value:  6\n",
      "  7  value assigned\n",
      "inside the index. x value:  2050 Comparing index:  92 which value:  6\n",
      "  7  value assigned\n",
      "inside the index. x value:  2050 Comparing index:  93 which value:  6\n",
      "  7  value assigned\n",
      "inside the index. x value:  2050 Comparing index:  94 which value:  6\n",
      "  7  value assigned\n",
      "inside the index. x value:  2050 Comparing index:  95 which value:  6\n",
      "  7  value assigned\n",
      "inside the index. x value:  2050 Comparing index:  96 which value:  6\n",
      "  7  value assigned\n",
      "inside the index. x value:  2050 Comparing index:  97 which value:  6\n",
      "  7  value assigned\n",
      "inside the index. x value:  2050 Comparing index:  98 which value:  6\n",
      "  7  value assigned\n",
      "inside the index. x value:  2050 Comparing index:  99 which value:  6\n",
      "  7  value assigned\n",
      "inside the index. x value:  2050 Comparing index:  100 which value:  6\n",
      "  7  value assigned\n",
      "inside the index. x value:  2050 Comparing index:  101 which value:  6\n",
      "  7  value assigned\n",
      "inside the index. x value:  2050 Comparing index:  102 which value:  6\n",
      "  7  value assigned\n",
      "inside the index. x value:  2050 Comparing index:  103 which value:  6\n",
      "  7  value assigned\n",
      "inside the index. x value:  2050 Comparing index:  104 which value:  6\n",
      "  7  value assigned\n",
      "inside the index. x value:  2050 Comparing index:  105 which value:  6\n",
      "  7  value assigned\n",
      "inside the index. x value:  2050 Comparing index:  106 which value:  6\n",
      "  7  value assigned\n"
     ]
    },
    {
     "name": "stdout",
     "output_type": "stream",
     "text": [
      "inside the index. x value:  2050 Comparing index:  107 which value:  6\n",
      "  7  value assigned\n",
      "inside the index. x value:  2050 Comparing index:  108 which value:  6\n",
      "  7  value assigned\n",
      "inside the index. x value:  2050 Comparing index:  109 which value:  6\n",
      "  7  value assigned\n",
      "inside the index. x value:  2050 Comparing index:  110 which value:  6\n",
      "  7  value assigned\n",
      "inside the index. x value:  2050 Comparing index:  111 which value:  6\n",
      "  7  value assigned\n",
      "inside the index. x value:  2050 Comparing index:  112 which value:  6\n",
      "  7  value assigned\n",
      "inside the index. x value:  2050 Comparing index:  113 which value:  6\n",
      "  7  value assigned\n",
      "inside the index. x value:  2050 Comparing index:  114 which value:  6\n",
      "  7  value assigned\n",
      "inside the index. x value:  2050 Comparing index:  115 which value:  6\n",
      "  7  value assigned\n",
      "inside the index. x value:  2050 Comparing index:  116 which value:  6\n",
      "  7  value assigned\n",
      "inside the index. x value:  2050 Comparing index:  117 which value:  6\n",
      "  7  value assigned\n",
      "inside the index. x value:  2050 Comparing index:  118 which value:  6\n",
      "  7  value assigned\n",
      "inside the index. x value:  2050 Comparing index:  119 which value:  6\n",
      "  7  value assigned\n",
      "inside the index. x value:  2050 Comparing index:  120 which value:  6\n",
      "  7  value assigned\n",
      "inside the index. x value:  2050 Comparing index:  121 which value:  6\n",
      "  7  value assigned\n",
      "inside the index. x value:  2050 Comparing index:  122 which value:  6\n",
      "  7  value assigned\n",
      "inside the index. x value:  2050 Comparing index:  123 which value:  6\n",
      "  7  value assigned\n",
      "inside the index. x value:  2050 Comparing index:  124 which value:  6\n",
      "  7  value assigned\n",
      "inside the index. x value:  2050 Comparing index:  125 which value:  6\n",
      "  7  value assigned\n",
      "inside the index. x value:  2050 Comparing index:  126 which value:  6\n",
      "  7  value assigned\n",
      "inside the index. x value:  2050 Comparing index:  127 which value:  6\n",
      "  7  value assigned\n",
      "taking the fitness value index:  8\n",
      "inside the index. x value:  14590 Comparing index:  0 which value:  0\n",
      "  8  value assigned\n",
      "inside the index. x value:  14590 Comparing index:  1 which value:  0\n",
      "  8  value assigned\n",
      "inside the index. x value:  14590 Comparing index:  2 which value:  1\n",
      "  8  value assigned\n",
      "inside the index. x value:  14590 Comparing index:  3 which value:  1\n",
      "  8  value assigned\n",
      "inside the index. x value:  14590 Comparing index:  4 which value:  2\n",
      "  8  value assigned\n",
      "inside the index. x value:  14590 Comparing index:  5 which value:  2\n",
      "  8  value assigned\n",
      "inside the index. x value:  14590 Comparing index:  6 which value:  2\n",
      "  8  value assigned\n",
      "inside the index. x value:  14590 Comparing index:  7 which value:  2\n",
      "  8  value assigned\n",
      "inside the index. x value:  14590 Comparing index:  8 which value:  3\n",
      "  8  value assigned\n",
      "inside the index. x value:  14590 Comparing index:  9 which value:  3\n",
      "  8  value assigned\n",
      "inside the index. x value:  14590 Comparing index:  10 which value:  3\n",
      "  8  value assigned\n",
      "inside the index. x value:  14590 Comparing index:  11 which value:  3\n",
      "  8  value assigned\n",
      "inside the index. x value:  14590 Comparing index:  12 which value:  3\n",
      "  8  value assigned\n",
      "inside the index. x value:  14590 Comparing index:  13 which value:  3\n",
      "  8  value assigned\n",
      "inside the index. x value:  14590 Comparing index:  14 which value:  3\n",
      "  8  value assigned\n",
      "inside the index. x value:  14590 Comparing index:  15 which value:  3\n",
      "  8  value assigned\n",
      "inside the index. x value:  14590 Comparing index:  16 which value:  4\n",
      "  8  value assigned\n",
      "inside the index. x value:  14590 Comparing index:  17 which value:  4\n",
      "  8  value assigned\n",
      "inside the index. x value:  14590 Comparing index:  18 which value:  4\n",
      "  8  value assigned\n",
      "inside the index. x value:  14590 Comparing index:  19 which value:  4\n",
      "  8  value assigned\n",
      "inside the index. x value:  14590 Comparing index:  20 which value:  4\n",
      "  8  value assigned\n",
      "inside the index. x value:  14590 Comparing index:  21 which value:  4\n",
      "  8  value assigned\n",
      "inside the index. x value:  14590 Comparing index:  22 which value:  4\n",
      "  8  value assigned\n",
      "inside the index. x value:  14590 Comparing index:  23 which value:  4\n",
      "  8  value assigned\n",
      "inside the index. x value:  14590 Comparing index:  24 which value:  4\n",
      "  8  value assigned\n",
      "inside the index. x value:  14590 Comparing index:  25 which value:  4\n",
      "  8  value assigned\n",
      "inside the index. x value:  14590 Comparing index:  26 which value:  4\n",
      "  8  value assigned\n",
      "inside the index. x value:  14590 Comparing index:  27 which value:  4\n",
      "  8  value assigned\n",
      "inside the index. x value:  14590 Comparing index:  28 which value:  4\n",
      "  8  value assigned\n",
      "inside the index. x value:  14590 Comparing index:  29 which value:  4\n",
      "  8  value assigned\n",
      "inside the index. x value:  14590 Comparing index:  30 which value:  4\n",
      "  8  value assigned\n",
      "inside the index. x value:  14590 Comparing index:  31 which value:  4\n",
      "  8  value assigned\n",
      "inside the index. x value:  14590 Comparing index:  32 which value:  5\n",
      "  8  value assigned\n",
      "inside the index. x value:  14590 Comparing index:  33 which value:  5\n",
      "  8  value assigned\n",
      "inside the index. x value:  14590 Comparing index:  34 which value:  5\n",
      "  8  value assigned\n",
      "inside the index. x value:  14590 Comparing index:  35 which value:  5\n",
      "  8  value assigned\n",
      "inside the index. x value:  14590 Comparing index:  36 which value:  5\n",
      "  8  value assigned\n",
      "inside the index. x value:  14590 Comparing index:  37 which value:  5\n",
      "  8  value assigned\n",
      "inside the index. x value:  14590 Comparing index:  38 which value:  5\n",
      "  8  value assigned\n",
      "inside the index. x value:  14590 Comparing index:  39 which value:  5\n",
      "  8  value assigned\n",
      "inside the index. x value:  14590 Comparing index:  40 which value:  5\n",
      "  8  value assigned\n",
      "inside the index. x value:  14590 Comparing index:  41 which value:  5\n",
      "  8  value assigned\n",
      "inside the index. x value:  14590 Comparing index:  42 which value:  5\n",
      "  8  value assigned\n",
      "inside the index. x value:  14590 Comparing index:  43 which value:  5\n",
      "  8  value assigned\n",
      "inside the index. x value:  14590 Comparing index:  44 which value:  5\n",
      "  8  value assigned\n",
      "inside the index. x value:  14590 Comparing index:  45 which value:  5\n",
      "  8  value assigned\n",
      "inside the index. x value:  14590 Comparing index:  46 which value:  5\n",
      "  8  value assigned\n",
      "inside the index. x value:  14590 Comparing index:  47 which value:  5\n",
      "  8  value assigned\n",
      "inside the index. x value:  14590 Comparing index:  48 which value:  5\n",
      "  8  value assigned\n",
      "inside the index. x value:  14590 Comparing index:  49 which value:  5\n",
      "  8  value assigned\n",
      "inside the index. x value:  14590 Comparing index:  50 which value:  5\n",
      "  8  value assigned\n",
      "inside the index. x value:  14590 Comparing index:  51 which value:  5\n",
      "  8  value assigned\n",
      "inside the index. x value:  14590 Comparing index:  52 which value:  5\n",
      "  8  value assigned\n",
      "inside the index. x value:  14590 Comparing index:  53 which value:  5\n",
      "  8  value assigned\n",
      "inside the index. x value:  14590 Comparing index:  54 which value:  5\n",
      "  8  value assigned\n",
      "inside the index. x value:  14590 Comparing index:  55 which value:  5\n",
      "  8  value assigned\n",
      "inside the index. x value:  14590 Comparing index:  56 which value:  5\n",
      "  8  value assigned\n",
      "inside the index. x value:  14590 Comparing index:  57 which value:  5\n",
      "  8  value assigned\n",
      "inside the index. x value:  14590 Comparing index:  58 which value:  5\n",
      "  8  value assigned\n",
      "inside the index. x value:  14590 Comparing index:  59 which value:  5\n",
      "  8  value assigned\n",
      "inside the index. x value:  14590 Comparing index:  60 which value:  5\n",
      "  8  value assigned\n",
      "inside the index. x value:  14590 Comparing index:  61 which value:  5\n",
      "  8  value assigned\n",
      "inside the index. x value:  14590 Comparing index:  62 which value:  5\n",
      "  8  value assigned\n",
      "inside the index. x value:  14590 Comparing index:  63 which value:  5\n",
      "  8  value assigned\n",
      "inside the index. x value:  14590 Comparing index:  64 which value:  6\n",
      "  8  value assigned\n",
      "inside the index. x value:  14590 Comparing index:  65 which value:  6\n",
      "  8  value assigned\n",
      "inside the index. x value:  14590 Comparing index:  66 which value:  6\n",
      "  8  value assigned\n",
      "inside the index. x value:  14590 Comparing index:  67 which value:  6\n",
      "  8  value assigned\n",
      "inside the index. x value:  14590 Comparing index:  68 which value:  6\n",
      "  8  value assigned\n",
      "inside the index. x value:  14590 Comparing index:  69 which value:  6\n",
      "  8  value assigned\n",
      "inside the index. x value:  14590 Comparing index:  70 which value:  6\n",
      "  8  value assigned\n",
      "inside the index. x value:  14590 Comparing index:  71 which value:  6\n",
      "  8  value assigned\n",
      "inside the index. x value:  14590 Comparing index:  72 which value:  6\n",
      "  8  value assigned\n",
      "inside the index. x value:  14590 Comparing index:  73 which value:  6\n",
      "  8  value assigned\n",
      "inside the index. x value:  14590 Comparing index:  74 which value:  6\n",
      "  8  value assigned\n",
      "inside the index. x value:  14590 Comparing index:  75 which value:  6\n",
      "  8  value assigned\n",
      "inside the index. x value:  14590 Comparing index:  76 which value:  6\n",
      "  8  value assigned\n",
      "inside the index. x value:  14590 Comparing index:  77 which value:  6\n",
      "  8  value assigned\n",
      "inside the index. x value:  14590 Comparing index:  78 which value:  6\n",
      "  8  value assigned\n",
      "inside the index. x value:  14590 Comparing index:  79 which value:  6\n",
      "  8  value assigned\n",
      "inside the index. x value:  14590 Comparing index:  80 which value:  6\n",
      "  8  value assigned\n",
      "inside the index. x value:  14590 Comparing index:  81 which value:  6\n",
      "  8  value assigned\n",
      "inside the index. x value:  14590 Comparing index:  82 which value:  6\n",
      "  8  value assigned\n",
      "inside the index. x value:  14590 Comparing index:  83 which value:  6\n",
      "  8  value assigned\n",
      "inside the index. x value:  14590 Comparing index:  84 which value:  6\n",
      "  8  value assigned\n",
      "inside the index. x value:  14590 Comparing index:  85 which value:  6\n",
      "  8  value assigned\n",
      "inside the index. x value:  14590 Comparing index:  86 which value:  6\n",
      "  8  value assigned\n",
      "inside the index. x value:  14590 Comparing index:  87 which value:  6\n",
      "  8  value assigned\n",
      "inside the index. x value:  14590 Comparing index:  88 which value:  6\n",
      "  8  value assigned\n",
      "inside the index. x value:  14590 Comparing index:  89 which value:  6\n",
      "  8  value assigned\n",
      "inside the index. x value:  14590 Comparing index:  90 which value:  6\n",
      "  8  value assigned\n",
      "inside the index. x value:  14590 Comparing index:  91 which value:  6\n",
      "  8  value assigned\n",
      "inside the index. x value:  14590 Comparing index:  92 which value:  6\n",
      "  8  value assigned\n",
      "inside the index. x value:  14590 Comparing index:  93 which value:  6\n",
      "  8  value assigned\n",
      "inside the index. x value:  14590 Comparing index:  94 which value:  6\n",
      "  8  value assigned\n",
      "inside the index. x value:  14590 Comparing index:  95 which value:  6\n",
      "  8  value assigned\n",
      "inside the index. x value:  14590 Comparing index:  96 which value:  6\n",
      "  8  value assigned\n",
      "inside the index. x value:  14590 Comparing index:  97 which value:  6\n",
      "  8  value assigned\n",
      "inside the index. x value:  14590 Comparing index:  98 which value:  6\n",
      "  8  value assigned\n",
      "inside the index. x value:  14590 Comparing index:  99 which value:  6\n",
      "  8  value assigned\n",
      "inside the index. x value:  14590 Comparing index:  100 which value:  6\n",
      "  8  value assigned\n",
      "inside the index. x value:  14590 Comparing index:  101 which value:  6\n",
      "  8  value assigned\n",
      "inside the index. x value:  14590 Comparing index:  102 which value:  6\n",
      "  8  value assigned\n",
      "inside the index. x value:  14590 Comparing index:  103 which value:  6\n",
      "  8  value assigned\n",
      "inside the index. x value:  14590 Comparing index:  104 which value:  6\n",
      "  8  value assigned\n",
      "inside the index. x value:  14590 Comparing index:  105 which value:  6\n",
      "  8  value assigned\n",
      "inside the index. x value:  14590 Comparing index:  106 which value:  6\n",
      "  8  value assigned\n",
      "inside the index. x value:  14590 Comparing index:  107 which value:  6\n",
      "  8  value assigned\n",
      "inside the index. x value:  14590 Comparing index:  108 which value:  6\n",
      "  8  value assigned\n",
      "inside the index. x value:  14590 Comparing index:  109 which value:  6\n",
      "  8  value assigned\n",
      "inside the index. x value:  14590 Comparing index:  110 which value:  6\n",
      "  8  value assigned\n",
      "inside the index. x value:  14590 Comparing index:  111 which value:  6\n",
      "  8  value assigned\n",
      "inside the index. x value:  14590 Comparing index:  112 which value:  6\n",
      "  8  value assigned\n",
      "inside the index. x value:  14590 Comparing index:  113 which value:  6\n",
      "  8  value assigned\n",
      "inside the index. x value:  14590 Comparing index:  114 which value:  6\n",
      "  8  value assigned\n",
      "inside the index. x value:  14590 Comparing index:  115 which value:  6\n",
      "  8  value assigned\n",
      "inside the index. x value:  14590 Comparing index:  116 which value:  6\n",
      "  8  value assigned\n",
      "inside the index. x value:  14590 Comparing index:  117 which value:  6\n",
      "  8  value assigned\n",
      "inside the index. x value:  14590 Comparing index:  118 which value:  6\n",
      "  8  value assigned\n",
      "inside the index. x value:  14590 Comparing index:  119 which value:  6\n",
      "  8  value assigned\n",
      "inside the index. x value:  14590 Comparing index:  120 which value:  6\n",
      "  8  value assigned\n",
      "inside the index. x value:  14590 Comparing index:  121 which value:  6\n",
      "  8  value assigned\n",
      "inside the index. x value:  14590 Comparing index:  122 which value:  6\n",
      "  8  value assigned\n",
      "inside the index. x value:  14590 Comparing index:  123 which value:  6\n",
      "  8  value assigned\n",
      "inside the index. x value:  14590 Comparing index:  124 which value:  6\n",
      "  8  value assigned\n",
      "inside the index. x value:  14590 Comparing index:  125 which value:  6\n",
      "  8  value assigned\n",
      "inside the index. x value:  14590 Comparing index:  126 which value:  6\n",
      "  8  value assigned\n",
      "inside the index. x value:  14590 Comparing index:  127 which value:  6\n",
      "  8  value assigned\n",
      "inside the index. x value:  14590 Comparing index:  128 which value:  7\n",
      "  8  value assigned\n",
      "inside the index. x value:  14590 Comparing index:  129 which value:  7\n",
      "  8  value assigned\n",
      "inside the index. x value:  14590 Comparing index:  130 which value:  7\n",
      "  8  value assigned\n",
      "inside the index. x value:  14590 Comparing index:  131 which value:  7\n",
      "  8  value assigned\n",
      "inside the index. x value:  14590 Comparing index:  132 which value:  7\n",
      "  8  value assigned\n",
      "inside the index. x value:  14590 Comparing index:  133 which value:  7\n",
      "  8  value assigned\n",
      "inside the index. x value:  14590 Comparing index:  134 which value:  7\n",
      "  8  value assigned\n",
      "inside the index. x value:  14590 Comparing index:  135 which value:  7\n",
      "  8  value assigned\n",
      "inside the index. x value:  14590 Comparing index:  136 which value:  7\n",
      "  8  value assigned\n",
      "inside the index. x value:  14590 Comparing index:  137 which value:  7\n",
      "  8  value assigned\n",
      "inside the index. x value:  14590 Comparing index:  138 which value:  7\n",
      "  8  value assigned\n",
      "inside the index. x value:  14590 Comparing index:  139 which value:  7\n",
      "  8  value assigned\n",
      "inside the index. x value:  14590 Comparing index:  140 which value:  7\n",
      "  8  value assigned\n",
      "inside the index. x value:  14590 Comparing index:  141 which value:  7\n",
      "  8  value assigned\n",
      "inside the index. x value:  14590 Comparing index:  142 which value:  7\n",
      "  8  value assigned\n",
      "inside the index. x value:  14590 Comparing index:  143 which value:  7\n",
      "  8  value assigned\n",
      "inside the index. x value:  14590 Comparing index:  144 which value:  7\n",
      "  8  value assigned\n"
     ]
    },
    {
     "name": "stdout",
     "output_type": "stream",
     "text": [
      "inside the index. x value:  14590 Comparing index:  145 which value:  7\n",
      "  8  value assigned\n",
      "inside the index. x value:  14590 Comparing index:  146 which value:  7\n",
      "  8  value assigned\n",
      "inside the index. x value:  14590 Comparing index:  147 which value:  7\n",
      "  8  value assigned\n",
      "inside the index. x value:  14590 Comparing index:  148 which value:  7\n",
      "  8  value assigned\n",
      "inside the index. x value:  14590 Comparing index:  149 which value:  7\n",
      "  8  value assigned\n",
      "inside the index. x value:  14590 Comparing index:  150 which value:  7\n",
      "  8  value assigned\n",
      "inside the index. x value:  14590 Comparing index:  151 which value:  7\n",
      "  8  value assigned\n",
      "inside the index. x value:  14590 Comparing index:  152 which value:  7\n",
      "  8  value assigned\n",
      "inside the index. x value:  14590 Comparing index:  153 which value:  7\n",
      "  8  value assigned\n",
      "inside the index. x value:  14590 Comparing index:  154 which value:  7\n",
      "  8  value assigned\n",
      "inside the index. x value:  14590 Comparing index:  155 which value:  7\n",
      "  8  value assigned\n",
      "inside the index. x value:  14590 Comparing index:  156 which value:  7\n",
      "  8  value assigned\n",
      "inside the index. x value:  14590 Comparing index:  157 which value:  7\n",
      "  8  value assigned\n",
      "inside the index. x value:  14590 Comparing index:  158 which value:  7\n",
      "  8  value assigned\n",
      "inside the index. x value:  14590 Comparing index:  159 which value:  7\n",
      "  8  value assigned\n",
      "inside the index. x value:  14590 Comparing index:  160 which value:  7\n",
      "  8  value assigned\n",
      "inside the index. x value:  14590 Comparing index:  161 which value:  7\n",
      "  8  value assigned\n",
      "inside the index. x value:  14590 Comparing index:  162 which value:  7\n",
      "  8  value assigned\n",
      "inside the index. x value:  14590 Comparing index:  163 which value:  7\n",
      "  8  value assigned\n",
      "inside the index. x value:  14590 Comparing index:  164 which value:  7\n",
      "  8  value assigned\n",
      "inside the index. x value:  14590 Comparing index:  165 which value:  7\n",
      "  8  value assigned\n",
      "inside the index. x value:  14590 Comparing index:  166 which value:  7\n",
      "  8  value assigned\n",
      "inside the index. x value:  14590 Comparing index:  167 which value:  7\n",
      "  8  value assigned\n",
      "inside the index. x value:  14590 Comparing index:  168 which value:  7\n",
      "  8  value assigned\n",
      "inside the index. x value:  14590 Comparing index:  169 which value:  7\n",
      "  8  value assigned\n",
      "inside the index. x value:  14590 Comparing index:  170 which value:  7\n",
      "  8  value assigned\n",
      "inside the index. x value:  14590 Comparing index:  171 which value:  7\n",
      "  8  value assigned\n",
      "inside the index. x value:  14590 Comparing index:  172 which value:  7\n",
      "  8  value assigned\n",
      "inside the index. x value:  14590 Comparing index:  173 which value:  7\n",
      "  8  value assigned\n",
      "inside the index. x value:  14590 Comparing index:  174 which value:  7\n",
      "  8  value assigned\n",
      "inside the index. x value:  14590 Comparing index:  175 which value:  7\n",
      "  8  value assigned\n",
      "inside the index. x value:  14590 Comparing index:  176 which value:  7\n",
      "  8  value assigned\n",
      "inside the index. x value:  14590 Comparing index:  177 which value:  7\n",
      "  8  value assigned\n",
      "inside the index. x value:  14590 Comparing index:  178 which value:  7\n",
      "  8  value assigned\n",
      "inside the index. x value:  14590 Comparing index:  179 which value:  7\n",
      "  8  value assigned\n",
      "inside the index. x value:  14590 Comparing index:  180 which value:  7\n",
      "  8  value assigned\n",
      "inside the index. x value:  14590 Comparing index:  181 which value:  7\n",
      "  8  value assigned\n",
      "inside the index. x value:  14590 Comparing index:  182 which value:  7\n",
      "  8  value assigned\n",
      "inside the index. x value:  14590 Comparing index:  183 which value:  7\n",
      "  8  value assigned\n",
      "inside the index. x value:  14590 Comparing index:  184 which value:  7\n",
      "  8  value assigned\n",
      "inside the index. x value:  14590 Comparing index:  185 which value:  7\n",
      "  8  value assigned\n",
      "inside the index. x value:  14590 Comparing index:  186 which value:  7\n",
      "  8  value assigned\n",
      "inside the index. x value:  14590 Comparing index:  187 which value:  7\n",
      "  8  value assigned\n",
      "inside the index. x value:  14590 Comparing index:  188 which value:  7\n",
      "  8  value assigned\n",
      "inside the index. x value:  14590 Comparing index:  189 which value:  7\n",
      "  8  value assigned\n",
      "inside the index. x value:  14590 Comparing index:  190 which value:  7\n",
      "  8  value assigned\n",
      "inside the index. x value:  14590 Comparing index:  191 which value:  7\n",
      "  8  value assigned\n",
      "inside the index. x value:  14590 Comparing index:  192 which value:  7\n",
      "  8  value assigned\n",
      "inside the index. x value:  14590 Comparing index:  193 which value:  7\n",
      "  8  value assigned\n",
      "inside the index. x value:  14590 Comparing index:  194 which value:  7\n",
      "  8  value assigned\n",
      "inside the index. x value:  14590 Comparing index:  195 which value:  7\n",
      "  8  value assigned\n",
      "inside the index. x value:  14590 Comparing index:  196 which value:  7\n",
      "  8  value assigned\n",
      "inside the index. x value:  14590 Comparing index:  197 which value:  7\n",
      "  8  value assigned\n",
      "inside the index. x value:  14590 Comparing index:  198 which value:  7\n",
      "  8  value assigned\n",
      "inside the index. x value:  14590 Comparing index:  199 which value:  7\n",
      "  8  value assigned\n",
      "inside the index. x value:  14590 Comparing index:  200 which value:  7\n",
      "  8  value assigned\n",
      "inside the index. x value:  14590 Comparing index:  201 which value:  7\n",
      "  8  value assigned\n",
      "inside the index. x value:  14590 Comparing index:  202 which value:  7\n",
      "  8  value assigned\n",
      "inside the index. x value:  14590 Comparing index:  203 which value:  7\n",
      "  8  value assigned\n",
      "inside the index. x value:  14590 Comparing index:  204 which value:  7\n",
      "  8  value assigned\n",
      "inside the index. x value:  14590 Comparing index:  205 which value:  7\n",
      "  8  value assigned\n",
      "inside the index. x value:  14590 Comparing index:  206 which value:  7\n",
      "  8  value assigned\n",
      "inside the index. x value:  14590 Comparing index:  207 which value:  7\n",
      "  8  value assigned\n",
      "inside the index. x value:  14590 Comparing index:  208 which value:  7\n",
      "  8  value assigned\n",
      "inside the index. x value:  14590 Comparing index:  209 which value:  7\n",
      "  8  value assigned\n",
      "inside the index. x value:  14590 Comparing index:  210 which value:  7\n",
      "  8  value assigned\n",
      "inside the index. x value:  14590 Comparing index:  211 which value:  7\n",
      "  8  value assigned\n",
      "inside the index. x value:  14590 Comparing index:  212 which value:  7\n",
      "  8  value assigned\n",
      "inside the index. x value:  14590 Comparing index:  213 which value:  7\n",
      "  8  value assigned\n",
      "inside the index. x value:  14590 Comparing index:  214 which value:  7\n",
      "  8  value assigned\n",
      "inside the index. x value:  14590 Comparing index:  215 which value:  7\n",
      "  8  value assigned\n",
      "inside the index. x value:  14590 Comparing index:  216 which value:  7\n",
      "  8  value assigned\n",
      "inside the index. x value:  14590 Comparing index:  217 which value:  7\n",
      "  8  value assigned\n",
      "inside the index. x value:  14590 Comparing index:  218 which value:  7\n",
      "  8  value assigned\n",
      "inside the index. x value:  14590 Comparing index:  219 which value:  7\n",
      "  8  value assigned\n",
      "inside the index. x value:  14590 Comparing index:  220 which value:  7\n",
      "  8  value assigned\n",
      "inside the index. x value:  14590 Comparing index:  221 which value:  7\n",
      "  8  value assigned\n",
      "inside the index. x value:  14590 Comparing index:  222 which value:  7\n",
      "  8  value assigned\n",
      "inside the index. x value:  14590 Comparing index:  223 which value:  7\n",
      "  8  value assigned\n",
      "inside the index. x value:  14590 Comparing index:  224 which value:  7\n",
      "  8  value assigned\n",
      "inside the index. x value:  14590 Comparing index:  225 which value:  7\n",
      "  8  value assigned\n",
      "inside the index. x value:  14590 Comparing index:  226 which value:  7\n",
      "  8  value assigned\n",
      "inside the index. x value:  14590 Comparing index:  227 which value:  7\n",
      "  8  value assigned\n",
      "inside the index. x value:  14590 Comparing index:  228 which value:  7\n",
      "  8  value assigned\n",
      "inside the index. x value:  14590 Comparing index:  229 which value:  7\n",
      "  8  value assigned\n",
      "inside the index. x value:  14590 Comparing index:  230 which value:  7\n",
      "  8  value assigned\n",
      "inside the index. x value:  14590 Comparing index:  231 which value:  7\n",
      "  8  value assigned\n",
      "inside the index. x value:  14590 Comparing index:  232 which value:  7\n",
      "  8  value assigned\n",
      "inside the index. x value:  14590 Comparing index:  233 which value:  7\n",
      "  8  value assigned\n",
      "inside the index. x value:  14590 Comparing index:  234 which value:  7\n",
      "  8  value assigned\n",
      "inside the index. x value:  14590 Comparing index:  235 which value:  7\n",
      "  8  value assigned\n",
      "inside the index. x value:  14590 Comparing index:  236 which value:  7\n",
      "  8  value assigned\n",
      "inside the index. x value:  14590 Comparing index:  237 which value:  7\n",
      "  8  value assigned\n",
      "inside the index. x value:  14590 Comparing index:  238 which value:  7\n",
      "  8  value assigned\n",
      "inside the index. x value:  14590 Comparing index:  239 which value:  7\n",
      "  8  value assigned\n",
      "inside the index. x value:  14590 Comparing index:  240 which value:  7\n",
      "  8  value assigned\n",
      "inside the index. x value:  14590 Comparing index:  241 which value:  7\n",
      "  8  value assigned\n",
      "inside the index. x value:  14590 Comparing index:  242 which value:  7\n",
      "  8  value assigned\n",
      "inside the index. x value:  14590 Comparing index:  243 which value:  7\n",
      "  8  value assigned\n",
      "inside the index. x value:  14590 Comparing index:  244 which value:  7\n",
      "  8  value assigned\n",
      "inside the index. x value:  14590 Comparing index:  245 which value:  7\n",
      "  8  value assigned\n",
      "inside the index. x value:  14590 Comparing index:  246 which value:  7\n",
      "  8  value assigned\n",
      "inside the index. x value:  14590 Comparing index:  247 which value:  7\n",
      "  8  value assigned\n",
      "inside the index. x value:  14590 Comparing index:  248 which value:  7\n",
      "  8  value assigned\n",
      "inside the index. x value:  14590 Comparing index:  249 which value:  7\n",
      "  8  value assigned\n",
      "inside the index. x value:  14590 Comparing index:  250 which value:  7\n",
      "  8  value assigned\n",
      "inside the index. x value:  14590 Comparing index:  251 which value:  7\n",
      "  8  value assigned\n",
      "inside the index. x value:  14590 Comparing index:  252 which value:  7\n",
      "  8  value assigned\n",
      "inside the index. x value:  14590 Comparing index:  253 which value:  7\n",
      "  8  value assigned\n",
      "inside the index. x value:  14590 Comparing index:  254 which value:  7\n",
      "  8  value assigned\n",
      "inside the index. x value:  14590 Comparing index:  255 which value:  7\n",
      "  8  value assigned\n",
      "[0, 0, 1, 1, 2, 2, 2, 2, 3, 3, 3, 3, 3, 3, 3, 3, 4, 4, 4, 4, 4, 4, 4, 4, 4, 4, 4, 4, 4, 4, 4, 4, 5, 5, 5, 5, 5, 5, 5, 5, 5, 5, 5, 5, 5, 5, 5, 5, 5, 5, 5, 5, 5, 5, 5, 5, 5, 5, 5, 5, 5, 5, 5, 5, 6, 6, 6, 6, 6, 6, 6, 6, 6, 6, 6, 6, 6, 6, 6, 6, 6, 6, 6, 6, 6, 6, 6, 6, 6, 6, 6, 6, 6, 6, 6, 6, 6, 6, 6, 6, 6, 6, 6, 6, 6, 6, 6, 6, 6, 6, 6, 6, 6, 6, 6, 6, 6, 6, 6, 6, 6, 6, 6, 6, 6, 6, 6, 6, 7, 7, 7, 7, 7, 7, 7, 7, 7, 7, 7, 7, 7, 7, 7, 7, 7, 7, 7, 7, 7, 7, 7, 7, 7, 7, 7, 7, 7, 7, 7, 7, 7, 7, 7, 7, 7, 7, 7, 7, 7, 7, 7, 7, 7, 7, 7, 7, 7, 7, 7, 7, 7, 7, 7, 7, 7, 7, 7, 7, 7, 7, 7, 7, 7, 7, 7, 7, 7, 7, 7, 7, 7, 7, 7, 7, 7, 7, 7, 7, 7, 7, 7, 7, 7, 7, 7, 7, 7, 7, 7, 7, 7, 7, 7, 7, 7, 7, 7, 7, 7, 7, 7, 7, 7, 7, 7, 7, 7, 7, 7, 7, 7, 7, 7, 7, 7, 7, 7, 7, 7, 7, 7, 7, 7, 7, 7, 7, 8, 8, 8, 8, 8, 8, 8, 8, 8, 8, 8, 8, 8, 8, 8, 8, 8, 8, 8, 8, 8, 8, 8, 8, 8, 8, 8, 8, 8, 8, 8, 8, 8, 8, 8, 8, 8, 8, 8, 8, 8, 8, 8, 8, 8, 8, 8, 8, 8, 8, 8, 8, 8, 8, 8, 8, 8, 8, 8, 8, 8, 8, 8, 8, 8, 8, 8, 8, 8, 8, 8, 8, 8, 8, 8, 8, 8, 8, 8, 8, 8, 8, 8, 8, 8, 8, 8, 8, 8, 8, 8, 8, 8, 8, 8, 8, 8, 8, 8, 8, 8, 8, 8, 8, 8, 8, 8, 8, 8, 8, 8, 8, 8, 8, 8, 8, 8, 8, 8, 8, 8, 8, 8, 8, 8, 8, 8, 8, 8, 8, 8, 8, 8, 8, 8, 8, 8, 8, 8, 8, 8, 8, 8, 8, 8, 8, 8, 8, 8, 8, 8, 8, 8, 8, 8, 8, 8, 8, 8, 8, 8, 8, 8, 8, 8, 8, 8, 8, 8, 8, 8, 8, 8, 8, 8, 8, 8, 8, 8, 8, 8, 8, 8, 8, 8, 8, 8, 8, 8, 8, 8, 8, 8, 8, 8, 8, 8, 8, 8, 8, 8, 8, 8, 8, 8, 8, 8, 8, 8, 8, 8, 8, 8, 8, 8, 8, 8, 8, 8, 8, 8, 8, 8, 8, 8, 8, 8, 8, 8, 8, 8, 8, 8, 8, 8, 8, 8, 8, 8, 8, 8, 8, 8, 8, 8, 8, 8, 8, 8, 8, 8, 8, 8, 8, 8, 8]\n"
     ]
    }
   ],
   "source": [
    "fitness = [ 14590, 2050, 1476,342,7380,252,456, 545,45]\n",
    "index = [0]\n",
    "\n",
    "for i in range (len(fitness)):\n",
    "        x = fitness.pop()\n",
    "        print(\"taking the fitness value index: \", i)\n",
    "        \n",
    "        for j in range (len(index)):\n",
    "            print(\"inside the index. x value: \", x, \"Comparing index: \", j, \"which value: \", index[j])\n",
    "            \n",
    "            if(x > index[j]):\n",
    "                \n",
    "                index.append(i)\n",
    "                print(\" \", i, \" value assigned\")\n",
    "print(index)"
   ]
  },
  {
   "cell_type": "code",
   "execution_count": null,
   "id": "cca8fdda",
   "metadata": {},
   "outputs": [],
   "source": [
    "fitness = [ 14590, 2050, 1476,342,7380,252,7552,14832,3492,8626,532,8812,14112,1402,1710,9576,7552,4762,9382,4626]\n",
    "\n",
    "i = 1\n",
    "j=90\n",
    "index=[]\n",
    "index.append(i)\n",
    "index.append(j)\n",
    "\n",
    "index\n",
    "index[i]"
   ]
  },
  {
   "cell_type": "code",
   "execution_count": 50,
   "id": "cd18194b",
   "metadata": {},
   "outputs": [
    {
     "name": "stdout",
     "output_type": "stream",
     "text": [
      "7\n",
      "0\n",
      "5\n",
      "[[0, 0, 1, 0, 0, 1, 1], [0, 1, 1, 1, 1, 0, 0]]\n"
     ]
    }
   ],
   "source": [
    "offspring=[[0, 1, 1, 1, 1, 0, 0],\n",
    " [1, 0, 1, 1, 1, 1, 0],\n",
    " [1, 0, 0, 0, 1, 0, 0],\n",
    " [1, 1, 1, 0, 0, 1, 1],\n",
    " [1, 0, 0, 1, 0, 1, 1],\n",
    " [1, 1, 1, 0, 0, 1, 0],\n",
    " [1, 1, 1, 0, 1, 0, 1],\n",
    " [0, 0, 1, 0, 0, 1, 1]]\n",
    "number_list = [14590, 2050, 1476,342,7380,252,7552,14832]\n",
    "\n",
    "new = []\n",
    "\n",
    "\n",
    "for i in range(len(number_list)):\n",
    "    max_value = max(number_list)\n",
    "    max_index = number_list.index(max_value)\n",
    "    print(max_index)\n",
    "    \n",
    "    if(len(new)<=1):\n",
    "        new.append(offspring[max_index])\n",
    "        number_list.pop(max_index)\n",
    "    \n",
    "    else:\n",
    "        break\n",
    "    \n",
    "        \n",
    "    \n",
    "print(new)\n",
    "        \n",
    "        \n",
    "    "
   ]
  },
  {
   "cell_type": "code",
   "execution_count": 39,
   "id": "50a0cce3",
   "metadata": {},
   "outputs": [
    {
     "ename": "SyntaxError",
     "evalue": "invalid syntax (<ipython-input-39-4a0f058b75d6>, line 1)",
     "output_type": "error",
     "traceback": [
      "\u001b[1;36m  File \u001b[1;32m\"<ipython-input-39-4a0f058b75d6>\"\u001b[1;36m, line \u001b[1;32m1\u001b[0m\n\u001b[1;33m    my_list = [10,72,54,25,90,40]fsdfsdfds\u001b[0m\n\u001b[1;37m                                 ^\u001b[0m\n\u001b[1;31mSyntaxError\u001b[0m\u001b[1;31m:\u001b[0m invalid syntax\n"
     ]
    }
   ],
   "source": [
    "my_list = [10,72,54,25,90,40]\n",
    "print(f'Max index is : {my_list.index(max_item)}')"
   ]
  },
  {
   "cell_type": "code",
   "execution_count": 49,
   "id": "a9f2b9c3",
   "metadata": {},
   "outputs": [
    {
     "data": {
      "text/plain": [
       "[[0, 1, 1, 1, 1, 0, 0],\n",
       " [1, 0, 1, 1, 1, 1, 0],\n",
       " [1, 0, 0, 0, 1, 0, 0],\n",
       " [1, 1, 1, 0, 0, 1, 1],\n",
       " [1, 0, 0, 1, 0, 1, 1],\n",
       " [1, 1, 1, 0, 0, 1, 0],\n",
       " [1, 1, 1, 0, 1, 0, 1],\n",
       " [0, 0, 1, 0, 0, 1, 1]]"
      ]
     },
     "execution_count": 49,
     "metadata": {},
     "output_type": "execute_result"
    }
   ],
   "source": [
    "offspring=[[0, 1, 1, 1, 1, 0, 0],\n",
    " [1, 0, 1, 1, 1, 1, 0],\n",
    " [1, 0, 0, 0, 1, 0, 0],\n",
    " [1, 1, 1, 0, 0, 1, 1],\n",
    " [1, 0, 0, 1, 0, 1, 1],\n",
    " [1, 1, 1, 0, 0, 1, 0],\n",
    " [1, 1, 1, 0, 1, 0, 1],\n",
    " [0, 0, 1, 0, 0, 1, 1]]\n",
    "\n",
    "initial = offspring\n",
    "initial"
   ]
  },
  {
   "cell_type": "markdown",
   "id": "dfbc8098",
   "metadata": {},
   "source": [
    "# Numphy"
   ]
  },
  {
   "attachments": {
    "image.png": {
     "image/png": "[encoded data removed]"
    }
   },
   "cell_type": "markdown",
   "id": "586f8812",
   "metadata": {},
   "source": [
    "![image.png](attachment:image.png)"
   ]
  },
  {
   "cell_type": "code",
   "execution_count": 23,
   "id": "a7d10462",
   "metadata": {},
   "outputs": [
    {
     "name": "stdout",
     "output_type": "stream",
     "text": [
      "[1 2 3 4 5]\n"
     ]
    }
   ],
   "source": [
    "import numpy as np\n",
    "\n",
    "arr = np.array([1, 2, 3, 4, 5]) #np.array(----values------) = keyword\n",
    "\n",
    "print(arr)"
   ]
  },
  {
   "cell_type": "code",
   "execution_count": 24,
   "id": "0f7cbc5a",
   "metadata": {},
   "outputs": [
    {
     "name": "stdout",
     "output_type": "stream",
     "text": [
      "[array([1, 2]), array([3]), array([4]), array([5])]\n"
     ]
    }
   ],
   "source": [
    "#np.array_split(--parameters---) = keyword\n",
    "\n",
    "newArr=np.array_split(arr,4) #np.array_split(array which you want to split, number of part you want to divide it)\n",
    "\n",
    "print(newArr)\n",
    "\n"
   ]
  },
  {
   "cell_type": "code",
   "execution_count": 10,
   "id": "e7cc72e6",
   "metadata": {},
   "outputs": [
    {
     "name": "stdout",
     "output_type": "stream",
     "text": [
      "1.20.1\n"
     ]
    }
   ],
   "source": [
    "import numpy as np\n",
    "\n",
    "print(np.__version__)"
   ]
  },
  {
   "cell_type": "markdown",
   "id": "1bfcec24",
   "metadata": {},
   "source": [
    "\n",
    "\n",
    "# puzzle BreakDown\n"
   ]
  },
  {
   "cell_type": "code",
   "execution_count": 2,
   "id": "8c36c9ee",
   "metadata": {},
   "outputs": [
    {
     "data": {
      "text/plain": [
       "[0, 1, 2, 3, 4, 5, 6, 7, 8, 9, 10, 11, 12, 13, 14, 15]"
      ]
     },
     "execution_count": 2,
     "metadata": {},
     "output_type": "execute_result"
    }
   ],
   "source": [
    "#make a list\n",
    "state = [item for item in range(4*4)]\n",
    "\n",
    "state\n"
   ]
  },
  {
   "cell_type": "code",
   "execution_count": 3,
   "id": "341b477f",
   "metadata": {},
   "outputs": [
    {
     "data": {
      "text/plain": [
       "[4, 7, 15, 2, 5, 12, 13, 14, 8, 11, 10, 1, 0, 6, 3, 9]"
      ]
     },
     "execution_count": 3,
     "metadata": {},
     "output_type": "execute_result"
    }
   ],
   "source": [
    "#shuffeling the list\n",
    "import random\n",
    "\n",
    "random.shuffle(state)\n",
    "\n",
    "state"
   ]
  },
  {
   "cell_type": "code",
   "execution_count": 4,
   "id": "8e0a6692",
   "metadata": {},
   "outputs": [
    {
     "data": {
      "text/plain": [
       "array([ 4,  7, 15,  2,  5, 12, 13, 14,  8, 11, 10,  1,  0,  6,  3,  9])"
      ]
     },
     "execution_count": 4,
     "metadata": {},
     "output_type": "execute_result"
    }
   ],
   "source": [
    "#convert it to array\n",
    "import numpy as np\n",
    "tmp = np.array(state)\n",
    "\n",
    "tmp"
   ]
  },
  {
   "cell_type": "code",
   "execution_count": 5,
   "id": "82c51420",
   "metadata": {},
   "outputs": [
    {
     "data": {
      "text/plain": [
       "[4, 7, 15, 2, 5, 12, 13, 14, 8, 11, 10, 1, 0, 6, 3, 9]"
      ]
     },
     "execution_count": 5,
     "metadata": {},
     "output_type": "execute_result"
    }
   ],
   "source": [
    "state #list = []"
   ]
  },
  {
   "cell_type": "code",
   "execution_count": 10,
   "id": "ed48df0c",
   "metadata": {},
   "outputs": [
    {
     "data": {
      "text/plain": [
       "16"
      ]
     },
     "execution_count": 10,
     "metadata": {},
     "output_type": "execute_result"
    }
   ],
   "source": [
    "tmp # array []\n",
    "len(tmp)"
   ]
  },
  {
   "cell_type": "code",
   "execution_count": 7,
   "id": "4acbfafe",
   "metadata": {},
   "outputs": [
    {
     "name": "stdout",
     "output_type": "stream",
     "text": [
      "[[ 4  7 15  2]\n",
      " [ 5 12 13 14]\n",
      " [ 8 11 10  1]\n",
      " [ 0  6  3  9]]\n"
     ]
    }
   ],
   "source": [
    "#make it look like a Matrix\n",
    "print(tmp.reshape(4, 4))\n",
    "\n"
   ]
  },
  {
   "cell_type": "code",
   "execution_count": 8,
   "id": "3aade863",
   "metadata": {},
   "outputs": [
    {
     "name": "stdout",
     "output_type": "stream",
     "text": [
      "[4, 7, 15, 2, 5, 12, 13, 14, 8, 11, 10, 1, 6, 3, 9]\n"
     ]
    }
   ],
   "source": [
    "state = [i for i in state if i !=0]\n",
    "print(state)"
   ]
  },
  {
   "cell_type": "code",
   "execution_count": 9,
   "id": "7298773f",
   "metadata": {},
   "outputs": [
    {
     "data": {
      "text/plain": [
       "120"
      ]
     },
     "execution_count": 9,
     "metadata": {},
     "output_type": "execute_result"
    }
   ],
   "source": [
    "sum(state)"
   ]
  },
  {
   "cell_type": "code",
   "execution_count": null,
   "id": "c13c45b9",
   "metadata": {},
   "outputs": [],
   "source": []
  },
  {
   "cell_type": "code",
   "execution_count": 11,
   "id": "0e59bbbc",
   "metadata": {},
   "outputs": [
    {
     "name": "stdout",
     "output_type": "stream",
     "text": [
      "[3, 3, 2, 1]\n",
      "[3, 1, 2, 2]\n"
     ]
    }
   ],
   "source": [
    "import random\n",
    "N = 4\n",
    "r = []\n",
    "c = []\n",
    "for i in range(1, N+1):\n",
    "    r.append(random.choice(range(1, N+1)))\n",
    "    c.append(random.choice(range(1, N+1)))\n",
    "    \n",
    "    \n",
    "print(r)\n",
    "print(c)\n"
   ]
  },
  {
   "cell_type": "code",
   "execution_count": 68,
   "id": "be0d5e3a",
   "metadata": {},
   "outputs": [
    {
     "name": "stdout",
     "output_type": "stream",
     "text": [
      "inside-- i:  0 j:  2\n",
      "inside-- i:  0 j:  3\n",
      "inside-- i:  1 j:  2\n",
      "inside-- i:  1 j:  3\n",
      "inside-- i:  2 j:  2\n",
      "inside-- i:  2 j:  3\n",
      "Not valid\n"
     ]
    }
   ],
   "source": [
    "r =[2, 4, 4, 2]\n",
    "c =[2, 3, 1, 9]\n",
    "\n",
    "counter = 0 \n",
    "for i in range(len(r)):\n",
    "    for j in range (1, len(r)):\n",
    "        j = j+1;\n",
    "        if(j < len(r)):\n",
    "            print(\"inside-- i: \",i, \"j: \", j)\n",
    "            if(r[i] == r[j]):\n",
    "                if(c[i] == c[j]):\n",
    "                    counter+=1\n",
    "    if counter!=0:\n",
    "        print(\"Not valid\")\n",
    "        break\n",
    "\n",
    "        "
   ]
  },
  {
   "cell_type": "code",
   "execution_count": 73,
   "id": "7d05b24a",
   "metadata": {},
   "outputs": [
    {
     "name": "stdout",
     "output_type": "stream",
     "text": [
      "Not Valid\n"
     ]
    }
   ],
   "source": [
    "r =[2, 4, 4, 2]\n",
    "c =[9, 2, 3, 9]\n",
    "counter = 0\n",
    "for i in range(0,N):\n",
    "    for j in range(i+1,N):\n",
    "        if(r[i] == r[j]):\n",
    "            if(c[i] == c[j]):\n",
    "                    counter+=1\n",
    "if counter!=0:\n",
    "    print(\"Not Valid\")\n",
    "else:\n",
    "    print(\"Valid\")"
   ]
  },
  {
   "cell_type": "code",
   "execution_count": null,
   "id": "cd0390d0",
   "metadata": {},
   "outputs": [],
   "source": [
    "\n"
   ]
  },
  {
   "cell_type": "markdown",
   "id": "4bb6db73",
   "metadata": {},
   "source": [
    "# chess"
   ]
  },
  {
   "cell_type": "code",
   "execution_count": 2,
   "id": "a521d63b",
   "metadata": {},
   "outputs": [
    {
     "data": {
      "image/svg+xml": [
       "<svg xmlns=\"http://www.w3.org/2000/svg\" xmlns:xlink=\"http://www.w3.org/1999/xlink\" version=\"1.2\" baseProfile=\"tiny\" viewBox=\"0 0 390 390\" width=\"390\" height=\"390\"><defs><g id=\"white-pawn\" class=\"white pawn\"><path d=\"M22.5 9c-2.21 0-4 1.79-4 4 0 .89.29 1.71.78 2.38C17.33 16.5 16 18.59 16 21c0 2.03.94 3.84 2.41 5.03-3 1.06-7.41 5.55-7.41 13.47h23c0-7.92-4.41-12.41-7.41-13.47 1.47-1.19 2.41-3 2.41-5.03 0-2.41-1.33-4.5-3.28-5.62.49-.67.78-1.49.78-2.38 0-2.21-1.79-4-4-4z\" fill=\"#fff\" stroke=\"#000\" stroke-width=\"1.5\" stroke-linecap=\"round\" /></g><g id=\"white-knight\" class=\"white knight\" fill=\"none\" fill-rule=\"evenodd\" stroke=\"#000\" stroke-width=\"1.5\" stroke-linecap=\"round\" stroke-linejoin=\"round\"><path d=\"M 22,10 C 32.5,11 38.5,18 38,39 L 15,39 C 15,30 25,32.5 23,18\" style=\"fill:#ffffff; stroke:#000000;\" /><path d=\"M 24,18 C 24.38,20.91 18.45,25.37 16,27 C 13,29 13.18,31.34 11,31 C 9.958,30.06 12.41,27.96 11,28 C 10,28 11.19,29.23 10,30 C 9,30 5.997,31 6,26 C 6,24 12,14 12,14 C 12,14 13.89,12.1 14,10.5 C 13.27,9.506 13.5,8.5 13.5,7.5 C 14.5,6.5 16.5,10 16.5,10 L 18.5,10 C 18.5,10 19.28,8.008 21,7 C 22,7 22,10 22,10\" style=\"fill:#ffffff; stroke:#000000;\" /><path d=\"M 9.5 25.5 A 0.5 0.5 0 1 1 8.5,25.5 A 0.5 0.5 0 1 1 9.5 25.5 z\" style=\"fill:#000000; stroke:#000000;\" /><path d=\"M 15 15.5 A 0.5 1.5 0 1 1 14,15.5 A 0.5 1.5 0 1 1 15 15.5 z\" transform=\"matrix(0.866,0.5,-0.5,0.866,9.693,-5.173)\" style=\"fill:#000000; stroke:#000000;\" /></g><g id=\"white-bishop\" class=\"white bishop\" fill=\"none\" fill-rule=\"evenodd\" stroke=\"#000\" stroke-width=\"1.5\" stroke-linecap=\"round\" stroke-linejoin=\"round\"><g fill=\"#fff\" stroke-linecap=\"butt\"><path d=\"M9 36c3.39-.97 10.11.43 13.5-2 3.39 2.43 10.11 1.03 13.5 2 0 0 1.65.54 3 2-.68.97-1.65.99-3 .5-3.39-.97-10.11.46-13.5-1-3.39 1.46-10.11.03-13.5 1-1.354.49-2.323.47-3-.5 1.354-1.94 3-2 3-2zM15 32c2.5 2.5 12.5 2.5 15 0 .5-1.5 0-2 0-2 0-2.5-2.5-4-2.5-4 5.5-1.5 6-11.5-5-15.5-11 4-10.5 14-5 15.5 0 0-2.5 1.5-2.5 4 0 0-.5.5 0 2zM25 8a2.5 2.5 0 1 1-5 0 2.5 2.5 0 1 1 5 0z\" /></g><path d=\"M17.5 26h10M15 30h15m-7.5-14.5v5M20 18h5\" stroke-linejoin=\"miter\" /></g><g id=\"white-rook\" class=\"white rook\" fill=\"#fff\" fill-rule=\"evenodd\" stroke=\"#000\" stroke-width=\"1.5\" stroke-linecap=\"round\" stroke-linejoin=\"round\"><path d=\"M9 39h27v-3H9v3zM12 36v-4h21v4H12zM11 14V9h4v2h5V9h5v2h5V9h4v5\" stroke-linecap=\"butt\" /><path d=\"M34 14l-3 3H14l-3-3\" /><path d=\"M31 17v12.5H14V17\" stroke-linecap=\"butt\" stroke-linejoin=\"miter\" /><path d=\"M31 29.5l1.5 2.5h-20l1.5-2.5\" /><path d=\"M11 14h23\" fill=\"none\" stroke-linejoin=\"miter\" /></g><g id=\"white-queen\" class=\"white queen\" fill=\"#fff\" fill-rule=\"evenodd\" stroke=\"#000\" stroke-width=\"1.5\" stroke-linecap=\"round\" stroke-linejoin=\"round\"><path d=\"M8 12a2 2 0 1 1-4 0 2 2 0 1 1 4 0zM24.5 7.5a2 2 0 1 1-4 0 2 2 0 1 1 4 0zM41 12a2 2 0 1 1-4 0 2 2 0 1 1 4 0zM16 8.5a2 2 0 1 1-4 0 2 2 0 1 1 4 0zM33 9a2 2 0 1 1-4 0 2 2 0 1 1 4 0z\" /><path d=\"M9 26c8.5-1.5 21-1.5 27 0l2-12-7 11V11l-5.5 13.5-3-15-3 15-5.5-14V25L7 14l2 12zM9 26c0 2 1.5 2 2.5 4 1 1.5 1 1 .5 3.5-1.5 1-1.5 2.5-1.5 2.5-1.5 1.5.5 2.5.5 2.5 6.5 1 16.5 1 23 0 0 0 1.5-1 0-2.5 0 0 .5-1.5-1-2.5-.5-2.5-.5-2 .5-3.5 1-2 2.5-2 2.5-4-8.5-1.5-18.5-1.5-27 0z\" stroke-linecap=\"butt\" /><path d=\"M11.5 30c3.5-1 18.5-1 22 0M12 33.5c6-1 15-1 21 0\" fill=\"none\" /></g><g id=\"white-king\" class=\"white king\" fill=\"none\" fill-rule=\"evenodd\" stroke=\"#000\" stroke-width=\"1.5\" stroke-linecap=\"round\" stroke-linejoin=\"round\"><path d=\"M22.5 11.63V6M20 8h5\" stroke-linejoin=\"miter\" /><path d=\"M22.5 25s4.5-7.5 3-10.5c0 0-1-2.5-3-2.5s-3 2.5-3 2.5c-1.5 3 3 10.5 3 10.5\" fill=\"#fff\" stroke-linecap=\"butt\" stroke-linejoin=\"miter\" /><path d=\"M11.5 37c5.5 3.5 15.5 3.5 21 0v-7s9-4.5 6-10.5c-4-6.5-13.5-3.5-16 4V27v-3.5c-3.5-7.5-13-10.5-16-4-3 6 5 10 5 10V37z\" fill=\"#fff\" /><path d=\"M11.5 30c5.5-3 15.5-3 21 0m-21 3.5c5.5-3 15.5-3 21 0m-21 3.5c5.5-3 15.5-3 21 0\" /></g><g id=\"black-pawn\" class=\"black pawn\"><path d=\"M22.5 9c-2.21 0-4 1.79-4 4 0 .89.29 1.71.78 2.38C17.33 16.5 16 18.59 16 21c0 2.03.94 3.84 2.41 5.03-3 1.06-7.41 5.55-7.41 13.47h23c0-7.92-4.41-12.41-7.41-13.47 1.47-1.19 2.41-3 2.41-5.03 0-2.41-1.33-4.5-3.28-5.62.49-.67.78-1.49.78-2.38 0-2.21-1.79-4-4-4z\" stroke=\"#000\" stroke-width=\"1.5\" stroke-linecap=\"round\" /></g><g id=\"black-knight\" class=\"black knight\" fill=\"none\" fill-rule=\"evenodd\" stroke=\"#000\" stroke-width=\"1.5\" stroke-linecap=\"round\" stroke-linejoin=\"round\"><path d=\"M 22,10 C 32.5,11 38.5,18 38,39 L 15,39 C 15,30 25,32.5 23,18\" style=\"fill:#000000; stroke:#000000;\" /><path d=\"M 24,18 C 24.38,20.91 18.45,25.37 16,27 C 13,29 13.18,31.34 11,31 C 9.958,30.06 12.41,27.96 11,28 C 10,28 11.19,29.23 10,30 C 9,30 5.997,31 6,26 C 6,24 12,14 12,14 C 12,14 13.89,12.1 14,10.5 C 13.27,9.506 13.5,8.5 13.5,7.5 C 14.5,6.5 16.5,10 16.5,10 L 18.5,10 C 18.5,10 19.28,8.008 21,7 C 22,7 22,10 22,10\" style=\"fill:#000000; stroke:#000000;\" /><path d=\"M 9.5 25.5 A 0.5 0.5 0 1 1 8.5,25.5 A 0.5 0.5 0 1 1 9.5 25.5 z\" style=\"fill:#ececec; stroke:#ececec;\" /><path d=\"M 15 15.5 A 0.5 1.5 0 1 1 14,15.5 A 0.5 1.5 0 1 1 15 15.5 z\" transform=\"matrix(0.866,0.5,-0.5,0.866,9.693,-5.173)\" style=\"fill:#ececec; stroke:#ececec;\" /><path d=\"M 24.55,10.4 L 24.1,11.85 L 24.6,12 C 27.75,13 30.25,14.49 32.5,18.75 C 34.75,23.01 35.75,29.06 35.25,39 L 35.2,39.5 L 37.45,39.5 L 37.5,39 C 38,28.94 36.62,22.15 34.25,17.66 C 31.88,13.17 28.46,11.02 25.06,10.5 L 24.55,10.4 z \" style=\"fill:#ececec; stroke:none;\" /></g><g id=\"black-bishop\" class=\"black bishop\" fill=\"none\" fill-rule=\"evenodd\" stroke=\"#000\" stroke-width=\"1.5\" stroke-linecap=\"round\" stroke-linejoin=\"round\"><path d=\"M9 36c3.39-.97 10.11.43 13.5-2 3.39 2.43 10.11 1.03 13.5 2 0 0 1.65.54 3 2-.68.97-1.65.99-3 .5-3.39-.97-10.11.46-13.5-1-3.39 1.46-10.11.03-13.5 1-1.354.49-2.323.47-3-.5 1.354-1.94 3-2 3-2zm6-4c2.5 2.5 12.5 2.5 15 0 .5-1.5 0-2 0-2 0-2.5-2.5-4-2.5-4 5.5-1.5 6-11.5-5-15.5-11 4-10.5 14-5 15.5 0 0-2.5 1.5-2.5 4 0 0-.5.5 0 2zM25 8a2.5 2.5 0 1 1-5 0 2.5 2.5 0 1 1 5 0z\" fill=\"#000\" stroke-linecap=\"butt\" /><path d=\"M17.5 26h10M15 30h15m-7.5-14.5v5M20 18h5\" stroke=\"#fff\" stroke-linejoin=\"miter\" /></g><g id=\"black-rook\" class=\"black rook\" fill=\"#000\" fill-rule=\"evenodd\" stroke=\"#000\" stroke-width=\"1.5\" stroke-linecap=\"round\" stroke-linejoin=\"round\"><path d=\"M9 39h27v-3H9v3zM12.5 32l1.5-2.5h17l1.5 2.5h-20zM12 36v-4h21v4H12z\" stroke-linecap=\"butt\" /><path d=\"M14 29.5v-13h17v13H14z\" stroke-linecap=\"butt\" stroke-linejoin=\"miter\" /><path d=\"M14 16.5L11 14h23l-3 2.5H14zM11 14V9h4v2h5V9h5v2h5V9h4v5H11z\" stroke-linecap=\"butt\" /><path d=\"M12 35.5h21M13 31.5h19M14 29.5h17M14 16.5h17M11 14h23\" fill=\"none\" stroke=\"#fff\" stroke-width=\"1\" stroke-linejoin=\"miter\" /></g><g id=\"black-queen\" class=\"black queen\" fill=\"#000\" fill-rule=\"evenodd\" stroke=\"#000\" stroke-width=\"1.5\" stroke-linecap=\"round\" stroke-linejoin=\"round\"><g fill=\"#000\" stroke=\"none\"><circle cx=\"6\" cy=\"12\" r=\"2.75\" /><circle cx=\"14\" cy=\"9\" r=\"2.75\" /><circle cx=\"22.5\" cy=\"8\" r=\"2.75\" /><circle cx=\"31\" cy=\"9\" r=\"2.75\" /><circle cx=\"39\" cy=\"12\" r=\"2.75\" /></g><path d=\"M9 26c8.5-1.5 21-1.5 27 0l2.5-12.5L31 25l-.3-14.1-5.2 13.6-3-14.5-3 14.5-5.2-13.6L14 25 6.5 13.5 9 26zM9 26c0 2 1.5 2 2.5 4 1 1.5 1 1 .5 3.5-1.5 1-1.5 2.5-1.5 2.5-1.5 1.5.5 2.5.5 2.5 6.5 1 16.5 1 23 0 0 0 1.5-1 0-2.5 0 0 .5-1.5-1-2.5-.5-2.5-.5-2 .5-3.5 1-2 2.5-2 2.5-4-8.5-1.5-18.5-1.5-27 0z\" stroke-linecap=\"butt\" /><path d=\"M11 38.5a35 35 1 0 0 23 0\" fill=\"none\" stroke-linecap=\"butt\" /><path d=\"M11 29a35 35 1 0 1 23 0M12.5 31.5h20M11.5 34.5a35 35 1 0 0 22 0M10.5 37.5a35 35 1 0 0 24 0\" fill=\"none\" stroke=\"#fff\" /></g><g id=\"black-king\" class=\"black king\" fill=\"none\" fill-rule=\"evenodd\" stroke=\"#000\" stroke-width=\"1.5\" stroke-linecap=\"round\" stroke-linejoin=\"round\"><path d=\"M22.5 11.63V6\" stroke-linejoin=\"miter\" /><path d=\"M22.5 25s4.5-7.5 3-10.5c0 0-1-2.5-3-2.5s-3 2.5-3 2.5c-1.5 3 3 10.5 3 10.5\" fill=\"#000\" stroke-linecap=\"butt\" stroke-linejoin=\"miter\" /><path d=\"M11.5 37c5.5 3.5 15.5 3.5 21 0v-7s9-4.5 6-10.5c-4-6.5-13.5-3.5-16 4V27v-3.5c-3.5-7.5-13-10.5-16-4-3 6 5 10 5 10V37z\" fill=\"#000\" /><path d=\"M20 8h5\" stroke-linejoin=\"miter\" /><path d=\"M32 29.5s8.5-4 6.03-9.65C34.15 14 25 18 22.5 24.5l.01 2.1-.01-2.1C20 18 9.906 14 6.997 19.85c-2.497 5.65 4.853 9 4.853 9M11.5 30c5.5-3 15.5-3 21 0m-21 3.5c5.5-3 15.5-3 21 0m-21 3.5c5.5-3 15.5-3 21 0\" stroke=\"#fff\" /></g></defs><rect x=\"0\" y=\"0\" width=\"390\" height=\"390\" fill=\"#212121\" /><g transform=\"translate(20, 0) scale(0.75, 0.75)\" fill=\"#e5e5e5\" stroke=\"#e5e5e5\"><path d=\"M23.328 10.016q-1.742 0-2.414.398-.672.398-.672 1.36 0 .765.5 1.218.508.445 1.375.445 1.196 0 1.914-.843.727-.852.727-2.258v-.32zm2.867-.594v4.992h-1.437v-1.328q-.492.797-1.227 1.18-.734.375-1.797.375-1.343 0-2.14-.75-.79-.758-.79-2.024 0-1.476.985-2.226.992-.75 2.953-.75h2.016V8.75q0-.992-.656-1.531-.649-.547-1.829-.547-.75 0-1.46.18-.711.18-1.368.539V6.062q.79-.304 1.532-.453.742-.156 1.445-.156 1.898 0 2.836.984.937.985.937 2.985z\" /></g><g transform=\"translate(20, 375) scale(0.75, 0.75)\" fill=\"#e5e5e5\" stroke=\"#e5e5e5\"><path d=\"M23.328 10.016q-1.742 0-2.414.398-.672.398-.672 1.36 0 .765.5 1.218.508.445 1.375.445 1.196 0 1.914-.843.727-.852.727-2.258v-.32zm2.867-.594v4.992h-1.437v-1.328q-.492.797-1.227 1.18-.734.375-1.797.375-1.343 0-2.14-.75-.79-.758-.79-2.024 0-1.476.985-2.226.992-.75 2.953-.75h2.016V8.75q0-.992-.656-1.531-.649-.547-1.829-.547-.75 0-1.46.18-.711.18-1.368.539V6.062q.79-.304 1.532-.453.742-.156 1.445-.156 1.898 0 2.836.984.937.985.937 2.985z\" /></g><g transform=\"translate(65, 0) scale(0.75, 0.75)\" fill=\"#e5e5e5\" stroke=\"#e5e5e5\"><path d=\"M24.922 10.047q0-1.586-.656-2.485-.649-.906-1.79-.906-1.14 0-1.796.906-.649.899-.649 2.485 0 1.586.649 2.492.656.898 1.797.898 1.14 0 1.789-.898.656-.906.656-2.492zm-4.89-3.055q.452-.781 1.14-1.156.695-.383 1.656-.383 1.594 0 2.586 1.266 1 1.265 1 3.328 0 2.062-1 3.328-.992 1.266-2.586 1.266-.96 0-1.656-.375-.688-.383-1.14-1.164v1.312h-1.446V2.258h1.445z\" /></g><g transform=\"translate(65, 375) scale(0.75, 0.75)\" fill=\"#e5e5e5\" stroke=\"#e5e5e5\"><path d=\"M24.922 10.047q0-1.586-.656-2.485-.649-.906-1.79-.906-1.14 0-1.796.906-.649.899-.649 2.485 0 1.586.649 2.492.656.898 1.797.898 1.14 0 1.789-.898.656-.906.656-2.492zm-4.89-3.055q.452-.781 1.14-1.156.695-.383 1.656-.383 1.594 0 2.586 1.266 1 1.265 1 3.328 0 2.062-1 3.328-.992 1.266-2.586 1.266-.96 0-1.656-.375-.688-.383-1.14-1.164v1.312h-1.446V2.258h1.445z\" /></g><g transform=\"translate(110, 0) scale(0.75, 0.75)\" fill=\"#e5e5e5\" stroke=\"#e5e5e5\"><path d=\"M25.96 6v1.344q-.608-.336-1.226-.5-.609-.172-1.234-.172-1.398 0-2.172.89-.773.883-.773 2.485 0 1.601.773 2.492.774.883 2.172.883.625 0 1.234-.164.618-.172 1.227-.508v1.328q-.602.281-1.25.422-.64.14-1.367.14-1.977 0-3.14-1.242-1.165-1.242-1.165-3.351 0-2.14 1.172-3.367 1.18-1.227 3.227-1.227.664 0 1.296.14.633.134 1.227.407z\" /></g><g transform=\"translate(110, 375) scale(0.75, 0.75)\" fill=\"#e5e5e5\" stroke=\"#e5e5e5\"><path d=\"M25.96 6v1.344q-.608-.336-1.226-.5-.609-.172-1.234-.172-1.398 0-2.172.89-.773.883-.773 2.485 0 1.601.773 2.492.774.883 2.172.883.625 0 1.234-.164.618-.172 1.227-.508v1.328q-.602.281-1.25.422-.64.14-1.367.14-1.977 0-3.14-1.242-1.165-1.242-1.165-3.351 0-2.14 1.172-3.367 1.18-1.227 3.227-1.227.664 0 1.296.14.633.134 1.227.407z\" /></g><g transform=\"translate(155, 0) scale(0.75, 0.75)\" fill=\"#e5e5e5\" stroke=\"#e5e5e5\"><path d=\"M24.973 6.992V2.258h1.437v12.156h-1.437v-1.312q-.453.78-1.149 1.164-.687.375-1.656.375-1.586 0-2.586-1.266-.992-1.266-.992-3.328 0-2.063.992-3.328 1-1.266 2.586-1.266.969 0 1.656.383.696.375 1.149 1.156zm-4.899 3.055q0 1.586.649 2.492.656.898 1.797.898 1.14 0 1.796-.898.657-.906.657-2.492 0-1.586-.657-2.485-.656-.906-1.796-.906-1.141 0-1.797.906-.649.899-.649 2.485z\" /></g><g transform=\"translate(155, 375) scale(0.75, 0.75)\" fill=\"#e5e5e5\" stroke=\"#e5e5e5\"><path d=\"M24.973 6.992V2.258h1.437v12.156h-1.437v-1.312q-.453.78-1.149 1.164-.687.375-1.656.375-1.586 0-2.586-1.266-.992-1.266-.992-3.328 0-2.063.992-3.328 1-1.266 2.586-1.266.969 0 1.656.383.696.375 1.149 1.156zm-4.899 3.055q0 1.586.649 2.492.656.898 1.797.898 1.14 0 1.796-.898.657-.906.657-2.492 0-1.586-.657-2.485-.656-.906-1.796-.906-1.141 0-1.797.906-.649.899-.649 2.485z\" /></g><g transform=\"translate(200, 0) scale(0.75, 0.75)\" fill=\"#e5e5e5\" stroke=\"#e5e5e5\"><path d=\"M26.555 9.68v.703h-6.61q.094 1.484.89 2.265.806.774 2.235.774.828 0 1.602-.203.781-.203 1.547-.61v1.36q-.774.328-1.586.5-.813.172-1.649.172-2.093 0-3.32-1.22-1.219-1.218-1.219-3.296 0-2.148 1.157-3.406 1.164-1.266 3.132-1.266 1.766 0 2.79 1.14 1.03 1.134 1.03 3.087zm-1.438-.422q-.015-1.18-.664-1.883-.64-.703-1.703-.703-1.203 0-1.93.68-.718.68-.828 1.914z\" /></g><g transform=\"translate(200, 375) scale(0.75, 0.75)\" fill=\"#e5e5e5\" stroke=\"#e5e5e5\"><path d=\"M26.555 9.68v.703h-6.61q.094 1.484.89 2.265.806.774 2.235.774.828 0 1.602-.203.781-.203 1.547-.61v1.36q-.774.328-1.586.5-.813.172-1.649.172-2.093 0-3.32-1.22-1.219-1.218-1.219-3.296 0-2.148 1.157-3.406 1.164-1.266 3.132-1.266 1.766 0 2.79 1.14 1.03 1.134 1.03 3.087zm-1.438-.422q-.015-1.18-.664-1.883-.64-.703-1.703-.703-1.203 0-1.93.68-.718.68-.828 1.914z\" /></g><g transform=\"translate(245, 0) scale(0.75, 0.75)\" fill=\"#e5e5e5\" stroke=\"#e5e5e5\"><path d=\"M25.285 2.258v1.195H23.91q-.773 0-1.078.313-.297.312-.297 1.125v.773h2.367v1.117h-2.367v7.633H21.09V6.781h-1.375V5.664h1.375v-.61q0-1.46.68-2.124.68-.672 2.156-.672z\" /></g><g transform=\"translate(245, 375) scale(0.75, 0.75)\" fill=\"#e5e5e5\" stroke=\"#e5e5e5\"><path d=\"M25.285 2.258v1.195H23.91q-.773 0-1.078.313-.297.312-.297 1.125v.773h2.367v1.117h-2.367v7.633H21.09V6.781h-1.375V5.664h1.375v-.61q0-1.46.68-2.124.68-.672 2.156-.672z\" /></g><g transform=\"translate(290, 0) scale(0.75, 0.75)\" fill=\"#e5e5e5\" stroke=\"#e5e5e5\"><path d=\"M24.973 9.937q0-1.562-.649-2.421-.64-.86-1.804-.86-1.157 0-1.805.86-.64.859-.64 2.421 0 1.555.64 2.415.648.859 1.805.859 1.164 0 1.804-.86.649-.859.649-2.414zm1.437 3.391q0 2.234-.992 3.32-.992 1.094-3.04 1.094-.757 0-1.429-.117-.672-.11-1.304-.344v-1.398q.632.344 1.25.508.617.164 1.257.164 1.414 0 2.118-.743.703-.734.703-2.226v-.711q-.446.773-1.141 1.156-.695.383-1.664.383-1.61 0-2.594-1.227-.984-1.226-.984-3.25 0-2.03.984-3.257.985-1.227 2.594-1.227.969 0 1.664.383t1.14 1.156V5.664h1.438z\" /></g><g transform=\"translate(290, 375) scale(0.75, 0.75)\" fill=\"#e5e5e5\" stroke=\"#e5e5e5\"><path d=\"M24.973 9.937q0-1.562-.649-2.421-.64-.86-1.804-.86-1.157 0-1.805.86-.64.859-.64 2.421 0 1.555.64 2.415.648.859 1.805.859 1.164 0 1.804-.86.649-.859.649-2.414zm1.437 3.391q0 2.234-.992 3.32-.992 1.094-3.04 1.094-.757 0-1.429-.117-.672-.11-1.304-.344v-1.398q.632.344 1.25.508.617.164 1.257.164 1.414 0 2.118-.743.703-.734.703-2.226v-.711q-.446.773-1.141 1.156-.695.383-1.664.383-1.61 0-2.594-1.227-.984-1.226-.984-3.25 0-2.03.984-3.257.985-1.227 2.594-1.227.969 0 1.664.383t1.14 1.156V5.664h1.438z\" /></g><g transform=\"translate(335, 0) scale(0.75, 0.75)\" fill=\"#e5e5e5\" stroke=\"#e5e5e5\"><path d=\"M26.164 9.133v5.281h-1.437V9.18q0-1.243-.485-1.86-.484-.617-1.453-.617-1.164 0-1.836.742-.672.742-.672 2.024v4.945h-1.445V2.258h1.445v4.765q.516-.789 1.211-1.18.703-.39 1.617-.39 1.508 0 2.282.938.773.93.773 2.742z\" /></g><g transform=\"translate(335, 375) scale(0.75, 0.75)\" fill=\"#e5e5e5\" stroke=\"#e5e5e5\"><path d=\"M26.164 9.133v5.281h-1.437V9.18q0-1.243-.485-1.86-.484-.617-1.453-.617-1.164 0-1.836.742-.672.742-.672 2.024v4.945h-1.445V2.258h1.445v4.765q.516-.789 1.211-1.18.703-.39 1.617-.39 1.508 0 2.282.938.773.93.773 2.742z\" /></g><g transform=\"translate(0, 335) scale(0.75, 0.75)\" fill=\"#e5e5e5\" stroke=\"#e5e5e5\"><path d=\"M6.754 26.996h2.578v-8.898l-2.805.562v-1.437l2.79-.563h1.578v10.336h2.578v1.328h-6.72z\" /></g><g transform=\"translate(375, 335) scale(0.75, 0.75)\" fill=\"#e5e5e5\" stroke=\"#e5e5e5\"><path d=\"M6.754 26.996h2.578v-8.898l-2.805.562v-1.437l2.79-.563h1.578v10.336h2.578v1.328h-6.72z\" /></g><g transform=\"translate(0, 290) scale(0.75, 0.75)\" fill=\"#e5e5e5\" stroke=\"#e5e5e5\"><path d=\"M8.195 26.996h5.508v1.328H6.297v-1.328q.898-.93 2.445-2.492 1.555-1.57 1.953-2.024.758-.851 1.055-1.437.305-.594.305-1.164 0-.93-.657-1.516-.648-.586-1.695-.586-.742 0-1.57.258-.82.258-1.758.781v-1.593q.953-.383 1.781-.578.828-.196 1.516-.196 1.812 0 2.89.906 1.079.907 1.079 2.422 0 .72-.274 1.368-.265.64-.976 1.515-.196.227-1.243 1.313-1.046 1.078-2.953 3.023z\" /></g><g transform=\"translate(375, 290) scale(0.75, 0.75)\" fill=\"#e5e5e5\" stroke=\"#e5e5e5\"><path d=\"M8.195 26.996h5.508v1.328H6.297v-1.328q.898-.93 2.445-2.492 1.555-1.57 1.953-2.024.758-.851 1.055-1.437.305-.594.305-1.164 0-.93-.657-1.516-.648-.586-1.695-.586-.742 0-1.57.258-.82.258-1.758.781v-1.593q.953-.383 1.781-.578.828-.196 1.516-.196 1.812 0 2.89.906 1.079.907 1.079 2.422 0 .72-.274 1.368-.265.64-.976 1.515-.196.227-1.243 1.313-1.046 1.078-2.953 3.023z\" /></g><g transform=\"translate(0, 245) scale(0.75, 0.75)\" fill=\"#e5e5e5\" stroke=\"#e5e5e5\"><path d=\"M11.434 22.035q1.132.242 1.765 1.008.64.766.64 1.89 0 1.727-1.187 2.672-1.187.946-3.375.946-.734 0-1.515-.149-.774-.14-1.602-.43V26.45q.656.383 1.438.578.78.196 1.632.196 1.485 0 2.258-.586.782-.586.782-1.703 0-1.032-.727-1.61-.719-.586-2.008-.586h-1.36v-1.297h1.423q1.164 0 1.78-.46.618-.47.618-1.344 0-.899-.64-1.375-.633-.485-1.82-.485-.65 0-1.391.141-.743.14-1.633.437V16.95q.898-.25 1.68-.375.788-.125 1.484-.125 1.797 0 2.844.82 1.046.813 1.046 2.204 0 .968-.554 1.64-.555.664-1.578.922z\" /></g><g transform=\"translate(375, 245) scale(0.75, 0.75)\" fill=\"#e5e5e5\" stroke=\"#e5e5e5\"><path d=\"M11.434 22.035q1.132.242 1.765 1.008.64.766.64 1.89 0 1.727-1.187 2.672-1.187.946-3.375.946-.734 0-1.515-.149-.774-.14-1.602-.43V26.45q.656.383 1.438.578.78.196 1.632.196 1.485 0 2.258-.586.782-.586.782-1.703 0-1.032-.727-1.61-.719-.586-2.008-.586h-1.36v-1.297h1.423q1.164 0 1.78-.46.618-.47.618-1.344 0-.899-.64-1.375-.633-.485-1.82-.485-.65 0-1.391.141-.743.14-1.633.437V16.95q.898-.25 1.68-.375.788-.125 1.484-.125 1.797 0 2.844.82 1.046.813 1.046 2.204 0 .968-.554 1.64-.555.664-1.578.922z\" /></g><g transform=\"translate(0, 200) scale(0.75, 0.75)\" fill=\"#e5e5e5\" stroke=\"#e5e5e5\"><path d=\"M11.016 18.035L7.03 24.262h3.985zm-.414-1.375h1.984v7.602h1.664v1.312h-1.664v2.75h-1.57v-2.75H5.75v-1.523z\" /></g><g transform=\"translate(375, 200) scale(0.75, 0.75)\" fill=\"#e5e5e5\" stroke=\"#e5e5e5\"><path d=\"M11.016 18.035L7.03 24.262h3.985zm-.414-1.375h1.984v7.602h1.664v1.312h-1.664v2.75h-1.57v-2.75H5.75v-1.523z\" /></g><g transform=\"translate(0, 155) scale(0.75, 0.75)\" fill=\"#e5e5e5\" stroke=\"#e5e5e5\"><path d=\"M6.719 16.66h6.195v1.328h-4.75v2.86q.344-.118.688-.172.343-.063.687-.063 1.953 0 3.094 1.07 1.14 1.07 1.14 2.899 0 1.883-1.171 2.93-1.172 1.039-3.305 1.039-.735 0-1.5-.125-.758-.125-1.57-.375v-1.586q.703.383 1.453.57.75.188 1.586.188 1.351 0 2.14-.711.79-.711.79-1.93 0-1.219-.79-1.93-.789-.71-2.14-.71-.633 0-1.266.14-.625.14-1.281.438z\" /></g><g transform=\"translate(375, 155) scale(0.75, 0.75)\" fill=\"#e5e5e5\" stroke=\"#e5e5e5\"><path d=\"M6.719 16.66h6.195v1.328h-4.75v2.86q.344-.118.688-.172.343-.063.687-.063 1.953 0 3.094 1.07 1.14 1.07 1.14 2.899 0 1.883-1.171 2.93-1.172 1.039-3.305 1.039-.735 0-1.5-.125-.758-.125-1.57-.375v-1.586q.703.383 1.453.57.75.188 1.586.188 1.351 0 2.14-.711.79-.711.79-1.93 0-1.219-.79-1.93-.789-.71-2.14-.71-.633 0-1.266.14-.625.14-1.281.438z\" /></g><g transform=\"translate(0, 110) scale(0.75, 0.75)\" fill=\"#e5e5e5\" stroke=\"#e5e5e5\"><path d=\"M10.137 21.863q-1.063 0-1.688.727-.617.726-.617 1.992 0 1.258.617 1.992.625.727 1.688.727 1.062 0 1.68-.727.624-.734.624-1.992 0-1.266-.625-1.992-.617-.727-1.68-.727zm3.133-4.945v1.437q-.594-.28-1.204-.43-.601-.148-1.195-.148-1.562 0-2.39 1.055-.82 1.055-.938 3.188.46-.68 1.156-1.04.696-.367 1.531-.367 1.758 0 2.774 1.07 1.023 1.063 1.023 2.899 0 1.797-1.062 2.883-1.063 1.086-2.828 1.086-2.024 0-3.094-1.547-1.07-1.555-1.07-4.5 0-2.766 1.312-4.406 1.313-1.649 3.524-1.649.593 0 1.195.117.61.118 1.266.352z\" /></g><g transform=\"translate(375, 110) scale(0.75, 0.75)\" fill=\"#e5e5e5\" stroke=\"#e5e5e5\"><path d=\"M10.137 21.863q-1.063 0-1.688.727-.617.726-.617 1.992 0 1.258.617 1.992.625.727 1.688.727 1.062 0 1.68-.727.624-.734.624-1.992 0-1.266-.625-1.992-.617-.727-1.68-.727zm3.133-4.945v1.437q-.594-.28-1.204-.43-.601-.148-1.195-.148-1.562 0-2.39 1.055-.82 1.055-.938 3.188.46-.68 1.156-1.04.696-.367 1.531-.367 1.758 0 2.774 1.07 1.023 1.063 1.023 2.899 0 1.797-1.062 2.883-1.063 1.086-2.828 1.086-2.024 0-3.094-1.547-1.07-1.555-1.07-4.5 0-2.766 1.312-4.406 1.313-1.649 3.524-1.649.593 0 1.195.117.61.118 1.266.352z\" /></g><g transform=\"translate(0, 65) scale(0.75, 0.75)\" fill=\"#e5e5e5\" stroke=\"#e5e5e5\"><path d=\"M6.25 16.66h7.5v.672L9.516 28.324H7.867l3.985-10.336H6.25z\" /></g><g transform=\"translate(375, 65) scale(0.75, 0.75)\" fill=\"#e5e5e5\" stroke=\"#e5e5e5\"><path d=\"M6.25 16.66h7.5v.672L9.516 28.324H7.867l3.985-10.336H6.25z\" /></g><g transform=\"translate(0, 20) scale(0.75, 0.75)\" fill=\"#e5e5e5\" stroke=\"#e5e5e5\"><path d=\"M10 22.785q-1.125 0-1.773.602-.641.601-.641 1.656t.64 1.656q.649.602 1.774.602t1.773-.602q.649-.61.649-1.656 0-1.055-.649-1.656-.64-.602-1.773-.602zm-1.578-.672q-1.016-.25-1.586-.945-.563-.695-.563-1.695 0-1.399.993-2.211 1-.813 2.734-.813 1.742 0 2.734.813.993.812.993 2.21 0 1-.57 1.696-.563.695-1.571.945 1.14.266 1.773 1.04.641.773.641 1.89 0 1.695-1.04 2.602-1.03.906-2.96.906t-2.969-.906Q6 26.738 6 25.043q0-1.117.64-1.89.641-.774 1.782-1.04zm-.578-2.492q0 .906.562 1.414.57.508 1.594.508 1.016 0 1.586-.508.578-.508.578-1.414 0-.906-.578-1.414-.57-.508-1.586-.508-1.023 0-1.594.508-.562.508-.562 1.414z\" /></g><g transform=\"translate(375, 20) scale(0.75, 0.75)\" fill=\"#e5e5e5\" stroke=\"#e5e5e5\"><path d=\"M10 22.785q-1.125 0-1.773.602-.641.601-.641 1.656t.64 1.656q.649.602 1.774.602t1.773-.602q.649-.61.649-1.656 0-1.055-.649-1.656-.64-.602-1.773-.602zm-1.578-.672q-1.016-.25-1.586-.945-.563-.695-.563-1.695 0-1.399.993-2.211 1-.813 2.734-.813 1.742 0 2.734.813.993.812.993 2.21 0 1-.57 1.696-.563.695-1.571.945 1.14.266 1.773 1.04.641.773.641 1.89 0 1.695-1.04 2.602-1.03.906-2.96.906t-2.969-.906Q6 26.738 6 25.043q0-1.117.64-1.89.641-.774 1.782-1.04zm-.578-2.492q0 .906.562 1.414.57.508 1.594.508 1.016 0 1.586-.508.578-.508.578-1.414 0-.906-.578-1.414-.57-.508-1.586-.508-1.023 0-1.594.508-.562.508-.562 1.414z\" /></g><rect x=\"15\" y=\"330\" width=\"45\" height=\"45\" class=\"square dark a1\" stroke=\"none\" fill=\"#d18b47\" /><rect x=\"60\" y=\"330\" width=\"45\" height=\"45\" class=\"square light b1\" stroke=\"none\" fill=\"#ffce9e\" /><rect x=\"105\" y=\"330\" width=\"45\" height=\"45\" class=\"square dark c1\" stroke=\"none\" fill=\"#d18b47\" /><rect x=\"150\" y=\"330\" width=\"45\" height=\"45\" class=\"square light d1\" stroke=\"none\" fill=\"#ffce9e\" /><rect x=\"195\" y=\"330\" width=\"45\" height=\"45\" class=\"square dark e1\" stroke=\"none\" fill=\"#d18b47\" /><rect x=\"240\" y=\"330\" width=\"45\" height=\"45\" class=\"square light f1\" stroke=\"none\" fill=\"#ffce9e\" /><rect x=\"285\" y=\"330\" width=\"45\" height=\"45\" class=\"square dark g1\" stroke=\"none\" fill=\"#d18b47\" /><rect x=\"330\" y=\"330\" width=\"45\" height=\"45\" class=\"square light h1\" stroke=\"none\" fill=\"#ffce9e\" /><rect x=\"15\" y=\"285\" width=\"45\" height=\"45\" class=\"square light a2\" stroke=\"none\" fill=\"#ffce9e\" /><rect x=\"60\" y=\"285\" width=\"45\" height=\"45\" class=\"square dark b2\" stroke=\"none\" fill=\"#d18b47\" /><rect x=\"105\" y=\"285\" width=\"45\" height=\"45\" class=\"square light c2\" stroke=\"none\" fill=\"#ffce9e\" /><rect x=\"150\" y=\"285\" width=\"45\" height=\"45\" class=\"square dark d2\" stroke=\"none\" fill=\"#d18b47\" /><rect x=\"195\" y=\"285\" width=\"45\" height=\"45\" class=\"square light e2\" stroke=\"none\" fill=\"#ffce9e\" /><rect x=\"240\" y=\"285\" width=\"45\" height=\"45\" class=\"square dark f2\" stroke=\"none\" fill=\"#d18b47\" /><rect x=\"285\" y=\"285\" width=\"45\" height=\"45\" class=\"square light g2\" stroke=\"none\" fill=\"#ffce9e\" /><rect x=\"330\" y=\"285\" width=\"45\" height=\"45\" class=\"square dark h2\" stroke=\"none\" fill=\"#d18b47\" /><rect x=\"15\" y=\"240\" width=\"45\" height=\"45\" class=\"square dark a3\" stroke=\"none\" fill=\"#d18b47\" /><rect x=\"60\" y=\"240\" width=\"45\" height=\"45\" class=\"square light b3\" stroke=\"none\" fill=\"#ffce9e\" /><rect x=\"105\" y=\"240\" width=\"45\" height=\"45\" class=\"square dark c3\" stroke=\"none\" fill=\"#d18b47\" /><rect x=\"150\" y=\"240\" width=\"45\" height=\"45\" class=\"square light d3\" stroke=\"none\" fill=\"#ffce9e\" /><rect x=\"195\" y=\"240\" width=\"45\" height=\"45\" class=\"square dark e3\" stroke=\"none\" fill=\"#d18b47\" /><rect x=\"240\" y=\"240\" width=\"45\" height=\"45\" class=\"square light f3\" stroke=\"none\" fill=\"#ffce9e\" /><rect x=\"285\" y=\"240\" width=\"45\" height=\"45\" class=\"square dark g3\" stroke=\"none\" fill=\"#d18b47\" /><rect x=\"330\" y=\"240\" width=\"45\" height=\"45\" class=\"square light h3\" stroke=\"none\" fill=\"#ffce9e\" /><rect x=\"15\" y=\"195\" width=\"45\" height=\"45\" class=\"square light a4\" stroke=\"none\" fill=\"#ffce9e\" /><rect x=\"60\" y=\"195\" width=\"45\" height=\"45\" class=\"square dark b4\" stroke=\"none\" fill=\"#d18b47\" /><rect x=\"105\" y=\"195\" width=\"45\" height=\"45\" class=\"square light c4\" stroke=\"none\" fill=\"#ffce9e\" /><rect x=\"150\" y=\"195\" width=\"45\" height=\"45\" class=\"square dark d4\" stroke=\"none\" fill=\"#d18b47\" /><rect x=\"195\" y=\"195\" width=\"45\" height=\"45\" class=\"square light e4\" stroke=\"none\" fill=\"#ffce9e\" /><rect x=\"240\" y=\"195\" width=\"45\" height=\"45\" class=\"square dark f4\" stroke=\"none\" fill=\"#d18b47\" /><rect x=\"285\" y=\"195\" width=\"45\" height=\"45\" class=\"square light g4\" stroke=\"none\" fill=\"#ffce9e\" /><rect x=\"330\" y=\"195\" width=\"45\" height=\"45\" class=\"square dark h4\" stroke=\"none\" fill=\"#d18b47\" /><rect x=\"15\" y=\"150\" width=\"45\" height=\"45\" class=\"square dark a5\" stroke=\"none\" fill=\"#d18b47\" /><rect x=\"60\" y=\"150\" width=\"45\" height=\"45\" class=\"square light b5\" stroke=\"none\" fill=\"#ffce9e\" /><rect x=\"105\" y=\"150\" width=\"45\" height=\"45\" class=\"square dark c5\" stroke=\"none\" fill=\"#d18b47\" /><rect x=\"150\" y=\"150\" width=\"45\" height=\"45\" class=\"square light d5\" stroke=\"none\" fill=\"#ffce9e\" /><rect x=\"195\" y=\"150\" width=\"45\" height=\"45\" class=\"square dark e5\" stroke=\"none\" fill=\"#d18b47\" /><rect x=\"240\" y=\"150\" width=\"45\" height=\"45\" class=\"square light f5\" stroke=\"none\" fill=\"#ffce9e\" /><rect x=\"285\" y=\"150\" width=\"45\" height=\"45\" class=\"square dark g5\" stroke=\"none\" fill=\"#d18b47\" /><rect x=\"330\" y=\"150\" width=\"45\" height=\"45\" class=\"square light h5\" stroke=\"none\" fill=\"#ffce9e\" /><rect x=\"15\" y=\"105\" width=\"45\" height=\"45\" class=\"square light a6\" stroke=\"none\" fill=\"#ffce9e\" /><rect x=\"60\" y=\"105\" width=\"45\" height=\"45\" class=\"square dark b6\" stroke=\"none\" fill=\"#d18b47\" /><rect x=\"105\" y=\"105\" width=\"45\" height=\"45\" class=\"square light c6\" stroke=\"none\" fill=\"#ffce9e\" /><rect x=\"150\" y=\"105\" width=\"45\" height=\"45\" class=\"square dark d6\" stroke=\"none\" fill=\"#d18b47\" /><rect x=\"195\" y=\"105\" width=\"45\" height=\"45\" class=\"square light e6\" stroke=\"none\" fill=\"#ffce9e\" /><rect x=\"240\" y=\"105\" width=\"45\" height=\"45\" class=\"square dark f6\" stroke=\"none\" fill=\"#d18b47\" /><rect x=\"285\" y=\"105\" width=\"45\" height=\"45\" class=\"square light g6\" stroke=\"none\" fill=\"#ffce9e\" /><rect x=\"330\" y=\"105\" width=\"45\" height=\"45\" class=\"square dark h6\" stroke=\"none\" fill=\"#d18b47\" /><rect x=\"15\" y=\"60\" width=\"45\" height=\"45\" class=\"square dark a7\" stroke=\"none\" fill=\"#d18b47\" /><rect x=\"60\" y=\"60\" width=\"45\" height=\"45\" class=\"square light b7\" stroke=\"none\" fill=\"#ffce9e\" /><rect x=\"105\" y=\"60\" width=\"45\" height=\"45\" class=\"square dark c7\" stroke=\"none\" fill=\"#d18b47\" /><rect x=\"150\" y=\"60\" width=\"45\" height=\"45\" class=\"square light d7\" stroke=\"none\" fill=\"#ffce9e\" /><rect x=\"195\" y=\"60\" width=\"45\" height=\"45\" class=\"square dark e7\" stroke=\"none\" fill=\"#d18b47\" /><rect x=\"240\" y=\"60\" width=\"45\" height=\"45\" class=\"square light f7\" stroke=\"none\" fill=\"#ffce9e\" /><rect x=\"285\" y=\"60\" width=\"45\" height=\"45\" class=\"square dark g7\" stroke=\"none\" fill=\"#d18b47\" /><rect x=\"330\" y=\"60\" width=\"45\" height=\"45\" class=\"square light h7\" stroke=\"none\" fill=\"#ffce9e\" /><rect x=\"15\" y=\"15\" width=\"45\" height=\"45\" class=\"square light a8\" stroke=\"none\" fill=\"#ffce9e\" /><rect x=\"60\" y=\"15\" width=\"45\" height=\"45\" class=\"square dark b8\" stroke=\"none\" fill=\"#d18b47\" /><rect x=\"105\" y=\"15\" width=\"45\" height=\"45\" class=\"square light c8\" stroke=\"none\" fill=\"#ffce9e\" /><rect x=\"150\" y=\"15\" width=\"45\" height=\"45\" class=\"square dark d8\" stroke=\"none\" fill=\"#d18b47\" /><rect x=\"195\" y=\"15\" width=\"45\" height=\"45\" class=\"square light e8\" stroke=\"none\" fill=\"#ffce9e\" /><rect x=\"240\" y=\"15\" width=\"45\" height=\"45\" class=\"square dark f8\" stroke=\"none\" fill=\"#d18b47\" /><rect x=\"285\" y=\"15\" width=\"45\" height=\"45\" class=\"square light g8\" stroke=\"none\" fill=\"#ffce9e\" /><rect x=\"330\" y=\"15\" width=\"45\" height=\"45\" class=\"square dark h8\" stroke=\"none\" fill=\"#d18b47\" /><use href=\"#white-rook\" xlink:href=\"#white-rook\" transform=\"translate(15, 330)\" /><use href=\"#white-knight\" xlink:href=\"#white-knight\" transform=\"translate(60, 330)\" /><use href=\"#white-bishop\" xlink:href=\"#white-bishop\" transform=\"translate(105, 330)\" /><use href=\"#white-queen\" xlink:href=\"#white-queen\" transform=\"translate(150, 330)\" /><use href=\"#white-king\" xlink:href=\"#white-king\" transform=\"translate(195, 330)\" /><use href=\"#white-bishop\" xlink:href=\"#white-bishop\" transform=\"translate(240, 330)\" /><use href=\"#white-knight\" xlink:href=\"#white-knight\" transform=\"translate(285, 330)\" /><use href=\"#white-rook\" xlink:href=\"#white-rook\" transform=\"translate(330, 330)\" /><use href=\"#white-pawn\" xlink:href=\"#white-pawn\" transform=\"translate(15, 285)\" /><use href=\"#white-pawn\" xlink:href=\"#white-pawn\" transform=\"translate(60, 285)\" /><use href=\"#white-pawn\" xlink:href=\"#white-pawn\" transform=\"translate(105, 285)\" /><use href=\"#white-pawn\" xlink:href=\"#white-pawn\" transform=\"translate(150, 285)\" /><use href=\"#white-pawn\" xlink:href=\"#white-pawn\" transform=\"translate(195, 285)\" /><use href=\"#white-pawn\" xlink:href=\"#white-pawn\" transform=\"translate(240, 285)\" /><use href=\"#white-pawn\" xlink:href=\"#white-pawn\" transform=\"translate(285, 285)\" /><use href=\"#white-pawn\" xlink:href=\"#white-pawn\" transform=\"translate(330, 285)\" /><use href=\"#black-pawn\" xlink:href=\"#black-pawn\" transform=\"translate(15, 60)\" /><use href=\"#black-pawn\" xlink:href=\"#black-pawn\" transform=\"translate(60, 60)\" /><use href=\"#black-pawn\" xlink:href=\"#black-pawn\" transform=\"translate(105, 60)\" /><use href=\"#black-pawn\" xlink:href=\"#black-pawn\" transform=\"translate(150, 60)\" /><use href=\"#black-pawn\" xlink:href=\"#black-pawn\" transform=\"translate(195, 60)\" /><use href=\"#black-pawn\" xlink:href=\"#black-pawn\" transform=\"translate(240, 60)\" /><use href=\"#black-pawn\" xlink:href=\"#black-pawn\" transform=\"translate(285, 60)\" /><use href=\"#black-pawn\" xlink:href=\"#black-pawn\" transform=\"translate(330, 60)\" /><use href=\"#black-rook\" xlink:href=\"#black-rook\" transform=\"translate(15, 15)\" /><use href=\"#black-knight\" xlink:href=\"#black-knight\" transform=\"translate(60, 15)\" /><use href=\"#black-bishop\" xlink:href=\"#black-bishop\" transform=\"translate(105, 15)\" /><use href=\"#black-queen\" xlink:href=\"#black-queen\" transform=\"translate(150, 15)\" /><use href=\"#black-king\" xlink:href=\"#black-king\" transform=\"translate(195, 15)\" /><use href=\"#black-bishop\" xlink:href=\"#black-bishop\" transform=\"translate(240, 15)\" /><use href=\"#black-knight\" xlink:href=\"#black-knight\" transform=\"translate(285, 15)\" /><use href=\"#black-rook\" xlink:href=\"#black-rook\" transform=\"translate(330, 15)\" /></svg>"
      ],
      "text/plain": [
       "Board('rnbqkbnr/pppppppp/8/8/8/8/PPPPPPPP/RNBQKBNR w KQkq - 0 1')"
      ]
     },
     "execution_count": 2,
     "metadata": {},
     "output_type": "execute_result"
    }
   ],
   "source": [
    "import chess\n",
    "board = chess.Board()\n",
    "board"
   ]
  },
  {
   "cell_type": "code",
   "execution_count": 12,
   "id": "fb4ac0bc",
   "metadata": {},
   "outputs": [],
   "source": []
  },
  {
   "cell_type": "code",
   "execution_count": 61,
   "id": "3f44de45",
   "metadata": {},
   "outputs": [
    {
     "name": "stdout",
     "output_type": "stream",
     "text": [
      "index, r= 0 0\n",
      "Comparing: 2 wth 5\n",
      "\n",
      "\n",
      "index, k, l= 3 6\n",
      "Comparing: 6 wth 5\n",
      "\n",
      "\n",
      "index, k, l= 4 6\n",
      "Comparing: 1 wth 5\n",
      "\n",
      "\n",
      "index, k, l= 5 6\n",
      "Comparing: 1 wth 5\n",
      "\n",
      "\n",
      "index, k, l= 6 6\n",
      "Comparing: 3 wth 5\n",
      "\n",
      "\n",
      "index, k, l= 7 6\n",
      "Comparing: 5 wth 5\n",
      "\n",
      "\n",
      "index, r= 0 1\n",
      "Comparing: 2 wth 7\n",
      "\n",
      "\n",
      "index, r= 0 2\n",
      "Comparing: 2 wth 4\n",
      "\n",
      "\n",
      "index, k, l= 3 5\n",
      "Comparing: 6 wth 8\n",
      "\n",
      "\n",
      "index, k, l= 4 5\n",
      "Comparing: 1 wth 8\n",
      "\n",
      "\n",
      "index, k, l= 5 5\n",
      "Comparing: 1 wth 8\n",
      "\n",
      "\n",
      "index, k, l= 6 5\n",
      "Comparing: 3 wth 8\n",
      "\n",
      "\n",
      "index, k, l= 7 5\n",
      "Comparing: 5 wth 8\n",
      "\n",
      "\n",
      "index, r= 0 3\n",
      "Comparing: 2 wth 4\n",
      "\n",
      "\n",
      "index, k, l= 3 5\n",
      "Comparing: 6 wth 8\n",
      "\n",
      "\n",
      "index, k, l= 4 5\n",
      "Comparing: 1 wth 8\n",
      "\n",
      "\n",
      "index, k, l= 5 5\n",
      "Comparing: 1 wth 8\n",
      "\n",
      "\n",
      "index, k, l= 6 5\n",
      "Comparing: 3 wth 8\n",
      "\n",
      "\n",
      "index, k, l= 7 5\n",
      "Comparing: 5 wth 8\n",
      "\n",
      "\n",
      "index, r= 0 4\n",
      "Comparing: 2 wth 7\n",
      "\n",
      "\n",
      "index, r= 0 5\n",
      "Comparing: 2 wth 8\n",
      "\n",
      "\n",
      "index, r= 0 6\n",
      "Comparing: 2 wth 5\n",
      "\n",
      "\n",
      "index, k, l= 3 6\n",
      "Comparing: 6 wth 5\n",
      "\n",
      "\n",
      "index, k, l= 4 6\n",
      "Comparing: 1 wth 5\n",
      "\n",
      "\n",
      "index, k, l= 5 6\n",
      "Comparing: 1 wth 5\n",
      "\n",
      "\n",
      "index, k, l= 6 6\n",
      "Comparing: 3 wth 5\n",
      "\n",
      "\n",
      "index, k, l= 7 6\n",
      "Comparing: 5 wth 5\n",
      "\n",
      "\n",
      "index, r= 0 7\n",
      "Comparing: 2 wth 2\n",
      "\n",
      "\n",
      "index, k, l= 3 3\n",
      "Comparing: 6 wth 4\n",
      "\n",
      "\n",
      "index, k, l= 4 3\n",
      "Comparing: 1 wth 4\n",
      "\n",
      "\n",
      "index, k, l= 5 3\n",
      "Comparing: 1 wth 4\n",
      "\n",
      "\n",
      "index, k, l= 6 3\n",
      "Comparing: 3 wth 4\n",
      "\n",
      "\n",
      "index, k, l= 7 3\n",
      "Comparing: 5 wth 4\n",
      "\n",
      "\n",
      "index, r= 1 1\n",
      "Comparing: 4 wth 7\n",
      "\n",
      "\n",
      "index, r= 1 2\n",
      "Comparing: 4 wth 4\n",
      "\n",
      "\n",
      "index, k, l= 5 5\n",
      "Comparing: 1 wth 8\n",
      "\n",
      "\n",
      "index, k, l= 6 5\n",
      "Comparing: 3 wth 8\n",
      "\n",
      "\n",
      "index, k, l= 7 5\n",
      "Comparing: 5 wth 8\n",
      "\n",
      "\n",
      "index, r= 1 3\n",
      "Comparing: 4 wth 4\n",
      "\n",
      "\n",
      "index, k, l= 5 5\n",
      "Comparing: 1 wth 8\n",
      "\n",
      "\n",
      "index, k, l= 6 5\n",
      "Comparing: 3 wth 8\n",
      "\n",
      "\n",
      "index, k, l= 7 5\n",
      "Comparing: 5 wth 8\n",
      "\n",
      "\n",
      "index, r= 1 4\n",
      "Comparing: 4 wth 7\n",
      "\n",
      "\n",
      "index, r= 1 5\n",
      "Comparing: 4 wth 8\n",
      "\n",
      "\n",
      "index, r= 1 6\n",
      "Comparing: 4 wth 5\n",
      "\n",
      "\n",
      "index, k, l= 5 6\n",
      "Comparing: 1 wth 5\n",
      "\n",
      "\n",
      "index, k, l= 6 6\n",
      "Comparing: 3 wth 5\n",
      "\n",
      "\n",
      "index, k, l= 7 6\n",
      "Comparing: 5 wth 5\n",
      "\n",
      "\n",
      "index, r= 1 7\n",
      "Comparing: 4 wth 2\n",
      "\n",
      "\n",
      "index, k, l= 5 3\n",
      "Comparing: 1 wth 4\n",
      "\n",
      "\n",
      "index, k, l= 6 3\n",
      "Comparing: 3 wth 4\n",
      "\n",
      "\n",
      "index, k, l= 7 3\n",
      "Comparing: 5 wth 4\n",
      "\n",
      "\n",
      "index, r= 2 2\n",
      "Comparing: 1 wth 4\n",
      "\n",
      "\n",
      "index, k, l= 2 5\n",
      "Comparing: 1 wth 8\n",
      "\n",
      "\n",
      "diagonal row:1 column:4  with row:1 column:8\n",
      "index, k, l= 3 5\n",
      "Comparing: 6 wth 8\n",
      "\n",
      "\n",
      "index, k, l= 4 5\n",
      "Comparing: 1 wth 8\n",
      "\n",
      "\n",
      "diagonal row:1 column:4  with row:1 column:8\n",
      "index, k, l= 5 5\n",
      "Comparing: 1 wth 8\n",
      "\n",
      "\n",
      "diagonal row:1 column:4  with row:1 column:8\n",
      "index, k, l= 6 5\n",
      "Comparing: 3 wth 8\n",
      "\n",
      "\n",
      "index, k, l= 7 5\n",
      "Comparing: 5 wth 8\n",
      "\n",
      "\n",
      "index, r= 2 3\n",
      "Comparing: 1 wth 4\n",
      "\n",
      "\n",
      "index, k, l= 2 5\n",
      "Comparing: 1 wth 8\n",
      "\n",
      "\n",
      "diagonal row:1 column:4  with row:1 column:8\n",
      "index, k, l= 3 5\n",
      "Comparing: 6 wth 8\n",
      "\n",
      "\n",
      "index, k, l= 4 5\n",
      "Comparing: 1 wth 8\n",
      "\n",
      "\n",
      "diagonal row:1 column:4  with row:1 column:8\n",
      "index, k, l= 5 5\n",
      "Comparing: 1 wth 8\n",
      "\n",
      "\n",
      "diagonal row:1 column:4  with row:1 column:8\n",
      "index, k, l= 6 5\n",
      "Comparing: 3 wth 8\n",
      "\n",
      "\n",
      "index, k, l= 7 5\n",
      "Comparing: 5 wth 8\n",
      "\n",
      "\n",
      "index, r= 2 4\n",
      "Comparing: 1 wth 7\n",
      "\n",
      "\n",
      "index, r= 2 5\n",
      "Comparing: 1 wth 8\n",
      "\n",
      "\n",
      "index, r= 2 6\n",
      "Comparing: 1 wth 5\n",
      "\n",
      "\n",
      "index, k, l= 2 6\n",
      "Comparing: 1 wth 5\n",
      "\n",
      "\n",
      "diagonal row:1 column:5  with row:1 column:5\n",
      "index, k, l= 3 6\n",
      "Comparing: 6 wth 5\n",
      "\n",
      "\n",
      "index, k, l= 4 6\n",
      "Comparing: 1 wth 5\n",
      "\n",
      "\n",
      "diagonal row:1 column:5  with row:1 column:5\n",
      "index, k, l= 5 6\n",
      "Comparing: 1 wth 5\n",
      "\n",
      "\n",
      "diagonal row:1 column:5  with row:1 column:5\n",
      "index, k, l= 6 6\n",
      "Comparing: 3 wth 5\n",
      "\n",
      "\n",
      "index, k, l= 7 6\n",
      "Comparing: 5 wth 5\n",
      "\n",
      "\n",
      "index, r= 2 7\n",
      "Comparing: 1 wth 2\n",
      "\n",
      "\n",
      "index, k, l= 2 3\n",
      "Comparing: 1 wth 4\n",
      "\n",
      "\n",
      "diagonal row:1 column:2  with row:1 column:4\n",
      "index, k, l= 3 3\n",
      "Comparing: 6 wth 4\n",
      "\n",
      "\n",
      "index, k, l= 4 3\n",
      "Comparing: 1 wth 4\n",
      "\n",
      "\n",
      "diagonal row:1 column:2  with row:1 column:4\n",
      "index, k, l= 5 3\n",
      "Comparing: 1 wth 4\n",
      "\n",
      "\n",
      "diagonal row:1 column:2  with row:1 column:4\n",
      "index, k, l= 6 3\n",
      "Comparing: 3 wth 4\n",
      "\n",
      "\n",
      "index, k, l= 7 3\n",
      "Comparing: 5 wth 4\n",
      "\n",
      "\n",
      "index, r= 3 3\n",
      "Comparing: 6 wth 4\n",
      "\n",
      "\n",
      "index, k, l= 7 5\n",
      "Comparing: 5 wth 8\n",
      "\n",
      "\n",
      "index, r= 3 4\n",
      "Comparing: 6 wth 7\n",
      "\n",
      "\n",
      "index, r= 3 5\n",
      "Comparing: 6 wth 8\n",
      "\n",
      "\n",
      "index, r= 3 6\n",
      "Comparing: 6 wth 5\n",
      "\n",
      "\n",
      "index, k, l= 7 6\n",
      "Comparing: 5 wth 5\n",
      "\n",
      "\n",
      "index, r= 3 7\n",
      "Comparing: 6 wth 2\n",
      "\n",
      "\n",
      "index, k, l= 7 3\n",
      "Comparing: 5 wth 4\n",
      "\n",
      "\n",
      "index, r= 4 4\n",
      "Comparing: 1 wth 7\n",
      "\n",
      "\n",
      "index, r= 4 5\n",
      "Comparing: 1 wth 8\n",
      "\n",
      "\n",
      "index, r= 4 6\n",
      "Comparing: 1 wth 5\n",
      "\n",
      "\n",
      "index, k, l= 2 6\n",
      "Comparing: 1 wth 5\n",
      "\n",
      "\n",
      "diagonal row:1 column:5  with row:1 column:5\n",
      "index, k, l= 3 6\n",
      "Comparing: 6 wth 5\n",
      "\n",
      "\n",
      "index, k, l= 4 6\n",
      "Comparing: 1 wth 5\n",
      "\n",
      "\n",
      "diagonal row:1 column:5  with row:1 column:5\n",
      "index, k, l= 5 6\n",
      "Comparing: 1 wth 5\n",
      "\n",
      "\n",
      "diagonal row:1 column:5  with row:1 column:5\n",
      "index, k, l= 6 6\n",
      "Comparing: 3 wth 5\n",
      "\n",
      "\n",
      "index, k, l= 7 6\n",
      "Comparing: 5 wth 5\n",
      "\n",
      "\n",
      "index, r= 4 7\n",
      "Comparing: 1 wth 2\n",
      "\n",
      "\n",
      "index, k, l= 2 3\n",
      "Comparing: 1 wth 4\n",
      "\n",
      "\n",
      "diagonal row:1 column:2  with row:1 column:4\n",
      "index, k, l= 3 3\n",
      "Comparing: 6 wth 4\n",
      "\n",
      "\n",
      "index, k, l= 4 3\n",
      "Comparing: 1 wth 4\n",
      "\n",
      "\n",
      "diagonal row:1 column:2  with row:1 column:4\n",
      "index, k, l= 5 3\n",
      "Comparing: 1 wth 4\n",
      "\n",
      "\n",
      "diagonal row:1 column:2  with row:1 column:4\n",
      "index, k, l= 6 3\n",
      "Comparing: 3 wth 4\n",
      "\n",
      "\n",
      "index, k, l= 7 3\n",
      "Comparing: 5 wth 4\n",
      "\n",
      "\n",
      "index, r= 5 5\n",
      "Comparing: 1 wth 8\n",
      "\n",
      "\n",
      "index, r= 5 6\n",
      "Comparing: 1 wth 5\n",
      "\n",
      "\n",
      "index, k, l= 2 6\n",
      "Comparing: 1 wth 5\n",
      "\n",
      "\n",
      "diagonal row:1 column:5  with row:1 column:5\n",
      "index, k, l= 3 6\n",
      "Comparing: 6 wth 5\n",
      "\n",
      "\n",
      "index, k, l= 4 6\n",
      "Comparing: 1 wth 5\n",
      "\n",
      "\n",
      "diagonal row:1 column:5  with row:1 column:5\n",
      "index, k, l= 5 6\n",
      "Comparing: 1 wth 5\n",
      "\n",
      "\n",
      "diagonal row:1 column:5  with row:1 column:5\n",
      "index, k, l= 6 6\n",
      "Comparing: 3 wth 5\n",
      "\n",
      "\n",
      "index, k, l= 7 6\n",
      "Comparing: 5 wth 5\n",
      "\n",
      "\n",
      "index, r= 5 7\n",
      "Comparing: 1 wth 2\n",
      "\n",
      "\n",
      "index, k, l= 2 3\n",
      "Comparing: 1 wth 4\n",
      "\n",
      "\n",
      "diagonal row:1 column:2  with row:1 column:4\n",
      "index, k, l= 3 3\n",
      "Comparing: 6 wth 4\n",
      "\n",
      "\n",
      "index, k, l= 4 3\n",
      "Comparing: 1 wth 4\n",
      "\n",
      "\n",
      "diagonal row:1 column:2  with row:1 column:4\n",
      "index, k, l= 5 3\n",
      "Comparing: 1 wth 4\n",
      "\n",
      "\n",
      "diagonal row:1 column:2  with row:1 column:4\n",
      "index, k, l= 6 3\n",
      "Comparing: 3 wth 4\n",
      "\n",
      "\n",
      "index, k, l= 7 3\n",
      "Comparing: 5 wth 4\n",
      "\n",
      "\n",
      "index, r= 6 6\n",
      "Comparing: 3 wth 5\n",
      "\n",
      "\n",
      "index, k, l= 4 6\n",
      "Comparing: 1 wth 5\n",
      "\n",
      "\n",
      "index, k, l= 5 6\n",
      "Comparing: 1 wth 5\n",
      "\n",
      "\n",
      "index, k, l= 6 6\n",
      "Comparing: 3 wth 5\n",
      "\n",
      "\n",
      "diagonal row:3 column:5  with row:3 column:5\n",
      "index, k, l= 7 6\n",
      "Comparing: 5 wth 5\n",
      "\n",
      "\n",
      "index, r= 6 7\n",
      "Comparing: 3 wth 2\n",
      "\n",
      "\n",
      "index, k, l= 4 3\n",
      "Comparing: 1 wth 4\n",
      "\n",
      "\n",
      "index, k, l= 5 3\n",
      "Comparing: 1 wth 4\n",
      "\n",
      "\n",
      "index, k, l= 6 3\n",
      "Comparing: 3 wth 4\n",
      "\n",
      "\n",
      "diagonal row:3 column:2  with row:3 column:4\n",
      "index, k, l= 7 3\n",
      "Comparing: 5 wth 4\n",
      "\n",
      "\n",
      "index, r= 7 7\n",
      "Comparing: 5 wth 2\n",
      "\n",
      "\n",
      "index, k, l= 6 3\n",
      "Comparing: 3 wth 4\n",
      "\n",
      "\n",
      "index, k, l= 7 3\n",
      "Comparing: 5 wth 4\n",
      "\n",
      "\n",
      "diagonal row:5 column:2  with row:5 column:4\n"
     ]
    }
   ],
   "source": [
    "#check repetition of position\n",
    "r = [2, 4, 1, 6, 1, 1, 3, 5]\n",
    "c = [5, 7, 4, 4, 7, 8, 5, 2]\n",
    "counter = 0\n",
    "N = 8\n",
    "for i in range(0, N):\n",
    "    for j in range(i,N):\n",
    "        \n",
    "        print(\"index, r= {} {}\". format(i , j))\n",
    "        print(\"Comparing: {} wth {}\". format(r[i], c[j]))\n",
    "        print(\"\\n\")\n",
    "        \n",
    "        store = r[i] - c[j]\n",
    "        for k in range (r[i]+1, N):\n",
    "            for l in range (c[j]+1, N):\n",
    "                \n",
    "                print(\"index, k, l= {} {}\". format(k , l))\n",
    "                print(\"Comparing: {} wth {}\". format(r[k], c[l]))\n",
    "                print(\"\\n\")\n",
    "                \n",
    "                if(store == (r[k]-c[j])):\n",
    "                    print(\"diagonal row:{} column:{}  with row:{} column:{}\".format(r[i],c[j], r[k],c[l]))\n",
    "                break;\n",
    "        \n",
    "       "
   ]
  },
  {
   "cell_type": "code",
   "execution_count": 63,
   "id": "7492b249",
   "metadata": {},
   "outputs": [
    {
     "name": "stdout",
     "output_type": "stream",
     "text": [
      "2  5\n",
      "Comparing with 3 wth 6\n",
      "\n",
      "\n",
      "Comparing with 4 wth 7\n",
      "\n",
      "\n",
      "Comparing with 5 wth 8\n",
      "\n",
      "\n",
      "2  7\n",
      "Comparing with 3 wth 8\n",
      "\n",
      "\n",
      "2  4\n",
      "Comparing with 3 wth 5\n",
      "\n",
      "\n",
      "Comparing with 4 wth 6\n",
      "\n",
      "\n",
      "Comparing with 5 wth 7\n",
      "\n",
      "\n",
      "Comparing with 6 wth 8\n",
      "\n",
      "\n",
      "2  4\n",
      "Comparing with 3 wth 5\n",
      "\n",
      "\n",
      "Comparing with 4 wth 6\n",
      "\n",
      "\n",
      "Comparing with 5 wth 7\n",
      "\n",
      "\n",
      "Comparing with 6 wth 8\n",
      "\n",
      "\n",
      "2  7\n",
      "Comparing with 3 wth 8\n",
      "\n",
      "\n",
      "2  8\n",
      "2  5\n",
      "Comparing with 3 wth 6\n",
      "\n",
      "\n",
      "Comparing with 4 wth 7\n",
      "\n",
      "\n",
      "Comparing with 5 wth 8\n",
      "\n",
      "\n",
      "2  2\n",
      "Comparing with 3 wth 3\n",
      "\n",
      "\n",
      "Comparing with 4 wth 4\n",
      "\n",
      "\n",
      "Comparing with 5 wth 5\n",
      "\n",
      "\n",
      "Comparing with 6 wth 6\n",
      "\n",
      "\n",
      "Comparing with 7 wth 7\n",
      "\n",
      "\n",
      "Comparing with 8 wth 8\n",
      "\n",
      "\n"
     ]
    },
    {
     "ename": "IndexError",
     "evalue": "list index out of range",
     "output_type": "error",
     "traceback": [
      "\u001b[1;31m---------------------------------------------------------------------------\u001b[0m",
      "\u001b[1;31mIndexError\u001b[0m                                Traceback (most recent call last)",
      "\u001b[1;32m<ipython-input-63-573aa42c995d>\u001b[0m in \u001b[0;36m<module>\u001b[1;34m\u001b[0m\n\u001b[0;32m     18\u001b[0m             \u001b[0mprint\u001b[0m\u001b[1;33m(\u001b[0m\u001b[1;34m\"\\n\"\u001b[0m\u001b[1;33m)\u001b[0m\u001b[1;33m\u001b[0m\u001b[1;33m\u001b[0m\u001b[0m\n\u001b[0;32m     19\u001b[0m \u001b[1;33m\u001b[0m\u001b[0m\n\u001b[1;32m---> 20\u001b[1;33m             \u001b[1;32mif\u001b[0m\u001b[1;33m(\u001b[0m\u001b[0mstore\u001b[0m \u001b[1;33m==\u001b[0m \u001b[1;33m(\u001b[0m\u001b[0mr\u001b[0m\u001b[1;33m[\u001b[0m\u001b[0mk\u001b[0m\u001b[1;33m]\u001b[0m\u001b[1;33m-\u001b[0m\u001b[0mc\u001b[0m\u001b[1;33m[\u001b[0m\u001b[0mj\u001b[0m\u001b[1;33m]\u001b[0m\u001b[1;33m)\u001b[0m\u001b[1;33m)\u001b[0m\u001b[1;33m:\u001b[0m\u001b[1;33m\u001b[0m\u001b[1;33m\u001b[0m\u001b[0m\n\u001b[0m\u001b[0;32m     21\u001b[0m                 \u001b[0mprint\u001b[0m\u001b[1;33m(\u001b[0m\u001b[1;34m\"diagonal row:{} column:{}  with row:{} column:{}\"\u001b[0m\u001b[1;33m.\u001b[0m\u001b[0mformat\u001b[0m\u001b[1;33m(\u001b[0m\u001b[0mr\u001b[0m\u001b[1;33m[\u001b[0m\u001b[0mi\u001b[0m\u001b[1;33m]\u001b[0m\u001b[1;33m,\u001b[0m\u001b[0mc\u001b[0m\u001b[1;33m[\u001b[0m\u001b[0mj\u001b[0m\u001b[1;33m]\u001b[0m\u001b[1;33m,\u001b[0m \u001b[0mr\u001b[0m\u001b[1;33m[\u001b[0m\u001b[0mk\u001b[0m\u001b[1;33m]\u001b[0m\u001b[1;33m,\u001b[0m\u001b[0mc\u001b[0m\u001b[1;33m[\u001b[0m\u001b[0ml\u001b[0m\u001b[1;33m]\u001b[0m\u001b[1;33m)\u001b[0m\u001b[1;33m)\u001b[0m\u001b[1;33m\u001b[0m\u001b[1;33m\u001b[0m\u001b[0m\n\u001b[0;32m     22\u001b[0m                 \u001b[0mflag\u001b[0m \u001b[1;33m=\u001b[0m \u001b[1;36m1\u001b[0m\u001b[1;33m\u001b[0m\u001b[1;33m\u001b[0m\u001b[0m\n",
      "\u001b[1;31mIndexError\u001b[0m: list index out of range"
     ]
    }
   ],
   "source": [
    "#check repetition of position\n",
    "r = [2, 4, 1, 6, 1, 1, 3, 5]\n",
    "c = [5, 7, 4, 4, 7, 8, 5, 2]\n",
    "counter = 0\n",
    "N = 8\n",
    "for i in range(0, N):\n",
    "    for j in range(i,N):\n",
    "        \n",
    "        print(\"{}  {}\". format(r[i], c[j]))\n",
    "        \n",
    "        store = r[i] - c[j]\n",
    "        k = r[i]+1\n",
    "        l = c[j]+1\n",
    "        flag = 0\n",
    "        while (flag!=1 and k<=8 and l<=8):\n",
    "            \n",
    "            print(\"Comparing with {} wth {}\". format(k,l))\n",
    "            print(\"\\n\")\n",
    "            \n",
    "            if(store == (r[k]-c[j])):\n",
    "                print(\"diagonal row:{} column:{}  with row:{} column:{}\".format(r[i],c[j], r[k],c[l]))\n",
    "                flag = 1\n",
    "            k+=1\n",
    "            l+=1\n",
    "       "
   ]
  },
  {
   "cell_type": "code",
   "execution_count": 80,
   "id": "ded7e677",
   "metadata": {},
   "outputs": [
    {
     "name": "stdout",
     "output_type": "stream",
     "text": [
      "row:5 column:2  diagonal with row:5 column:2\n",
      "row:4 column:7  diagonal with row:5 column:2\n",
      "row:1 column:4  diagonal with row:5 column:2\n"
     ]
    },
    {
     "ename": "KeyboardInterrupt",
     "evalue": "",
     "output_type": "error",
     "traceback": [
      "\u001b[1;31m---------------------------------------------------------------------------\u001b[0m",
      "\u001b[1;31mKeyboardInterrupt\u001b[0m                         Traceback (most recent call last)",
      "\u001b[1;32m<ipython-input-80-9f42a59d65ed>\u001b[0m in \u001b[0;36m<module>\u001b[1;34m\u001b[0m\n\u001b[0;32m     24\u001b[0m                 \u001b[0mprint\u001b[0m\u001b[1;33m(\u001b[0m\u001b[1;34m\"row:{} column:{}  diagonal with row:{} column:{}\"\u001b[0m\u001b[1;33m.\u001b[0m\u001b[0mformat\u001b[0m\u001b[1;33m(\u001b[0m\u001b[0mr\u001b[0m\u001b[1;33m[\u001b[0m\u001b[0mi\u001b[0m\u001b[1;33m]\u001b[0m\u001b[1;33m,\u001b[0m\u001b[0mc\u001b[0m\u001b[1;33m[\u001b[0m\u001b[0mi\u001b[0m\u001b[1;33m]\u001b[0m\u001b[1;33m,\u001b[0m \u001b[0mr\u001b[0m\u001b[1;33m[\u001b[0m\u001b[0mk\u001b[0m\u001b[1;33m]\u001b[0m\u001b[1;33m,\u001b[0m\u001b[0mc\u001b[0m\u001b[1;33m[\u001b[0m\u001b[0mk\u001b[0m\u001b[1;33m]\u001b[0m\u001b[1;33m)\u001b[0m\u001b[1;33m)\u001b[0m\u001b[1;33m\u001b[0m\u001b[1;33m\u001b[0m\u001b[0m\n\u001b[0;32m     25\u001b[0m                 \u001b[0mflag\u001b[0m \u001b[1;33m=\u001b[0m \u001b[1;36m1\u001b[0m\u001b[1;33m\u001b[0m\u001b[1;33m\u001b[0m\u001b[0m\n\u001b[1;32m---> 26\u001b[1;33m         \u001b[0md1\u001b[0m\u001b[1;33m+=\u001b[0m\u001b[1;36m1\u001b[0m\u001b[1;33m\u001b[0m\u001b[1;33m\u001b[0m\u001b[0m\n\u001b[0m\u001b[0;32m     27\u001b[0m         \u001b[0md2\u001b[0m\u001b[1;33m+=\u001b[0m\u001b[1;36m1\u001b[0m\u001b[1;33m\u001b[0m\u001b[1;33m\u001b[0m\u001b[0m\n\u001b[0;32m     28\u001b[0m \u001b[1;33m\u001b[0m\u001b[0m\n",
      "\u001b[1;31mKeyboardInterrupt\u001b[0m: "
     ]
    }
   ],
   "source": [
    "r = [5, 4, 1, 6, 1, 1, 3, 2]\n",
    "c = [2, 7, 4, 4, 7, 8, 5, 5]\n",
    "counter = 0\n",
    "N = 8\n",
    "\n",
    "for i in range(0,N):\n",
    "    d1 = r[i] + 1\n",
    "    d2 = c[i] +1\n",
    "    d3 = d1 - 1\n",
    "    d4 = d2\n",
    "    d5 = d3\n",
    "    d6 = d2 - 1\n",
    "    d7 = d1\n",
    "    d8 = d4\n",
    "    \n",
    "    store = abs (r[i] - c[i])\n",
    "    k=0\n",
    "    flag = 0\n",
    "    #print(\"{}  {} = {}\". format(r[i], c[j], store))\n",
    "    while (flag!=1 and k<=8):\n",
    "        #print(\"comparing with {}  {} = {}\". format(r[k], c[l], r[k] -c[l]))\n",
    "        if((r[k] and c[k]) == (d1 and d2) or (d3 and d4) or (d5 and d6) or (d7 and d8)):\n",
    "            if(store ==  abs (r[k] -c[k])):\n",
    "                print(\"row:{} column:{}  diagonal with row:{} column:{}\".format(r[i],c[i], r[k],c[k]))\n",
    "                flag = 1\n",
    "        d1+=1\n",
    "        d2+=1\n",
    "\n",
    "\n",
    "        \n",
    "       "
   ]
  },
  {
   "cell_type": "code",
   "execution_count": 4,
   "id": "05e4a634",
   "metadata": {},
   "outputs": [
    {
     "name": "stdout",
     "output_type": "stream",
     "text": [
      "[3 2 2]\n"
     ]
    }
   ],
   "source": [
    "import numpy as np\n",
    "x = empty((2, 2), int)\n",
    "\n",
    "x = append(1 ,[1,2])\n",
    "x = append(3 ,[2,2])\n",
    "\n",
    "print(x)"
   ]
  },
  {
   "cell_type": "code",
   "execution_count": 1,
   "id": "555c7c58",
   "metadata": {},
   "outputs": [
    {
     "ename": "SyntaxError",
     "evalue": "invalid syntax (<ipython-input-1-837f149fc808>, line 36)",
     "output_type": "error",
     "traceback": [
      "\u001b[1;36m  File \u001b[1;32m\"<ipython-input-1-837f149fc808>\"\u001b[1;36m, line \u001b[1;32m36\u001b[0m\n\u001b[1;33m    if((arr[ r[i]-1, c[i]-1 ] == arr[d1, d2]):\u001b[0m\n\u001b[1;37m                                             ^\u001b[0m\n\u001b[1;31mSyntaxError\u001b[0m\u001b[1;31m:\u001b[0m invalid syntax\n"
     ]
    }
   ],
   "source": [
    "r = [5, 4, 1, 6, 1, 1, 3, 2]\n",
    "c = [2, 7, 4, 4, 7, 8, 5, 5]\n",
    "n=8\n",
    "l = [0]*(n*n)\n",
    "\n",
    "arr = np.array(l)\n",
    "\n",
    "arr = arr.reshape(n, n)\n",
    "\n",
    "for i in range(0, n):\n",
    "    j = i\n",
    "    arr[ r[i]-1, c[i]-1 ] =1\n",
    "\n",
    "rr\n",
    "\n",
    "N = 8\n",
    "\n",
    "for i in range(0,N):\n",
    "    \n",
    "    d1 = r[i] + 1\n",
    "    d2 = c[i] +1\n",
    "    \n",
    "    \n",
    "    store = abs (r[i] - c[i])\n",
    "    k=0\n",
    "    flag = 0\n",
    "    #print(\"{}  {} = {}\". format(r[i], c[j], store))\n",
    "    while (flag!=1):\n",
    "        d3 = d1 - 1\n",
    "        d4 = d2\n",
    "        d5 = d3\n",
    "        d6 = d2 - 1\n",
    "        d7 = d1\n",
    "        d8 = d4\n",
    "        print(\"comparing with {}  {} = {}\". format(r[k], c[l], r[k] -c[l]))\n",
    "        if((arr[ r[i]-1, c[i]-1 ] == arr[d1, d2]):\n",
    "            \n",
    "            print(\"row:{} column:{}  diagonal with row:{} column:{}\".format(r[i],c[i], d1, d2)\n",
    "            flag = 1\n",
    "        \n",
    "        elif((arr[ r[i]-1, c[i]-1 ] == arr[d3, d4]):\n",
    "            \n",
    "            print(\"row:{} column:{}  diagonal with row:{} column:{}\".format(r[i],c[i], d3, d4)\n",
    "            flag = 1\n",
    "             \n",
    "        elif((arr[ r[i]-1, c[i]-1 ] == arr[d5, d6] or arr[d7, d8]):\n",
    "            \n",
    "            print(\"row:{} column:{}  diagonal with row:{} column:{}\".format(r[i],c[i], d5, d6)\n",
    "            flag = 1\n",
    "        \n",
    "        elif((arr[ r[i]-1, c[i]-1 ] == arr[d7, d8]):\n",
    "            \n",
    "            print(\"row:{} column:{}  diagonal with row:{} column:{}\".format(r[i],c[i], d7, d8)\n",
    "            flag = 1\n",
    "           \n",
    "        d1+=1\n",
    "        d2+=1\n",
    "\n",
    "\n",
    "\n",
    "\n"
   ]
  },
  {
   "cell_type": "code",
   "execution_count": null,
   "id": "366dff0b",
   "metadata": {},
   "outputs": [],
   "source": [
    "i=0\n",
    "\n",
    "a[1]=11\n",
    "a"
   ]
  },
  {
   "cell_type": "code",
   "execution_count": 2,
   "id": "0af45955",
   "metadata": {
    "scrolled": true
   },
   "outputs": [
    {
     "ename": "NameError",
     "evalue": "name 'N' is not defined",
     "output_type": "error",
     "traceback": [
      "\u001b[1;31m---------------------------------------------------------------------------\u001b[0m",
      "\u001b[1;31mNameError\u001b[0m                                 Traceback (most recent call last)",
      "\u001b[1;32m<ipython-input-2-7a7763f0915e>\u001b[0m in \u001b[0;36m<module>\u001b[1;34m\u001b[0m\n\u001b[0;32m      3\u001b[0m \u001b[1;31m#column attack\u001b[0m\u001b[1;33m\u001b[0m\u001b[1;33m\u001b[0m\u001b[1;33m\u001b[0m\u001b[0m\n\u001b[0;32m      4\u001b[0m \u001b[1;32mimport\u001b[0m \u001b[0mrandom\u001b[0m\u001b[1;33m\u001b[0m\u001b[1;33m\u001b[0m\u001b[0m\n\u001b[1;32m----> 5\u001b[1;33m \u001b[1;32mfor\u001b[0m \u001b[0mi\u001b[0m \u001b[1;32min\u001b[0m \u001b[0mrange\u001b[0m\u001b[1;33m(\u001b[0m\u001b[1;36m0\u001b[0m\u001b[1;33m,\u001b[0m\u001b[0mN\u001b[0m\u001b[1;33m)\u001b[0m\u001b[1;33m:\u001b[0m\u001b[1;33m\u001b[0m\u001b[1;33m\u001b[0m\u001b[0m\n\u001b[0m\u001b[0;32m      6\u001b[0m     \u001b[1;32mfor\u001b[0m \u001b[0mk\u001b[0m \u001b[1;32min\u001b[0m \u001b[0mrange\u001b[0m\u001b[1;33m(\u001b[0m\u001b[0mi\u001b[0m\u001b[1;33m+\u001b[0m\u001b[1;36m1\u001b[0m\u001b[1;33m,\u001b[0m\u001b[0mN\u001b[0m\u001b[1;33m)\u001b[0m\u001b[1;33m:\u001b[0m\u001b[1;33m\u001b[0m\u001b[1;33m\u001b[0m\u001b[0m\n\u001b[0;32m      7\u001b[0m         \u001b[0mprint\u001b[0m\u001b[1;33m(\u001b[0m\u001b[1;34m\"{} {} with {} {}\"\u001b[0m\u001b[1;33m.\u001b[0m\u001b[0mformat\u001b[0m\u001b[1;33m(\u001b[0m\u001b[0mr\u001b[0m\u001b[1;33m[\u001b[0m\u001b[0mi\u001b[0m\u001b[1;33m]\u001b[0m\u001b[1;33m,\u001b[0m\u001b[0mc\u001b[0m\u001b[1;33m[\u001b[0m\u001b[0mi\u001b[0m\u001b[1;33m]\u001b[0m\u001b[1;33m,\u001b[0m \u001b[0mr\u001b[0m\u001b[1;33m[\u001b[0m\u001b[0mk\u001b[0m\u001b[1;33m]\u001b[0m\u001b[1;33m,\u001b[0m \u001b[0mc\u001b[0m\u001b[1;33m[\u001b[0m\u001b[0mk\u001b[0m\u001b[1;33m]\u001b[0m\u001b[1;33m)\u001b[0m\u001b[1;33m)\u001b[0m\u001b[1;33m\u001b[0m\u001b[1;33m\u001b[0m\u001b[0m\n",
      "\u001b[1;31mNameError\u001b[0m: name 'N' is not defined"
     ]
    }
   ],
   "source": [
    "r = [1, 1, 1, 2, 3, 4, 5, 6]\n",
    "c = [4, 7, 8, 5, 5, 7, 2, 4]\n",
    "N\n",
    "#column attack\n",
    "import random\n",
    "for i in range(0,N):\n",
    "    for k in range(i+1,N):\n",
    "        print(\"{} {} with {} {}\".format(r[i],c[i], r[k], c[k]))\n",
    "        if ( abs( r[k] - r[i]) == abs(c[i] - c[k]) ):\n",
    "            print('Diagonal attack: {} {} with {} {}'.format(r[i],c[i], r[k], c[k]))\n",
    "            \n",
    "            "
   ]
  },
  {
   "cell_type": "code",
   "execution_count": null,
   "id": "07e03158",
   "metadata": {},
   "outputs": [],
   "source": [
    "sdhfgdsfhjdsfdhsg\n",
    "            \n",
    "            "
   ]
  },
  {
   "cell_type": "code",
   "execution_count": null,
   "id": "a933fe9b",
   "metadata": {},
   "outputs": [],
   "source": [
    "czxcxzcdscs"
   ]
  },
  {
   "cell_type": "code",
   "execution_count": null,
   "id": "11ca67f1",
   "metadata": {},
   "outputs": [],
   "source": []
  },
  {
   "cell_type": "code",
   "execution_count": 7,
   "id": "e57272f5",
   "metadata": {},
   "outputs": [
    {
     "name": "stdout",
     "output_type": "stream",
     "text": [
      "['R', 'G', 'B']\n"
     ]
    },
    {
     "data": {
      "text/plain": [
       "['R', 'G', 'B']"
      ]
     },
     "execution_count": 7,
     "metadata": {},
     "output_type": "execute_result"
    }
   ],
   "source": [
    "import random\n",
    "rv = {'WA': ['R','G','B'], \n",
    "                    'Q': ['R','G','B'],\n",
    "                    'T': ['R','G','B'],\n",
    "                    'V':  ['R','G','B'], \n",
    "                    'NT': ['R','G','B'],\n",
    "                    'SA': ['R','G','B'],                    \n",
    "                    'NSW': ['R','G','B']}\n",
    "node = 'SA'\n",
    "\n",
    "print(rv[node])\n",
    "color = random.choice(rv[node])\n",
    "color\n",
    "rv.pop(node)\n",
    "\n"
   ]
  },
  {
   "cell_type": "code",
   "execution_count": null,
   "id": "c7a068c5",
   "metadata": {},
   "outputs": [],
   "source": []
  },
  {
   "cell_type": "code",
   "execution_count": null,
   "id": "859d3e88",
   "metadata": {},
   "outputs": [],
   "source": []
  },
  {
   "cell_type": "code",
   "execution_count": null,
   "id": "768f476d",
   "metadata": {},
   "outputs": [],
   "source": []
  },
  {
   "cell_type": "code",
   "execution_count": null,
   "id": "e442fd1f",
   "metadata": {},
   "outputs": [],
   "source": []
  },
  {
   "cell_type": "code",
   "execution_count": null,
   "id": "e2dfb280",
   "metadata": {},
   "outputs": [],
   "source": []
  },
  {
   "cell_type": "code",
   "execution_count": null,
   "id": "acbf385a",
   "metadata": {},
   "outputs": [],
   "source": []
  },
  {
   "cell_type": "code",
   "execution_count": null,
   "id": "ffb62442",
   "metadata": {},
   "outputs": [],
   "source": []
  }
 ],
 "metadata": {
  "kernelspec": {
   "display_name": "Python 3",
   "language": "python",
   "name": "python3"
  },
  "language_info": {
   "codemirror_mode": {
    "name": "ipython",
    "version": 3
   },
   "file_extension": ".py",
   "mimetype": "text/x-python",
   "name": "python",
   "nbconvert_exporter": "python",
   "pygments_lexer": "ipython3",
   "version": "3.8.8"
  }
 },
 "nbformat": 4,
 "nbformat_minor": 5
}
