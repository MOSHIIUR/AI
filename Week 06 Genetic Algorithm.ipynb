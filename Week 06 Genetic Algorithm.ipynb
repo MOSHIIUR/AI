{
 "cells": [
  {
   "cell_type": "markdown",
   "metadata": {},
   "source": [
    "### Problem: Maximie f(x) = x^2-11x+100 when x = 0 to 127"
   ]
  },
  {
   "cell_type": "markdown",
   "metadata": {},
   "source": [
    "Representation or ecoding solution:\n",
    "x can be represented using 7 bits binary number."
   ]
  },
  {
   "cell_type": "markdown",
   "metadata": {},
   "source": [
    "# Step 1: Initialize Population"
   ]
  },
  {
   "cell_type": "code",
   "execution_count": 10,
   "metadata": {
    "_cell_guid": "b1076dfc-b9ad-4769-8c92-a6c4dae69d19",
    "_uuid": "8f2839f25d086af736a60e9eeb907d3b93b6e0e5"
   },
   "outputs": [],
   "source": [
    "import random\n",
    "def initPopulation(b, n = 6): # n is the number of solutions, b is the length\n",
    "    p = [] # to store solution set/ initial population\n",
    "    for i in range(n):\n",
    "        s = [] # to store a solution as a list\n",
    "        for j in range(b):\n",
    "            s.append(random.choice([0,1]))    \n",
    "        # avoid zero\n",
    "        p.append(s)\n",
    "    return p"
   ]
  },
  {
   "cell_type": "code",
   "execution_count": 11,
   "metadata": {},
   "outputs": [
    {
     "data": {
      "text/plain": [
       "[[1, 0, 0, 0, 0, 1, 1],\n",
       " [0, 0, 1, 0, 1, 1, 0],\n",
       " [1, 0, 1, 1, 1, 0, 0],\n",
       " [1, 1, 1, 0, 0, 1, 1],\n",
       " [1, 1, 1, 0, 1, 0, 1],\n",
       " [1, 0, 1, 1, 0, 1, 0],\n",
       " [1, 0, 0, 1, 0, 1, 0],\n",
       " [1, 0, 1, 1, 0, 0, 1],\n",
       " [0, 0, 1, 1, 0, 0, 1],\n",
       " [0, 0, 1, 1, 0, 1, 1]]"
      ]
     },
     "execution_count": 11,
     "metadata": {},
     "output_type": "execute_result"
    }
   ],
   "source": [
    "population = initPopulation(7,10)\n",
    "population"
   ]
  },
  {
   "cell_type": "markdown",
   "metadata": {},
   "source": [
    "# Step 2: Reproduction or Parent Selection"
   ]
  },
  {
   "cell_type": "markdown",
   "metadata": {},
   "source": [
    "Fitness Calculation"
   ]
  },
  {
   "cell_type": "code",
   "execution_count": 3,
   "metadata": {},
   "outputs": [
    {
     "data": {
      "text/plain": [
       "[4, 3, 2, 1, 0]"
      ]
     },
     "execution_count": 3,
     "metadata": {},
     "output_type": "execute_result"
    }
   ],
   "source": [
    "[i for i in range(4,-1,-1)]\n",
    "\n",
    "#for (i=4; i<-1; i--)\n",
    "    #print(i)"
   ]
  },
  {
   "cell_type": "code",
   "execution_count": 4,
   "metadata": {},
   "outputs": [],
   "source": [
    "def getFitness(population):\n",
    "    fitness = []\n",
    "    value = 0 ##total decimal value of a single string of sublist\n",
    "    \n",
    "    for i in range(len(population)):\n",
    "        sublist = population.pop()\n",
    "        \n",
    "        for j in range(len(sublist)):\n",
    "            digit = sublist.pop()\n",
    "            \n",
    "            if digit == 1:\n",
    "                value = value + pow(2, j)\n",
    "                \n",
    "        fitness.append( 11*value - pow(value, 2))\n",
    "        value = 0\n",
    "    \n",
    "    return fitness"
   ]
  },
  {
   "cell_type": "code",
   "execution_count": 5,
   "metadata": {},
   "outputs": [
    {
     "data": {
      "text/plain": [
       "[-6776, -4940, -3876, -7980, -3876, -1950, -4800, -10476, -5520, -5226]"
      ]
     },
     "execution_count": 5,
     "metadata": {},
     "output_type": "execute_result"
    }
   ],
   "source": [
    "fitness = getFitness(population)\n",
    "fitness"
   ]
  },
  {
   "cell_type": "markdown",
   "metadata": {},
   "source": [
    "calculate probability and select parents"
   ]
  },
  {
   "cell_type": "code",
   "execution_count": 6,
   "metadata": {},
   "outputs": [],
   "source": [
    "def select_parent(n, pop): # probability, parent selection\n",
    "    # probability\n",
    "    fitness = getFitness(pop)\n",
    "    total_fitness = sum(fitness)\n",
    "    prob = [round(f/total_fitness,3) for f in fitness]\n",
    "    # parent selection\n",
    "    parents = []\n",
    "    for i in range(n):\n",
    "        # roullete wheel, generate a random number\n",
    "        r = random.choice(range(1,1001,1))/1000\n",
    "        lim = 0\n",
    "        # check bin number of r\n",
    "        for j in range(len(prob)):\n",
    "            lim = lim + prob[j]\n",
    "            if r <= lim :#checking the bin\n",
    "                print(j)\n",
    "                parents.append(pop[j])\n",
    "                break\n",
    "    return parents"
   ]
  },
  {
   "cell_type": "code",
   "execution_count": 7,
   "metadata": {},
   "outputs": [
    {
     "data": {
      "text/plain": [
       "[]"
      ]
     },
     "execution_count": 7,
     "metadata": {},
     "output_type": "execute_result"
    }
   ],
   "source": [
    "parents = select_parent(8, population)\n",
    "parents"
   ]
  },
  {
   "cell_type": "markdown",
   "metadata": {},
   "source": [
    "# Step 3: Crossover"
   ]
  },
  {
   "cell_type": "code",
   "execution_count": 8,
   "metadata": {},
   "outputs": [],
   "source": [
    "# define a method crossover (input is parents set)\n",
    "import random\n",
    "def Crossover(p1, p2, point):\n",
    "    c1, c2 = p1.copy(), p2.copy()\n",
    "\n",
    "    num_cross = len(parents)/2\n",
    "    print(num_cross)\n",
    "\n",
    "    # for loop to perform crossovers\n",
    "    for i in range(point):\n",
    "        cp = random.choice(range(1,7))\n",
    "        # perform crossover\n",
    "        c1 = p1[:cp] + p2[cp:]\n",
    "        c2 = p2[:cp] + p1[cp:]\n",
    "        # return the offsprings\n",
    "        return [c1, c2]\n"
   ]
  },
  {
   "cell_type": "code",
   "execution_count": 9,
   "metadata": {},
   "outputs": [
    {
     "ename": "NameError",
     "evalue": "name 'cp' is not defined",
     "output_type": "error",
     "traceback": [
      "\u001b[1;31m---------------------------------------------------------------------------\u001b[0m",
      "\u001b[1;31mNameError\u001b[0m                                 Traceback (most recent call last)",
      "\u001b[1;32m<ipython-input-9-f12cd18ebf3c>\u001b[0m in \u001b[0;36m<module>\u001b[1;34m\u001b[0m\n\u001b[1;32m----> 1\u001b[1;33m \u001b[0moff1\u001b[0m\u001b[1;33m,\u001b[0m \u001b[0moff2\u001b[0m \u001b[1;33m=\u001b[0m \u001b[0mCrossover\u001b[0m\u001b[1;33m(\u001b[0m\u001b[0mparents\u001b[0m\u001b[1;33m,\u001b[0m \u001b[0mparents\u001b[0m\u001b[1;33m,\u001b[0m \u001b[0mcp\u001b[0m\u001b[1;33m)\u001b[0m\u001b[1;33m\u001b[0m\u001b[1;33m\u001b[0m\u001b[0m\n\u001b[0m\u001b[0;32m      2\u001b[0m \u001b[0moff1\u001b[0m\u001b[1;33m\u001b[0m\u001b[1;33m\u001b[0m\u001b[0m\n\u001b[0;32m      3\u001b[0m \u001b[0moff2\u001b[0m\u001b[1;33m\u001b[0m\u001b[1;33m\u001b[0m\u001b[0m\n",
      "\u001b[1;31mNameError\u001b[0m: name 'cp' is not defined"
     ]
    }
   ],
   "source": [
    "off1, off2 = Crossover(parents, parents, cp)\n",
    "off1\n",
    "off2"
   ]
  },
  {
   "cell_type": "code",
   "execution_count": null,
   "metadata": {},
   "outputs": [],
   "source": [
    "# define a method crossover (input is parents set)\n",
    "\n",
    "def crossover(parents):\n",
    "    sublist1 = []\n",
    "    sublist2 = []\n",
    "    list1, lis2, list2, list4 = []\n",
    "    offspring = []\n",
    "    \n",
    "# for loop to perform crossovers\n",
    "    for i in parents:\n",
    "        sublist1 = parents.pop()\n",
    "        cp = random.choice(range(1,7)) #crossoverPoint\n",
    "# perform crossover\n",
    "        #split the first list\n",
    "        lis1 = sublist1[:cp]\n",
    "        lis2 = sublist1[cp:]\n",
    "        #split the sublist 2\n",
    "        lis3 = sublist2[:cp]\n",
    "        lis4 = sublist2[cp:]\n",
    "        #creating offspring\n",
    "        sublsit1 = list1 + list4\n",
    "        sublist2 = list3 + list2\n",
    "        \n",
    "        offspring.append(sublsit1)\n",
    "        offspring.append(sublsit2)\n",
    "    \n",
    "    return offspring\n",
    "        \n",
    "        \n",
    "\n",
    "\n",
    "# return the offsprings\n"
   ]
  },
  {
   "cell_type": "markdown",
   "metadata": {},
   "source": [
    "# Step 4: Select Survivor\n",
    "The selected survivors (solutions) will be added to population"
   ]
  },
  {
   "cell_type": "markdown",
   "metadata": {},
   "source": [
    "Select top 2 offspring based on fitness value and add them to population."
   ]
  },
  {
   "cell_type": "markdown",
   "metadata": {},
   "source": [
    "Repeat Step 2 to 4 for further iterations"
   ]
  },
  {
   "cell_type": "code",
   "execution_count": null,
   "metadata": {},
   "outputs": [],
   "source": [
    "# define a method to select top offsprings (input offsprings, top)\n"
   ]
  },
  {
   "cell_type": "code",
   "execution_count": null,
   "metadata": {},
   "outputs": [],
   "source": [
    "a = [0, 0, 0, 0, 1, 0, 1]\n",
    "b = len(a)"
   ]
  },
  {
   "cell_type": "code",
   "execution_count": null,
   "metadata": {},
   "outputs": [],
   "source": [
    "print(b)"
   ]
  },
  {
   "cell_type": "code",
   "execution_count": null,
   "metadata": {},
   "outputs": [],
   "source": [
    "for i in a:\n",
    "    print(i+1)"
   ]
  },
  {
   "cell_type": "code",
   "execution_count": null,
   "metadata": {},
   "outputs": [],
   "source": [
    "def getFitness(population):\n",
    "    fitness = []\n",
    "    subList = [] #which will put the inside list of the population here\n",
    "    value = 0 ##total decimal value of a single string\n",
    "    \n",
    "    for i in range(len(population)):\n",
    "        sublist = population.pop()\n",
    "    return sublist\n",
    "        \n",
    "        for j in range(len(sublist)):\n",
    "            digit = sublist.pop()\n",
    "            \n",
    "            if digit == '1':\n",
    "                value = value + pow(2, j)\n",
    "                \n",
    "        fitness.append(value**2 - 11*value + 100)\n",
    "    \n",
    "    return fitness\n",
    "        \n",
    "        \n"
   ]
  },
  {
   "cell_type": "code",
   "execution_count": null,
   "metadata": {},
   "outputs": [],
   "source": [
    "fitness = getFitness(population)\n",
    "fitness"
   ]
  },
  {
   "cell_type": "code",
   "execution_count": null,
   "metadata": {},
   "outputs": [],
   "source": []
  },
  {
   "cell_type": "code",
   "execution_count": null,
   "metadata": {},
   "outputs": [],
   "source": [
    "\n",
    "        "
   ]
  },
  {
   "cell_type": "code",
   "execution_count": null,
   "metadata": {},
   "outputs": [],
   "source": [
    "sublist = [1, 0, 0, 1]"
   ]
  },
  {
   "cell_type": "code",
   "execution_count": null,
   "metadata": {},
   "outputs": [],
   "source": [
    "value = 0\n",
    "for j in range(len(sublist)):\n",
    "            digit = sublist.pop()\n",
    "            \n",
    "            if digit == 1:\n",
    "                value = value + pow(2, j)\n",
    "        \n",
    "print(value)"
   ]
  },
  {
   "cell_type": "code",
   "execution_count": null,
   "metadata": {},
   "outputs": [],
   "source": []
  }
 ],
 "metadata": {
  "kernelspec": {
   "display_name": "Python 3",
   "language": "python",
   "name": "python3"
  },
  "language_info": {
   "codemirror_mode": {
    "name": "ipython",
    "version": 3
   },
   "file_extension": ".py",
   "mimetype": "text/x-python",
   "name": "python",
   "nbconvert_exporter": "python",
   "pygments_lexer": "ipython3",
   "version": "3.8.8"
  }
 },
 "nbformat": 4,
 "nbformat_minor": 4
}
