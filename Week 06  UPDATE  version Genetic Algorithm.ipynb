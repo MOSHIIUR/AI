{
 "cells": [
  {
   "cell_type": "markdown",
   "metadata": {},
   "source": [
    "### Problem: Maximie f(x) = x^2-11x+100 when x = 0 to 127"
   ]
  },
  {
   "cell_type": "code",
   "execution_count": null,
   "metadata": {},
   "outputs": [],
   "source": [
    "1, 1, 0, 0, 1, 1, 1 = \n",
    "\n",
    "64 32 16 8  4  2  1\n",
    "\n",
    "1, 1, 1, 1, 1, 1, 1 = 127\n",
    "\n"
   ]
  },
  {
   "cell_type": "markdown",
   "metadata": {},
   "source": [
    "Representation or ecoding solution:\n",
    "x can be represented using 7 bits binary number."
   ]
  },
  {
   "cell_type": "markdown",
   "metadata": {},
   "source": [
    "# Step 1: Initialize Population"
   ]
  },
  {
   "cell_type": "code",
   "execution_count": 29,
   "metadata": {
    "_cell_guid": "b1076dfc-b9ad-4769-8c92-a6c4dae69d19",
    "_uuid": "8f2839f25d086af736a60e9eeb907d3b93b6e0e5"
   },
   "outputs": [],
   "source": [
    "import random\n",
    "def initPopulation(b, n = 10): # n is the number of solutions, b is the length\n",
    "    p = [] # to store solution set/ initial population\n",
    "    for i in range(n):\n",
    "        s = [] # to store a solution as a list\n",
    "        for j in range(b):\n",
    "            s.append(random.choice([0,1]))    \n",
    "        # avoid zero\n",
    "        p.append(s)\n",
    "    return p"
   ]
  },
  {
   "cell_type": "code",
   "execution_count": 30,
   "metadata": {},
   "outputs": [
    {
     "data": {
      "text/plain": [
       "[[1, 1, 0, 0, 1, 1, 1],\n",
       " [1, 1, 1, 0, 1, 0, 0],\n",
       " [1, 0, 0, 0, 0, 1, 0],\n",
       " [0, 0, 0, 1, 1, 0, 1],\n",
       " [0, 1, 0, 0, 0, 0, 1],\n",
       " [0, 1, 1, 1, 1, 1, 0],\n",
       " [0, 1, 1, 0, 1, 1, 0],\n",
       " [1, 0, 0, 1, 1, 0, 0],\n",
       " [0, 1, 1, 1, 0, 0, 1],\n",
       " [0, 1, 0, 1, 0, 0, 1],\n",
       " [1, 1, 1, 1, 0, 0, 1],\n",
       " [1, 1, 0, 1, 1, 1, 0],\n",
       " [0, 0, 0, 0, 0, 0, 1],\n",
       " [1, 0, 1, 1, 1, 0, 0],\n",
       " [1, 0, 1, 1, 1, 0, 0],\n",
       " [1, 1, 1, 1, 1, 1, 0],\n",
       " [1, 0, 1, 0, 0, 1, 1],\n",
       " [0, 1, 1, 1, 1, 0, 1],\n",
       " [0, 0, 1, 1, 1, 0, 1],\n",
       " [0, 0, 1, 1, 0, 0, 0]]"
      ]
     },
     "execution_count": 30,
     "metadata": {},
     "output_type": "execute_result"
    }
   ],
   "source": [
    "population = initPopulation(7,20)\n",
    "population"
   ]
  },
  {
   "cell_type": "markdown",
   "metadata": {},
   "source": [
    "# Step 2: Reproduction or Parent Selection"
   ]
  },
  {
   "cell_type": "markdown",
   "metadata": {},
   "source": [
    "Fitness Calculation"
   ]
  },
  {
   "cell_type": "code",
   "execution_count": 31,
   "metadata": {},
   "outputs": [
    {
     "data": {
      "text/plain": [
       "[4, 3, 2, 1, 0]"
      ]
     },
     "execution_count": 31,
     "metadata": {},
     "output_type": "execute_result"
    }
   ],
   "source": [
    "[i for i in range(4,-1,-1)]"
   ]
  },
  {
   "cell_type": "code",
   "execution_count": 32,
   "metadata": {},
   "outputs": [],
   "source": [
    "def getFitness(p): # p is the whole population\n",
    "    f = [] # to store fitness values\n",
    "    for sol in p:\n",
    "        d = 0 # decimel value\n",
    "        b = len(sol)\n",
    "        for i in range(b-1,-1,-1): # binary to decimel\n",
    "            d = d + sol[i]*2**(b-1-i)\n",
    "        f.append(d**2 - 11*d + 100) # fitness function\n",
    "    return f"
   ]
  },
  {
   "cell_type": "code",
   "execution_count": 33,
   "metadata": {},
   "outputs": [
    {
     "data": {
      "text/plain": [
       "[9576,\n",
       " 12280,\n",
       " 3730,\n",
       " 126,\n",
       " 826,\n",
       " 3262,\n",
       " 2422,\n",
       " 5040,\n",
       " 2722,\n",
       " 1330,\n",
       " 13410,\n",
       " 10990,\n",
       " 90,\n",
       " 7552,\n",
       " 7552,\n",
       " 14590,\n",
       " 6076,\n",
       " 3150,\n",
       " 622,\n",
       " 412]"
      ]
     },
     "execution_count": 33,
     "metadata": {},
     "output_type": "execute_result"
    }
   ],
   "source": [
    "fitness = getFitness(population)\n",
    "fitness"
   ]
  },
  {
   "cell_type": "markdown",
   "metadata": {},
   "source": [
    "calculate probability and select parents"
   ]
  },
  {
   "cell_type": "code",
   "execution_count": 34,
   "metadata": {},
   "outputs": [],
   "source": [
    "def select_parent(n, pop): # probability, parent selection\n",
    "    # probability\n",
    "    fitness = getFitness(pop)\n",
    "    total_fitness = sum(fitness)\n",
    "    prob = [round(f/total_fitness,3) for f in fitness]\n",
    "    # parent selection\n",
    "    parents = []\n",
    "    for i in range(n):\n",
    "        # roullete wheel, generate a random number\n",
    "        r = random.choice(range(1,1001,1))/1000\n",
    "        lim = 0\n",
    "        # check bin number of r\n",
    "        for j in range(len(prob)):\n",
    "            lim = lim + prob[j]\n",
    "            if r <= lim :#checking the bin\n",
    "                print(j)\n",
    "                parents.append(pop[j])\n",
    "                break\n",
    "    return parents"
   ]
  },
  {
   "cell_type": "code",
   "execution_count": 35,
   "metadata": {},
   "outputs": [
    {
     "name": "stdout",
     "output_type": "stream",
     "text": [
      "0\n",
      "14\n",
      "15\n",
      "13\n",
      "15\n",
      "0\n",
      "0\n",
      "1\n"
     ]
    },
    {
     "data": {
      "text/plain": [
       "[[1, 1, 0, 0, 1, 1, 1],\n",
       " [1, 0, 1, 1, 1, 0, 0],\n",
       " [1, 1, 1, 1, 1, 1, 0],\n",
       " [1, 0, 1, 1, 1, 0, 0],\n",
       " [1, 1, 1, 1, 1, 1, 0],\n",
       " [1, 1, 0, 0, 1, 1, 1],\n",
       " [1, 1, 0, 0, 1, 1, 1],\n",
       " [1, 1, 1, 0, 1, 0, 0]]"
      ]
     },
     "execution_count": 35,
     "metadata": {},
     "output_type": "execute_result"
    }
   ],
   "source": [
    "parents = select_parent(8, population)\n",
    "parents"
   ]
  },
  {
   "cell_type": "markdown",
   "metadata": {},
   "source": [
    "# Step 3: Crossover"
   ]
  },
  {
   "cell_type": "code",
   "execution_count": 36,
   "metadata": {},
   "outputs": [
    {
     "name": "stdout",
     "output_type": "stream",
     "text": [
      "4.0\n"
     ]
    },
    {
     "data": {
      "text/plain": [
       "3"
      ]
     },
     "execution_count": 36,
     "metadata": {},
     "output_type": "execute_result"
    }
   ],
   "source": [
    "# define a method crossover (input is parents set)\n",
    "\n",
    "num_cross = len(parents)/2\n",
    "print(num_cross)\n",
    "\n",
    "# for loop to perform crossovers\n",
    "cp = random.choice(range(1,7))\n",
    "cp\n",
    "# perform crossover\n",
    "\n",
    "# return the offsprings\n"
   ]
  },
  {
   "cell_type": "code",
   "execution_count": 54,
   "metadata": {},
   "outputs": [
    {
     "name": "stdout",
     "output_type": "stream",
     "text": [
      "Parent1: 1101010\n",
      "Parent2: 1101111\n",
      "Crossover Point: 6\n",
      "4.0\n",
      "Crossover point : 3\n",
      "Offspring1: 1101011\n",
      "Offspring2: 1101110\n",
      "\n",
      "\n"
     ]
    }
   ],
   "source": [
    "\n",
    "def Crossover(parent1,parent2,point):\n",
    "    \n",
    "    num_cross = len(parents)/2\n",
    "    print(num_cross)\n",
    "\n",
    "    \n",
    "    cp = random.choice(range(1,7))\n",
    "    cp\n",
    "    \n",
    "    \n",
    "    k = random.randint(0, 15) \n",
    "    print(\"Crossover point :\", k)\n",
    "    \n",
    "    parent1 = '1101010'    \n",
    "    parent2 = '1101111'\n",
    "    \n",
    "    p1,p2 = list(parent1),list(parent2)\n",
    "    \n",
    "    for i in range(point,len(p1)):\n",
    "        \n",
    "        p1[i],p2[i] = p2[i],p1[i]\n",
    "        \n",
    "    p1,p2 = ''.join(p1),''.join(p2) \n",
    "    \n",
    "    return p1,p2\n",
    "\n",
    "\n",
    "parent1 = '1101010'    \n",
    "parent2 = '1101111'\n",
    "\n",
    "print('Parent1:',parent1)\n",
    "print('Parent2:',parent2)\n",
    "point = random.randint(1,len(parent1))\n",
    "\n",
    "print('Crossover Point:',point)\n",
    "offspring1,offspring2 = Crossover(parent1,parent2,point)\n",
    "print('Offspring1:',offspring1)        \n",
    "print('Offspring2:',offspring2)\n",
    "print()\n",
    "print()\n",
    "\n",
    "\n"
   ]
  },
  {
   "cell_type": "code",
   "execution_count": 55,
   "metadata": {},
   "outputs": [
    {
     "name": "stdout",
     "output_type": "stream",
     "text": [
      "Parent3: 1110000\n",
      "Parent4: 1110000\n",
      "Crossover Point: 3\n",
      "4.0\n",
      "Crossover point : 14\n",
      "Offspring3: 1110000\n",
      "Offspring4: 1110000\n",
      "\n",
      "\n"
     ]
    }
   ],
   "source": [
    "def Crossover(parent3,parent4,point):\n",
    "    \n",
    "    num_cross = len(parents)/2\n",
    "    print(num_cross)\n",
    "\n",
    "    \n",
    "    cp = random.choice(range(1,7))\n",
    "    cp\n",
    "    \n",
    "    \n",
    "    k = random.randint(0, 15) \n",
    "    print(\"Crossover point :\", k)\n",
    "    \n",
    "    parent3= '1110000'\n",
    "    parent4= '1110000'\n",
    "    \n",
    "\n",
    "    \n",
    "    p3,p4 = list(parent3),list(parent4)\n",
    "    \n",
    "    for i in range(point,len(p3)):\n",
    "        \n",
    "        p3[i],p4[i] = p4[i],p3[i]\n",
    "        \n",
    "    p3,p4 = ''.join(p3),''.join(p4) \n",
    "    \n",
    "    return p3,p4\n",
    "    \n",
    "    \n",
    "\n",
    "\n",
    "parent3= '1110000'\n",
    "parent4= '1110000'\n",
    "\n",
    "print('Parent3:',parent3)\n",
    "print('Parent4:',parent4)\n",
    "point = random.randint(1,len(parent3))\n",
    "\n",
    "print('Crossover Point:',point)\n",
    "offspring3,offspring4 = Crossover(parent3,parent4,point)\n",
    "print('Offspring3:',offspring3)        \n",
    "print('Offspring4:',offspring4)\n",
    "print()\n",
    "print()\n",
    "    \n"
   ]
  },
  {
   "cell_type": "code",
   "execution_count": 56,
   "metadata": {},
   "outputs": [
    {
     "name": "stdout",
     "output_type": "stream",
     "text": [
      "Parent5: 1100111\n",
      "Parent6: 1110010\n",
      "Crossover Point: 7\n",
      "4.0\n",
      "Crossover point : 14\n",
      "Offspring5: 1100111\n",
      "Offspring6: 1110010\n",
      "\n",
      "\n"
     ]
    }
   ],
   "source": [
    "def Crossover(parent5,parent6,point):\n",
    "    \n",
    "    num_cross = len(parents)/2\n",
    "    print(num_cross)\n",
    "\n",
    "    \n",
    "    cp = random.choice(range(1,7))\n",
    "    cp\n",
    "    \n",
    "    \n",
    "    k = random.randint(0, 15) \n",
    "    print(\"Crossover point :\", k)\n",
    "    \n",
    "    \n",
    "    parent5= '1100111'\n",
    "    parent6=  '1110010'\n",
    "    \n",
    "    p5,p6 = list(parent5),list(parent6)\n",
    "    for i in range(point,len(p5)):\n",
    "        \n",
    "        p5[i],p6[i] = p6[i],p5[i]\n",
    "        \n",
    "    p5,p6 = ''.join(p5),''.join(p6) \n",
    "    \n",
    "    return p5,p6\n",
    "\n",
    "        \n",
    "print('Parent5:',parent5)\n",
    "print('Parent6:',parent6)\n",
    "point = random.randint(1,len(parent5))\n",
    "\n",
    "print('Crossover Point:',point)\n",
    "offspring5,offspring6 = Crossover(parent5,parent6,point)\n",
    "print('Offspring5:',offspring5)        \n",
    "print('Offspring6:',offspring6)\n",
    "print()\n",
    "print()\n",
    "    "
   ]
  },
  {
   "cell_type": "code",
   "execution_count": 57,
   "metadata": {},
   "outputs": [
    {
     "name": "stdout",
     "output_type": "stream",
     "text": [
      "Parent7: 0110010\n",
      "Parent8: 1100111\n",
      "Crossover Point: 5\n",
      "4.0\n",
      "Crossover point : 14\n",
      "Offspring7: 0110011\n",
      "Offspring8: 1100110\n"
     ]
    }
   ],
   "source": [
    "def Crossover(parent7,parent8,point):\n",
    "    \n",
    "    num_cross = len(parents)/2\n",
    "    print(num_cross)\n",
    "\n",
    "    \n",
    "    cp = random.choice(range(1,7))\n",
    "    cp\n",
    "    \n",
    "    \n",
    "    k = random.randint(0, 15) \n",
    "    print(\"Crossover point :\", k)\n",
    "    \n",
    "    \n",
    "    parent7=  '0110010'\n",
    "    parent8=  '1100111'\n",
    "\n",
    "    \n",
    "    p7,p8 = list(parent7),list(parent8)\n",
    "    \n",
    "    for i in range(point,len(p7)):\n",
    "        \n",
    "        p7[i],p8[i] = p8[i],p7[i]\n",
    "        \n",
    "    p7,p8 = ''.join(p7),''.join(p8) \n",
    "    \n",
    "    return p7,p8\n",
    " \n",
    "parent7=  '0110010'\n",
    "parent8=  '1100111'\n",
    "\n",
    "print('Parent7:',parent7)\n",
    "print('Parent8:',parent8)\n",
    "point = random.randint(1,len(parent7))\n",
    "\n",
    "print('Crossover Point:',point)\n",
    "offspring7,offspring8 = Crossover(parent7,parent8,point)\n",
    "print('Offspring7:',offspring7)        \n",
    "print('Offspring8:',offspring8)"
   ]
  },
  {
   "cell_type": "markdown",
   "metadata": {},
   "source": [
    "# MUTATION"
   ]
  },
  {
   "cell_type": "code",
   "execution_count": null,
   "metadata": {},
   "outputs": [],
   "source": []
  },
  {
   "cell_type": "code",
   "execution_count": null,
   "metadata": {},
   "outputs": [],
   "source": []
  },
  {
   "cell_type": "markdown",
   "metadata": {},
   "source": [
    "# Step 4: Select Survivor\n",
    "The selected survivors (solutions) will be added to population"
   ]
  },
  {
   "cell_type": "markdown",
   "metadata": {},
   "source": [
    "Select top 2 offspring based on fitness value and add them to population."
   ]
  },
  {
   "cell_type": "markdown",
   "metadata": {},
   "source": [
    "Repeat Step 2 to 4 for further iterations"
   ]
  },
  {
   "cell_type": "code",
   "execution_count": 58,
   "metadata": {},
   "outputs": [],
   "source": [
    "# define a method to select top offsprings (input offsprings, top)\n"
   ]
  },
  {
   "cell_type": "code",
   "execution_count": 91,
   "metadata": {},
   "outputs": [
    {
     "data": {
      "text/plain": [
       "[4, 3, 2, 1, 0]"
      ]
     },
     "execution_count": 91,
     "metadata": {},
     "output_type": "execute_result"
    }
   ],
   "source": [
    "[i for i in range(4,-1,-1)]"
   ]
  },
  {
   "cell_type": "code",
   "execution_count": 92,
   "metadata": {},
   "outputs": [],
   "source": [
    "def getFitness(p): # p is the whole population\n",
    "    f = [] # to store fitness values\n",
    "    for sol in p:\n",
    "        d = 0 # decimel value\n",
    "        b = len(sol)\n",
    "        for i in range(b-1,-1,-1): # binary to decimel\n",
    "            d = d + sol[i]*2**(b-1-i)\n",
    "        f.append(d**2 - 11*d + 100) # fitness function\n",
    "    return f"
   ]
  },
  {
   "cell_type": "code",
   "execution_count": 93,
   "metadata": {},
   "outputs": [
    {
     "data": {
      "text/plain": [
       "[9576,\n",
       " 12280,\n",
       " 3730,\n",
       " 126,\n",
       " 826,\n",
       " 3262,\n",
       " 2422,\n",
       " 5040,\n",
       " 2722,\n",
       " 1330,\n",
       " 13410,\n",
       " 10990,\n",
       " 90,\n",
       " 7552,\n",
       " 7552,\n",
       " 14590,\n",
       " 6076,\n",
       " 3150,\n",
       " 622,\n",
       " 412]"
      ]
     },
     "execution_count": 93,
     "metadata": {},
     "output_type": "execute_result"
    }
   ],
   "source": [
    "fitness = getFitness(population)\n",
    "fitness"
   ]
  },
  {
   "cell_type": "code",
   "execution_count": 98,
   "metadata": {},
   "outputs": [],
   "source": [
    "def select_parent(n, pop): # probability, parent selection\n",
    "    # probability\n",
    "    fitness = getFitness(pop)\n",
    "    total_fitness = sum(fitness)\n",
    "    prob = [round(f/total_fitness,3) for f in fitness]\n",
    "    # parent selection\n",
    "    parents = []\n",
    "    for i in range(n):\n",
    "        # roullete wheel, generate a random number\n",
    "        r = random.choice(range(1,1001,1))/1000\n",
    "        lim = 0\n",
    "        # check bin number of r\n",
    "        for j in range(len(prob)):\n",
    "            lim = lim + prob[j]\n",
    "            if r <= lim :#checking the bin\n",
    "                print(j)\n",
    "                parents.append(pop[j])\n",
    "                break\n",
    "    return parents"
   ]
  },
  {
   "cell_type": "code",
   "execution_count": 99,
   "metadata": {},
   "outputs": [
    {
     "name": "stdout",
     "output_type": "stream",
     "text": [
      "1\n",
      "0\n",
      "14\n",
      "8\n",
      "11\n",
      "16\n",
      "11\n",
      "6\n"
     ]
    },
    {
     "data": {
      "text/plain": [
       "[[1, 1, 1, 0, 1, 0, 0],\n",
       " [1, 1, 0, 0, 1, 1, 1],\n",
       " [1, 0, 1, 1, 1, 0, 0],\n",
       " [0, 1, 1, 1, 0, 0, 1],\n",
       " [1, 1, 0, 1, 1, 1, 0],\n",
       " [1, 0, 1, 0, 0, 1, 1],\n",
       " [1, 1, 0, 1, 1, 1, 0],\n",
       " [0, 1, 1, 0, 1, 1, 0]]"
      ]
     },
     "execution_count": 99,
     "metadata": {},
     "output_type": "execute_result"
    }
   ],
   "source": [
    "parents = select_parent(8, population)\n",
    "parents"
   ]
  },
  {
   "cell_type": "code",
   "execution_count": 103,
   "metadata": {},
   "outputs": [],
   "source": [
    "parentTOP1='1011100'\n",
    "parentTOP2='1010011'"
   ]
  },
  {
   "cell_type": "code",
   "execution_count": 104,
   "metadata": {},
   "outputs": [
    {
     "name": "stdout",
     "output_type": "stream",
     "text": [
      "ParentTOP1: 1011100\n",
      "ParentTOP2: 1010011\n",
      "Crossover Point: 6\n",
      "4.0\n",
      "Crossover point : 6\n",
      "OffspringTOP1: 1011101\n",
      "OffspringTOP2: 1010010\n",
      "\n",
      "\n"
     ]
    }
   ],
   "source": [
    "def Crossover(parent7,parent8,point):\n",
    "    \n",
    "    num_cross = len(parents)/2\n",
    "    print(num_cross)\n",
    "\n",
    "    \n",
    "    cp = random.choice(range(1,7))\n",
    "    cp\n",
    "    \n",
    "    \n",
    "    k = random.randint(0, 15) \n",
    "    print(\"Crossover point :\", k)\n",
    "\n",
    "    pT1,pT2 = list(parentTOP1),list(parentTOP2)\n",
    "\n",
    "    for i in range(point,len(pT1)):\n",
    "        \n",
    "        pT1[i],pT2[i] = pT2[i],pT1[i]\n",
    "        \n",
    "    pT1,pT2 = ''.join(pT1),''.join(pT2) \n",
    "    \n",
    "    return pT1,pT2\n",
    "\n",
    "parentTOP1='1011100'\n",
    "parentTOP2='1010011'\n",
    "\n",
    "print('ParentTOP1:',parentTOP1)\n",
    "print('ParentTOP2:',parentTOP2)\n",
    "point = random.randint(1,len(parentTOP1))\n",
    "\n",
    "print('Crossover Point:',point)\n",
    "offspringTOP1,offspringTOP2 = Crossover(parentTOP1,parentTOP2,point)\n",
    "print('OffspringTOP1:',offspringTOP1)        \n",
    "print('OffspringTOP2:',offspringTOP2)\n",
    "print()\n",
    "print()\n"
   ]
  },
  {
   "cell_type": "code",
   "execution_count": 110,
   "metadata": {},
   "outputs": [
    {
     "ename": "SyntaxError",
     "evalue": "invalid syntax (<ipython-input-110-0d74c8c99ef0>, line 1)",
     "output_type": "error",
     "traceback": [
      "\u001b[1;36m  File \u001b[1;32m\"<ipython-input-110-0d74c8c99ef0>\"\u001b[1;36m, line \u001b[1;32m1\u001b[0m\n\u001b[1;33m    def parrents(offspringTOP1,offspringTOP2)\u001b[0m\n\u001b[1;37m                                             ^\u001b[0m\n\u001b[1;31mSyntaxError\u001b[0m\u001b[1;31m:\u001b[0m invalid syntax\n"
     ]
    }
   ],
   "source": [
    "def parrents(offspringTOP1,offspringTOP2)\n",
    "    offspringTOP1='1011101'\n",
    "    offspringTOP2='1010010'\n",
    "   \n",
    "\n",
    "    parrents.append(offspringTOP1)"
   ]
  },
  {
   "cell_type": "code",
   "execution_count": null,
   "metadata": {},
   "outputs": [],
   "source": []
  }
 ],
 "metadata": {
  "kernelspec": {
   "display_name": "Python 3",
   "language": "python",
   "name": "python3"
  },
  "language_info": {
   "codemirror_mode": {
    "name": "ipython",
    "version": 3
   },
   "file_extension": ".py",
   "mimetype": "text/x-python",
   "name": "python",
   "nbconvert_exporter": "python",
   "pygments_lexer": "ipython3",
   "version": "3.8.8"
  }
 },
 "nbformat": 4,
 "nbformat_minor": 4
}
