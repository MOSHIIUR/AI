{
 "cells": [
  {
   "cell_type": "markdown",
   "metadata": {},
   "source": [
    "### Problem: Maximie f(x) = x^2-11x+100 when x = 0 to 127"
   ]
  },
  {
   "cell_type": "markdown",
   "metadata": {},
   "source": [
    "Representation or ecoding solution:\n",
    "x can be represented using 7 bits binary number."
   ]
  },
  {
   "cell_type": "markdown",
   "metadata": {},
   "source": [
    "# Step 1: Initialize Population"
   ]
  },
  {
   "cell_type": "code",
   "execution_count": 1,
   "metadata": {
    "_cell_guid": "b1076dfc-b9ad-4769-8c92-a6c4dae69d19",
    "_uuid": "8f2839f25d086af736a60e9eeb907d3b93b6e0e5"
   },
   "outputs": [],
   "source": [
    "import random\n",
    "def initPopulation(b, n = 10): # n is the number of solutions, b is the length\n",
    "    p = [] # to store solution set/ initial population\n",
    "    for i in range(n):\n",
    "        s = [] # to store a solution as a list\n",
    "        for j in range(b):\n",
    "            s.append(random.choice([0,1]))    \n",
    "        # avoid zero\n",
    "        p.append(s)\n",
    "    return p"
   ]
  },
  {
   "cell_type": "code",
   "execution_count": 2,
   "metadata": {},
   "outputs": [
    {
     "data": {
      "text/plain": [
       "[[1, 1, 1, 1, 0, 0, 1],\n",
       " [1, 1, 1, 1, 0, 0, 1],\n",
       " [1, 1, 1, 1, 0, 0, 1],\n",
       " [0, 0, 0, 0, 1, 0, 0],\n",
       " [0, 1, 1, 0, 0, 1, 0],\n",
       " [1, 1, 1, 1, 0, 0, 0],\n",
       " [0, 1, 1, 1, 1, 0, 0],\n",
       " [0, 0, 0, 0, 0, 1, 1],\n",
       " [0, 1, 0, 0, 1, 1, 0],\n",
       " [1, 0, 0, 0, 1, 1, 1],\n",
       " [1, 0, 1, 0, 1, 1, 1],\n",
       " [1, 1, 0, 0, 0, 1, 1],\n",
       " [0, 0, 0, 1, 1, 0, 1],\n",
       " [1, 1, 0, 1, 1, 0, 1],\n",
       " [1, 1, 1, 1, 1, 0, 0],\n",
       " [0, 1, 1, 0, 1, 1, 1],\n",
       " [0, 1, 0, 0, 1, 1, 0],\n",
       " [0, 1, 0, 1, 1, 0, 0],\n",
       " [1, 1, 0, 0, 0, 1, 0],\n",
       " [1, 0, 1, 1, 1, 0, 0]]"
      ]
     },
     "execution_count": 2,
     "metadata": {},
     "output_type": "execute_result"
    }
   ],
   "source": [
    "population = initPopulation(7,20)\n",
    "population"
   ]
  },
  {
   "cell_type": "markdown",
   "metadata": {},
   "source": [
    "# Step 2: Reproduction or Parent Selection"
   ]
  },
  {
   "cell_type": "markdown",
   "metadata": {},
   "source": [
    "Fitness Calculation"
   ]
  },
  {
   "cell_type": "code",
   "execution_count": 3,
   "metadata": {},
   "outputs": [
    {
     "data": {
      "text/plain": [
       "[4, 3, 2, 1, 0]"
      ]
     },
     "execution_count": 3,
     "metadata": {},
     "output_type": "execute_result"
    }
   ],
   "source": [
    "[i for i in range(4,-1,-1)]"
   ]
  },
  {
   "cell_type": "code",
   "execution_count": 4,
   "metadata": {},
   "outputs": [],
   "source": [
    "def getFitness(p): # p is the whole population\n",
    "    f = [] # to store fitness values\n",
    "    for sol in p:\n",
    "        d = 0 # decimel value\n",
    "        b = len(sol)\n",
    "        for i in range(b-1,-1,-1): # binary to decimel\n",
    "            d = d + sol[i]*2**(b-1-i)\n",
    "        f.append(d**2 - 11*d + 100) # fitness function\n",
    "    return f"
   ]
  },
  {
   "cell_type": "code",
   "execution_count": 5,
   "metadata": {},
   "outputs": [
    {
     "data": {
      "text/plain": [
       "[13410,\n",
       " 13410,\n",
       " 13410,\n",
       " 72,\n",
       " 2050,\n",
       " 13180,\n",
       " 3040,\n",
       " 76,\n",
       " 1126,\n",
       " 4360,\n",
       " 6712,\n",
       " 8812,\n",
       " 126,\n",
       " 10782,\n",
       " 14112,\n",
       " 2520,\n",
       " 1126,\n",
       " 1552,\n",
       " 8626,\n",
       " 7552]"
      ]
     },
     "execution_count": 5,
     "metadata": {},
     "output_type": "execute_result"
    }
   ],
   "source": [
    "fitness = getFitness(population)\n",
    "fitness"
   ]
  },
  {
   "cell_type": "markdown",
   "metadata": {},
   "source": [
    "calculate probability and select parents"
   ]
  },
  {
   "cell_type": "code",
   "execution_count": 6,
   "metadata": {},
   "outputs": [],
   "source": [
    "def select_parent(n, pop): # probability, parent selection\n",
    "    # probability\n",
    "    fitness = getFitness(pop)\n",
    "    total_fitness = sum(fitness)\n",
    "    prob = [round(f/total_fitness,3) for f in fitness]\n",
    "    # parent selection\n",
    "    parents = []\n",
    "    for i in range(n):\n",
    "        # roullete wheel, generate a random number\n",
    "        r = random.choice(range(1,1001,1))/1000\n",
    "        lim = 0\n",
    "        # check bin number of r\n",
    "        for j in range(len(prob)):\n",
    "            lim = lim + prob[j]\n",
    "            if r <= lim :#checking the bin\n",
    "                print(j)\n",
    "                parents.append(pop[j])\n",
    "                break\n",
    "    return parents"
   ]
  },
  {
   "cell_type": "code",
   "execution_count": 7,
   "metadata": {},
   "outputs": [
    {
     "name": "stdout",
     "output_type": "stream",
     "text": [
      "6\n",
      "5\n",
      "19\n",
      "1\n",
      "1\n",
      "15\n",
      "1\n",
      "19\n"
     ]
    },
    {
     "data": {
      "text/plain": [
       "[[0, 1, 1, 1, 1, 0, 0],\n",
       " [1, 1, 1, 1, 0, 0, 0],\n",
       " [1, 0, 1, 1, 1, 0, 0],\n",
       " [1, 1, 1, 1, 0, 0, 1],\n",
       " [1, 1, 1, 1, 0, 0, 1],\n",
       " [0, 1, 1, 0, 1, 1, 1],\n",
       " [1, 1, 1, 1, 0, 0, 1],\n",
       " [1, 0, 1, 1, 1, 0, 0]]"
      ]
     },
     "execution_count": 7,
     "metadata": {},
     "output_type": "execute_result"
    }
   ],
   "source": [
    "parents = select_parent(8, population)\n",
    "parents"
   ]
  },
  {
   "cell_type": "markdown",
   "metadata": {},
   "source": [
    "# Step 3: Crossover"
   ]
  },
  {
   "cell_type": "code",
   "execution_count": 8,
   "metadata": {},
   "outputs": [],
   "source": [
    "# define a method crossover (input is parents set)\n",
    "import random\n",
    "\n",
    "def crossover(parents):\n",
    "    list1 =[]\n",
    "    list2 = []\n",
    "\n",
    "    offspring = []\n",
    "    counter=1\n",
    "    cp = random.choice(range(1,7)) #crossoverPoint\n",
    "    print(\"crossover Point: \",cp)\n",
    "\n",
    "\n",
    "    \n",
    "# for loop to perform crossovers\n",
    "    for i in range (len(parents)):\n",
    "        sublist= parents.pop()\n",
    "        \n",
    "        if counter%2==0:\n",
    "\n",
    "            #split the 2nd string of the parents and add it with the 1st string split parts\n",
    "            #performing crossover\n",
    "            list1 = list1 + sublist[cp:]\n",
    "            list2 = list2 + sublist[:cp]\n",
    "            \n",
    "            #storing the crossover in a list\n",
    "            offspring.append(list1)\n",
    "            offspring.append(list2)\n",
    "            counter+=1\n",
    "        \n",
    "        else:\n",
    "            #split the 1st string of the parents stored in sublist\n",
    "            list1 = sublist[:cp]\n",
    "            list2 = sublist[cp:]\n",
    "            \n",
    "            print\n",
    "            counter+=1\n",
    "\n",
    "            \n",
    "    return offspring"
   ]
  },
  {
   "cell_type": "code",
   "execution_count": 9,
   "metadata": {},
   "outputs": [
    {
     "name": "stdout",
     "output_type": "stream",
     "text": [
      "crossover Point:  6\n"
     ]
    },
    {
     "data": {
      "text/plain": [
       "[[1, 0, 1, 1, 1, 0, 1],\n",
       " [0, 1, 1, 1, 1, 0, 0],\n",
       " [0, 1, 1, 0, 1, 1, 1],\n",
       " [1, 1, 1, 1, 1, 0, 0],\n",
       " [1, 1, 1, 1, 0, 0, 0],\n",
       " [1, 1, 0, 1, 1, 1, 0],\n",
       " [1, 1, 1, 1, 0, 0, 0],\n",
       " [0, 0, 1, 1, 1, 1, 0]]"
      ]
     },
     "execution_count": 9,
     "metadata": {},
     "output_type": "execute_result"
    }
   ],
   "source": [
    "offspring = crossover(parents)\n",
    "offspring"
   ]
  },
  {
   "attachments": {
    "1.png": {
     "image/png": "[encoded data removed]"
    }
   },
   "cell_type": "markdown",
   "metadata": {},
   "source": [
    "# Example\n",
    "![1.png](attachment:1.png)"
   ]
  },
  {
   "cell_type": "markdown",
   "metadata": {},
   "source": [
    "# Step 4: Select Survivor\n",
    "The selected survivors (solutions) will be added to population"
   ]
  },
  {
   "cell_type": "markdown",
   "metadata": {},
   "source": [
    "Select top 2 offspring based on fitness value and add them to population."
   ]
  },
  {
   "cell_type": "markdown",
   "metadata": {},
   "source": [
    "Repeat Step 2 to 4 for further iterations"
   ]
  },
  {
   "cell_type": "code",
   "execution_count": 10,
   "metadata": {},
   "outputs": [],
   "source": [
    "# define a method to select top offsprings (input offsprings, top)\n",
    "\n",
    "def getTOPoffspring(offspring):\n",
    "    initial = []\n",
    "    initial.append(offspring)\n",
    "    fitness = []\n",
    "    survivor = []\n",
    "    value = 0 ##total decimal value of a single string of sublist\n",
    "    \n",
    "    for i in range(len(offspring)):\n",
    "        sublist = offspring.pop()\n",
    "        \n",
    "        for j in range(len(sublist)):\n",
    "            digit = sublist.pop()\n",
    "            \n",
    "            if digit == 1:\n",
    "                value = value + pow(2, j)\n",
    "                \n",
    "        fitness.append((pow(value, 2) - 11*value + 100))\n",
    "        value = 0\n",
    "    \n",
    "    \n",
    "    return fitness\n"
   ]
  },
  {
   "cell_type": "code",
   "execution_count": 11,
   "metadata": {},
   "outputs": [
    {
     "data": {
      "text/plain": [
       "[670, 13180, 10990, 13180, 14112, 2520, 3040, 7726]"
      ]
     },
     "execution_count": 11,
     "metadata": {},
     "output_type": "execute_result"
    }
   ],
   "source": [
    "\n",
    "number_list = getTOPoffspring(offspring)\n",
    "number_list"
   ]
  },
  {
   "cell_type": "markdown",
   "metadata": {},
   "source": [
    "# we have found the fitness value(number_list) for the offspring, among them we're gonna find two offsrping with highest fitness value"
   ]
  },
  {
   "cell_type": "code",
   "execution_count": 12,
   "metadata": {},
   "outputs": [
    {
     "name": "stdout",
     "output_type": "stream",
     "text": [
      "Survivor:  [[1, 1, 1, 0, 0, 0, 1], [1, 1, 0, 1, 0, 1, 0]]\n"
     ]
    },
    {
     "data": {
      "text/plain": [
       "[[1, 1, 1, 1, 0, 0, 1],\n",
       " [1, 1, 1, 1, 0, 0, 1],\n",
       " [1, 1, 1, 1, 0, 0, 1],\n",
       " [0, 0, 0, 0, 1, 0, 0],\n",
       " [0, 1, 1, 0, 0, 1, 0],\n",
       " [1, 1, 1, 1, 0, 0, 0],\n",
       " [0, 1, 1, 1, 1, 0, 0],\n",
       " [0, 0, 0, 0, 0, 1, 1],\n",
       " [0, 1, 0, 0, 1, 1, 0],\n",
       " [1, 0, 0, 0, 1, 1, 1],\n",
       " [1, 0, 1, 0, 1, 1, 1],\n",
       " [1, 1, 0, 0, 0, 1, 1],\n",
       " [0, 0, 0, 1, 1, 0, 1],\n",
       " [1, 1, 0, 1, 1, 0, 1],\n",
       " [1, 1, 1, 1, 1, 0, 0],\n",
       " [0, 1, 1, 0, 1, 1, 1],\n",
       " [0, 1, 0, 0, 1, 1, 0],\n",
       " [0, 1, 0, 1, 1, 0, 0],\n",
       " [1, 1, 0, 0, 0, 1, 0],\n",
       " [1, 0, 1, 1, 1, 0, 0],\n",
       " [1, 1, 1, 0, 0, 0, 1],\n",
       " [1, 1, 0, 1, 0, 1, 0]]"
      ]
     },
     "execution_count": 12,
     "metadata": {},
     "output_type": "execute_result"
    }
   ],
   "source": [
    "offspring=[[1, 1, 1, 0, 0, 0, 1],\n",
    " [1, 1, 0, 1, 0, 1, 0],\n",
    " [1, 1, 1, 0, 1, 0, 1],\n",
    " [1, 1, 1, 0, 1, 0, 1],\n",
    " [1, 1, 1, 0, 0, 0, 1],\n",
    " [1, 1, 1, 0, 1, 0, 1],\n",
    " [1, 1, 1, 0, 1, 0, 1],\n",
    " [0, 1, 0, 1, 1, 1, 1]]\n",
    "\n",
    "new = []\n",
    "\n",
    "\n",
    "for i in range(len(number_list)):\n",
    "    max_value = max(number_list)\n",
    "    max_index = number_list.index(max_value)\n",
    "    \n",
    "    if(len(new)<=1): #max survivor is 2 \n",
    "        new.append(offspring[max_index])\n",
    "        number_list.pop(max_index)\n",
    "    \n",
    "    else:\n",
    "        break\n",
    "    \n",
    "        \n",
    "    \n",
    "print(\"Survivor: \", new) #finding the survivor list\n",
    "\n",
    "for i in range(len(new)):\n",
    "    population.append(new[i]) #adding to to the popukation one by one\n",
    "population\n",
    "        \n",
    "        \n",
    "    "
   ]
  },
  {
   "cell_type": "code",
   "execution_count": null,
   "metadata": {},
   "outputs": [],
   "source": []
  },
  {
   "cell_type": "code",
   "execution_count": null,
   "metadata": {},
   "outputs": [],
   "source": []
  },
  {
   "cell_type": "code",
   "execution_count": null,
   "metadata": {},
   "outputs": [],
   "source": []
  },
  {
   "cell_type": "code",
   "execution_count": null,
   "metadata": {},
   "outputs": [],
   "source": []
  }
 ],
 "metadata": {
  "kernelspec": {
   "display_name": "Python 3",
   "language": "python",
   "name": "python3"
  },
  "language_info": {
   "codemirror_mode": {
    "name": "ipython",
    "version": 3
   },
   "file_extension": ".py",
   "mimetype": "text/x-python",
   "name": "python",
   "nbconvert_exporter": "python",
   "pygments_lexer": "ipython3",
   "version": "3.8.8"
  }
 },
 "nbformat": 4,
 "nbformat_minor": 4
}
