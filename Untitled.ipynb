{
 "cells": [
  {
   "cell_type": "code",
   "execution_count": 21,
   "id": "a41948d4",
   "metadata": {},
   "outputs": [],
   "source": [
    "romanian_map = {\n",
    "    'Arad': {'Sibiu':140, 'Zerind':75, 'Timisoara':118},\n",
    "    'Zerind': {'Arad':75, 'Oradea':71},\n",
    "    'Oradea': {'Zerind':71, 'Sibiu': 151},\n",
    "    'Sibiu': {'Arad':140, 'Oradea':151, 'Fagaras':99, 'Rimnicu':80},\n",
    "    'Timisoara': {'Arad': 118, 'Lugoj':111},\n",
    "    'Lugoj': {'Timisoara':111, 'Mehadia':70},\n",
    "    'Mehadia': {'Lugoj': 70, 'Drobeta':75},\n",
    "    'Drobeta': {'Mehadia':75, 'Craiova':120},\n",
    "    'Craiova': {'Drobeta': 120, 'Rimnicu': 146, 'Pitesti': 138},\n",
    "    'Rimnicu': {'Sibiu': 80, 'Craiova': 146, 'Pitesti': 97},\n",
    "    'Fagaras': {'Sibiu':99, 'Bucharest':211},\n",
    "    'Pitesti': {'Rimnicu': 97, 'Craiova':138, 'Bucharest':101},\n",
    "    'Bucharest': {'Fagaras':211, 'Pitesti': 101, 'Giurgiu':90, 'Urziceni':85},\n",
    "    'Giurgiu': {'Bucharest': 90},\n",
    "    'Urziceni': {'Bucharest': 85, 'Vaslui':142, 'Hirsova':98},\n",
    "    'Hirsova': {'Urziceni':98, 'Eforie':86},\n",
    "    'Eforie': {'Hirsova':86},\n",
    "    'Vaslui': {'Iasi': 92, 'Urziceni':142},\n",
    "    'Iasi': {'Vaslui':92, 'Neamt': 87},\n",
    "    'Neamt': {'Iasi':87}\n",
    "}"
   ]
  },
  {
   "cell_type": "code",
   "execution_count": 22,
   "id": "974e62bc",
   "metadata": {},
   "outputs": [
    {
     "name": "stdout",
     "output_type": "stream",
     "text": [
      "{'Sibiu': 140, 'Zerind': 75, 'Timisoara': 118}\n"
     ]
    }
   ],
   "source": [
    "print(romanian_map[\"Arad\"])"
   ]
  },
  {
   "cell_type": "code",
   "execution_count": 23,
   "id": "74bec959",
   "metadata": {},
   "outputs": [
    {
     "data": {
      "text/plain": [
       "dict_keys(['Arad', 'Zerind', 'Oradea', 'Sibiu', 'Timisoara', 'Lugoj', 'Mehadia', 'Drobeta', 'Craiova', 'Rimnicu', 'Fagaras', 'Pitesti', 'Bucharest', 'Giurgiu', 'Urziceni', 'Hirsova', 'Eforie', 'Vaslui', 'Iasi', 'Neamt'])"
      ]
     },
     "execution_count": 23,
     "metadata": {},
     "output_type": "execute_result"
    }
   ],
   "source": [
    "romanian_map.keys()"
   ]
  },
  {
   "cell_type": "code",
   "execution_count": 24,
   "id": "7fd862e2",
   "metadata": {},
   "outputs": [
    {
     "data": {
      "text/plain": [
       "dict_values([{'Sibiu': 140, 'Zerind': 75, 'Timisoara': 118}, {'Arad': 75, 'Oradea': 71}, {'Zerind': 71, 'Sibiu': 151}, {'Arad': 140, 'Oradea': 151, 'Fagaras': 99, 'Rimnicu': 80}, {'Arad': 118, 'Lugoj': 111}, {'Timisoara': 111, 'Mehadia': 70}, {'Lugoj': 70, 'Drobeta': 75}, {'Mehadia': 75, 'Craiova': 120}, {'Drobeta': 120, 'Rimnicu': 146, 'Pitesti': 138}, {'Sibiu': 80, 'Craiova': 146, 'Pitesti': 97}, {'Sibiu': 99, 'Bucharest': 211}, {'Rimnicu': 97, 'Craiova': 138, 'Bucharest': 101}, {'Fagaras': 211, 'Pitesti': 101, 'Giurgiu': 90, 'Urziceni': 85}, {'Bucharest': 90}, {'Bucharest': 85, 'Vaslui': 142, 'Hirsova': 98}, {'Urziceni': 98, 'Eforie': 86}, {'Hirsova': 86}, {'Iasi': 92, 'Urziceni': 142}, {'Vaslui': 92, 'Neamt': 87}, {'Iasi': 87}])"
      ]
     },
     "execution_count": 24,
     "metadata": {},
     "output_type": "execute_result"
    }
   ],
   "source": [
    "romanian_map.values()"
   ]
  },
  {
   "cell_type": "code",
   "execution_count": 25,
   "id": "31c6ed62",
   "metadata": {},
   "outputs": [
    {
     "data": {
      "text/plain": [
       "dict_keys(['Sibiu', 'Zerind', 'Timisoara'])"
      ]
     },
     "execution_count": 25,
     "metadata": {},
     "output_type": "execute_result"
    }
   ],
   "source": [
    "romanian_map[\"Arad\"].keys()"
   ]
  },
  {
   "cell_type": "code",
   "execution_count": 26,
   "id": "c3699bc1",
   "metadata": {},
   "outputs": [
    {
     "data": {
      "text/plain": [
       "dict_values([140, 75, 118])"
      ]
     },
     "execution_count": 26,
     "metadata": {},
     "output_type": "execute_result"
    }
   ],
   "source": [
    "romanian_map[\"Arad\"].values()"
   ]
  },
  {
   "cell_type": "code",
   "execution_count": 34,
   "id": "80e9d5b1",
   "metadata": {},
   "outputs": [
    {
     "data": {
      "text/plain": [
       "118"
      ]
     },
     "execution_count": 34,
     "metadata": {},
     "output_type": "execute_result"
    }
   ],
   "source": [
    "romanian_map['Arad']['Timisoara']"
   ]
  },
  {
   "cell_type": "code",
   "execution_count": 48,
   "id": "f96f1ddc",
   "metadata": {},
   "outputs": [],
   "source": [
    "def bfs(startingNode):\n",
    "   \n",
    "    node = {'City':startingNode,'Distance':0, 'Path':[startingNode]} #dictionry names 'node'\n",
    "    print(node)\n",
    "\n",
    "    node['Path'] + ['Sibiu']\n",
    "    \n",
    "\n"
   ]
  },
  {
   "cell_type": "code",
   "execution_count": 49,
   "id": "3d1c27ed",
   "metadata": {},
   "outputs": [
    {
     "name": "stdout",
     "output_type": "stream",
     "text": [
      "{'City': 'Arad', 'Distance': 0, 'Path': ['Arad']}\n"
     ]
    }
   ],
   "source": [
    "bfs(\"Arad\")"
   ]
  },
  {
   "cell_type": "code",
   "execution_count": 43,
   "id": "6758d62c",
   "metadata": {},
   "outputs": [
    {
     "data": {
      "text/plain": [
       "dict_keys(['Sibiu', 'Zerind', 'Timisoara'])"
      ]
     },
     "execution_count": 43,
     "metadata": {},
     "output_type": "execute_result"
    }
   ],
   "source": [
    "romanian_map[\"Arad\"].keys()"
   ]
  },
  {
   "cell_type": "code",
   "execution_count": 44,
   "id": "1b86d28c",
   "metadata": {},
   "outputs": [
    {
     "data": {
      "text/plain": [
       "140"
      ]
     },
     "execution_count": 44,
     "metadata": {},
     "output_type": "execute_result"
    }
   ],
   "source": [
    "#finding the values in between 2 keys\n",
    "romanian_map[\"Arad\"][\"Sibiu\"] "
   ]
  },
  {
   "cell_type": "code",
   "execution_count": null,
   "id": "06ed7641",
   "metadata": {},
   "outputs": [],
   "source": []
  }
 ],
 "metadata": {
  "kernelspec": {
   "display_name": "Python 3",
   "language": "python",
   "name": "python3"
  },
  "language_info": {
   "codemirror_mode": {
    "name": "ipython",
    "version": 3
   },
   "file_extension": ".py",
   "mimetype": "text/x-python",
   "name": "python",
   "nbconvert_exporter": "python",
   "pygments_lexer": "ipython3",
   "version": "3.8.8"
  }
 },
 "nbformat": 4,
 "nbformat_minor": 5
}
